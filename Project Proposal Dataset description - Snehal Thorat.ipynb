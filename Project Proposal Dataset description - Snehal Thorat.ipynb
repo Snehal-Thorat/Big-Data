{
 "cells": [
  {
   "cell_type": "markdown",
   "metadata": {},
   "source": [
    "# Project proposal report - Snehal Thorat"
   ]
  },
  {
   "cell_type": "markdown",
   "metadata": {},
   "source": [
    "### The following steps have been performed in Jupyter notebook running of EMR/EC2:\n",
    "Spark session - user PySpark3 kernel - your Spark sessions is automaticly set to \"spark\"\n",
    "\n",
    "Read json file and store into Spark Dataframe\n",
    "\n",
    "Create parquet file\n",
    "\n",
    "Create Spark Dataframe and load the s3 parquet file pointing to my s3 bucket created in initial Jupyter notebook\n",
    "\n",
    "Create table poiniting to this Dataframe"
   ]
  },
  {
   "cell_type": "code",
   "execution_count": 1,
   "metadata": {},
   "outputs": [
    {
     "name": "stdout",
     "output_type": "stream",
     "text": [
      "Starting Spark application\n"
     ]
    },
    {
     "data": {
      "text/html": [
       "<table>\n",
       "<tr><th>ID</th><th>YARN Application ID</th><th>Kind</th><th>State</th><th>Spark UI</th><th>Driver log</th><th>Current session?</th></tr><tr><td>0</td><td>application_1554478263417_0001</td><td>pyspark3</td><td>idle</td><td><a target=\"_blank\" href=\"http://ip-172-31-64-184.ec2.internal:20888/proxy/application_1554478263417_0001/\">Link</a></td><td><a target=\"_blank\" href=\"http://ip-172-31-76-23.ec2.internal:8042/node/containerlogs/container_1554478263417_0001_01_000001/livy\">Link</a></td><td>✔</td></tr></table>"
      ],
      "text/plain": [
       "<IPython.core.display.HTML object>"
      ]
     },
     "metadata": {},
     "output_type": "display_data"
    },
    {
     "name": "stdout",
     "output_type": "stream",
     "text": [
      "SparkSession available as 'spark'.\n",
      "\"\\nimport pandas as pd\\n#from IPython.core.display import display, HTML\\n#display(HTML('<h1>Hello, world!</h1>'))\\n\""
     ]
    }
   ],
   "source": [
    "from pyspark.sql.functions import *\n",
    "from pyspark.sql.types import *\n",
    "from pyspark.sql import *\n",
    "\n",
    "\"\"\"\n",
    "import pandas as pd\n",
    "#from IPython.core.display import display, HTML\n",
    "#display(HTML('<h1>Hello, world!</h1>'))\n",
    "\"\"\""
   ]
  },
  {
   "cell_type": "markdown",
   "metadata": {},
   "source": [
    "### Show current list of Hive tables"
   ]
  },
  {
   "cell_type": "code",
   "execution_count": 2,
   "metadata": {},
   "outputs": [
    {
     "name": "stdout",
     "output_type": "stream",
     "text": [
      "+--------+---------+-----------+\n",
      "|database|tableName|isTemporary|\n",
      "+--------+---------+-----------+\n",
      "+--------+---------+-----------+"
     ]
    }
   ],
   "source": [
    "spark.sql(\"show tables\").show()"
   ]
  },
  {
   "cell_type": "code",
   "execution_count": 3,
   "metadata": {},
   "outputs": [
    {
     "name": "stdout",
     "output_type": "stream",
     "text": [
      "+--------------+\n",
      "|  databaseName|\n",
      "+--------------+\n",
      "|cust_complains|\n",
      "|       default|\n",
      "+--------------+"
     ]
    }
   ],
   "source": [
    "#spark.sql(\"drop database cust_complains\")\n",
    "spark.sql(\"create database cust_complains\")\n",
    "spark.sql(\"show databases\").show()"
   ]
  },
  {
   "cell_type": "code",
   "execution_count": 4,
   "metadata": {},
   "outputs": [],
   "source": [
    "dfpq = spark.read.parquet(\"s3://snehalpreprocessedfiles/complaints030119.pq/part-00000-b286b6dc-956f-4ff7-8f4e-6ba555b60ed9-c000.snappy.parquet\")"
   ]
  },
  {
   "cell_type": "code",
   "execution_count": 5,
   "metadata": {},
   "outputs": [],
   "source": [
    "dfpq.write.saveAsTable(\"cust_complains.complaints\")"
   ]
  },
  {
   "cell_type": "markdown",
   "metadata": {},
   "source": [
    "## Create table in Hive and Save Data from Spark DataFRame into Hive"
   ]
  },
  {
   "cell_type": "code",
   "execution_count": 7,
   "metadata": {},
   "outputs": [
    {
     "name": "stdout",
     "output_type": "stream",
     "text": [
      "+--------------+----------+-----------+\n",
      "|      database| tableName|isTemporary|\n",
      "+--------------+----------+-----------+\n",
      "|cust_complains|complaints|      false|\n",
      "+--------------+----------+-----------+"
     ]
    }
   ],
   "source": [
    "spark.sql(\"show tables in cust_complains\").show()"
   ]
  },
  {
   "cell_type": "code",
   "execution_count": 8,
   "metadata": {},
   "outputs": [
    {
     "name": "stdout",
     "output_type": "stream",
     "text": [
      "+-------------------------+---------+-------+\n",
      "|col_name                 |data_type|comment|\n",
      "+-------------------------+---------+-------+\n",
      "|company                  |string   |null   |\n",
      "|company_public_response  |string   |null   |\n",
      "|company_response         |string   |null   |\n",
      "|complaint_id             |string   |null   |\n",
      "|complaint_what_happened  |string   |null   |\n",
      "|consumer_consent_provided|string   |null   |\n",
      "|consumer_disputed        |string   |null   |\n",
      "|date_received            |string   |null   |\n",
      "|date_sent_to_company     |string   |null   |\n",
      "|issue                    |string   |null   |\n",
      "|product                  |string   |null   |\n",
      "|state                    |string   |null   |\n",
      "|sub_issue                |string   |null   |\n",
      "|sub_product              |string   |null   |\n",
      "|submitted_via            |string   |null   |\n",
      "|timely                   |string   |null   |\n",
      "|tags                     |string   |null   |\n",
      "|zip_code                 |string   |null   |\n",
      "+-------------------------+---------+-------+"
     ]
    }
   ],
   "source": [
    "#Lets see Hive Table information COLUMN names\n",
    "spark.sql(\"desc cust_complains.complaints\").show(n=100,truncate= False)"
   ]
  },
  {
   "cell_type": "markdown",
   "metadata": {},
   "source": [
    "### Date range: As per the project proposal document used date range from 3/1/2018 (including) to 3/1/2019 (including)"
   ]
  },
  {
   "cell_type": "code",
   "execution_count": 9,
   "metadata": {},
   "outputs": [
    {
     "name": "stdout",
     "output_type": "stream",
     "text": [
      "+-------------------------+-------------------------+-------------------------+-------------------------+\n",
      "|min(date_received)       |max(date_received)       |min(date_sent_to_company)|max(date_sent_to_company)|\n",
      "+-------------------------+-------------------------+-------------------------+-------------------------+\n",
      "|2018-03-01T12:00:00-05:00|2019-03-01T12:00:00-05:00|2018-03-01T12:00:00-05:00|2019-03-28T12:00:00-05:00|\n",
      "+-------------------------+-------------------------+-------------------------+-------------------------+"
     ]
    }
   ],
   "source": [
    "spark.sql(\"SELECT MIN(date_received), MAX(date_received), MIN(date_sent_to_company), MAX(date_sent_to_company) FROM cust_complains.complaints\").show(truncate=False)"
   ]
  },
  {
   "cell_type": "markdown",
   "metadata": {},
   "source": [
    "# Frequency of categorical data & top (20) most occurring values in every column and the contribution of each of those values to that column (in percentage)"
   ]
  },
  {
   "cell_type": "code",
   "execution_count": 9,
   "metadata": {},
   "outputs": [
    {
     "name": "stdout",
     "output_type": "stream",
     "text": [
      "+----------------------------------------------------------------------------+--------------------+------------------+\n",
      "|product                                                                     |Number_of_complaints|Percent_of_Total  |\n",
      "+----------------------------------------------------------------------------+--------------------+------------------+\n",
      "|Credit reporting, credit repair services, or other personal consumer reports|110644              |44.08303119646201 |\n",
      "|Debt collection                                                             |48889               |19.478465277501094|\n",
      "|Credit card or prepaid card                                                 |23881               |9.514721702059843 |\n",
      "|Mortgage                                                                    |23783               |9.475676321765809 |\n",
      "|Checking or savings account                                                 |20987               |8.361687716642097 |\n",
      "|Student loan                                                                |8658                |3.4495398223036773|\n",
      "|Vehicle loan or lease                                                       |5636                |2.245507789154946 |\n",
      "|Money transfer, virtual currency, or money service                          |4305                |1.7152077772022791|\n",
      "|Payday loan, title loan, or personal loan                                   |4207                |1.6761623969082433|\n",
      "+----------------------------------------------------------------------------+--------------------+------------------+"
     ]
    }
   ],
   "source": [
    "spark.sql(\"SELECT product,COUNT(product) Number_of_complaints, COUNT(product)/250990*100 Percent_of_Total FROM cust_complains.complaints GROUP BY product ORDER BY Number_of_complaints DESC\").show(truncate=False)"
   ]
  },
  {
   "cell_type": "code",
   "execution_count": 10,
   "metadata": {},
   "outputs": [
    {
     "name": "stdout",
     "output_type": "stream",
     "text": [
      "+------------------------------------------+--------------------+------------------+\n",
      "|sub_product                               |Number_of_complaints|Percent_of_Total  |\n",
      "+------------------------------------------+--------------------+------------------+\n",
      "|Credit reporting                          |108657              |43.291366189888045|\n",
      "|General-purpose credit card or charge card|18648               |7.429778078807921 |\n",
      "|Checking account                          |15637               |6.2301286903860715|\n",
      "|Other debt                                |14475               |5.7671620383282205|\n",
      "|Conventional home mortgage                |13606               |5.420933104904578 |\n",
      "|Credit card debt                          |10754               |4.284632853898562 |\n",
      "|I do not know                             |10293               |4.100960197617435 |\n",
      "|Medical debt                              |7629                |3.0395633292163033|\n",
      "|Federal student loan servicing            |5629                |2.242718833419658 |\n",
      "|Loan                                      |4647                |1.8514681859835052|\n",
      "|Store credit card                         |3917                |1.5606199450177298|\n",
      "|Other type of mortgage                    |3650                |1.4542412048288778|\n",
      "|FHA mortgage                              |3373                |1.3438782421610425|\n",
      "|Other banking product or service          |3325                |1.3247539742619228|\n",
      "|Private student loan                      |3029                |1.2068209888840191|\n",
      "|Installment loan                          |1699                |0.6769193991792501|\n",
      "|Auto debt                                 |1637                |0.6522172198095542|\n",
      "|Other personal consumer report            |1616                |0.6438503526036894|\n",
      "|Home equity loan or line of credit (HELOC)|1613                |0.6426550858599944|\n",
      "|Payday loan debt                          |1435                |0.5717359257340929|\n",
      "+------------------------------------------+--------------------+------------------+\n",
      "only showing top 20 rows"
     ]
    }
   ],
   "source": [
    "spark.sql(\"SELECT sub_product,COUNT(sub_product) Number_of_complaints, COUNT(sub_product)/250990*100 Percent_of_Total  FROM cust_complains.complaints GROUP BY sub_product ORDER BY Number_of_complaints DESC\").show(truncate=False)"
   ]
  },
  {
   "cell_type": "code",
   "execution_count": 112,
   "metadata": {},
   "outputs": [
    {
     "name": "stdout",
     "output_type": "stream",
     "text": [
      "+--------------------------------------+--------------------+------------------+\n",
      "|company                               |Number_of_complaints|Percent_of_Total  |\n",
      "+--------------------------------------+--------------------+------------------+\n",
      "|EQUIFAX, INC.                         |30295               |12.070202000079684|\n",
      "|Experian Information Solutions Inc.   |29769               |11.860631897685167|\n",
      "|TRANSUNION INTERMEDIATE HOLDINGS, INC.|28398               |11.314394995816567|\n",
      "|JPMORGAN CHASE & CO.                  |8794                |3.503725248017849 |\n",
      "|WELLS FARGO & COMPANY                 |8552                |3.4073070640264556|\n",
      "|BANK OF AMERICA, NATIONAL ASSOCIATION |7727                |3.078608709510339 |\n",
      "|CAPITAL ONE FINANCIAL CORPORATION     |7536                |3.0025100601617596|\n",
      "|CITIBANK, N.A.                        |7111                |2.8331806048049724|\n",
      "|Navient Solutions, LLC.               |5046                |2.010438662894936 |\n",
      "|SYNCHRONY FINANCIAL                   |4546                |1.8112275389457748|\n",
      "|AMERICAN EXPRESS COMPANY              |2867                |1.142276584724491 |\n",
      "|PORTFOLIO RECOVERY ASSOCIATES INC     |2762                |1.100442248695167 |\n",
      "|Alliance Data Card Services           |2563                |1.021156221363401 |\n",
      "|U.S. BANCORP                          |2313                |0.9215506593888203|\n",
      "|AES/PHEAA                             |2307                |0.9191601259014304|\n",
      "|DISCOVER BANK                         |1954                |0.7785170723933225|\n",
      "|TD BANK US HOLDING COMPANY            |1918                |0.7641738714689829|\n",
      "|NATIONSTAR MORTGAGE                   |1824                |0.7267221801665404|\n",
      "|ENCORE CAPITAL GROUP INC.             |1761                |0.7016215785489461|\n",
      "|PNC Bank N.A.                         |1637                |0.6522172198095542|\n",
      "+--------------------------------------+--------------------+------------------+\n",
      "only showing top 20 rows\n",
      "\n",
      "+-----------------------+--------------------+--------------------+\n",
      "|company_public_response|Number_of_complaints|    Percent_of_Total|\n",
      "+-----------------------+--------------------+--------------------+\n",
      "|   Company has respo...|              108428|  43.200127495119325|\n",
      "|   Company believes ...|               12659|   5.043627236144866|\n",
      "|   Company believes ...|                1134| 0.45181082911669784|\n",
      "|   Company disputes ...|                1087| 0.43308498346547675|\n",
      "|   Company believes ...|                 800|  0.3187377983186581|\n",
      "|   Company believes ...|                 650|  0.2589744611339097|\n",
      "|   Company believes ...|                 624| 0.24861548268855332|\n",
      "|   Company can't ver...|                 381| 0.15179887644926093|\n",
      "|   Company believes ...|                   9|0.003585800231084...|\n",
      "|                   null|                   0|                 0.0|\n",
      "+-----------------------+--------------------+--------------------+"
     ]
    }
   ],
   "source": [
    "spark.sql(\"SELECT company,COUNT(company) Number_of_complaints, COUNT(company)/250990*100 Percent_of_Total  FROM cust_complains.complaints GROUP BY company ORDER BY Number_of_complaints DESC\").show(truncate=False)\n",
    "spark.sql(\"SELECT company_public_response,COUNT(company_public_response) Number_of_complaints, COUNT(company_public_response)/250990*100 Percent_of_Total  FROM cust_complains.complaints GROUP BY company_public_response ORDER BY Number_of_complaints DESC\").show()"
   ]
  },
  {
   "cell_type": "code",
   "execution_count": 113,
   "metadata": {},
   "outputs": [
    {
     "name": "stdout",
     "output_type": "stream",
     "text": [
      "+-------------------------------+--------------------+------------------+\n",
      "|company_response               |Number_of_complaints|Percent_of_Total  |\n",
      "+-------------------------------+--------------------+------------------+\n",
      "|Closed with explanation        |201381              |80.23467070401212 |\n",
      "|Closed with non-monetary relief|33729               |13.438383999362525|\n",
      "|Closed with monetary relief    |11577               |4.612534363918881 |\n",
      "|In progress                    |2677                |1.0665763576238096|\n",
      "|Untimely response              |1624                |0.647037730586876 |\n",
      "|null                           |0                   |0.0               |\n",
      "+-------------------------------+--------------------+------------------+"
     ]
    }
   ],
   "source": [
    "spark.sql(\"SELECT company_response,COUNT(company_response) Number_of_complaints, COUNT(company_response)/250990*100 Percent_of_Total  FROM cust_complains.complaints GROUP BY company_response ORDER BY Number_of_complaints DESC\").show(truncate=False)\n",
    "#spark.sql(\"SELECT complaint_what_happened,COUNT(complaint_what_happened) FROM cust_complains.complaints GROUP BY complaint_what_happened\").show(truncate=False)"
   ]
  },
  {
   "cell_type": "code",
   "execution_count": 119,
   "metadata": {},
   "outputs": [
    {
     "name": "stdout",
     "output_type": "stream",
     "text": [
      "+-------------------------+--------------------+-------------------+\n",
      "|consumer_consent_provided|Number_of_complaints|Percent_of_Total   |\n",
      "+-------------------------+--------------------+-------------------+\n",
      "|Consent provided         |107419              |42.798119446989915 |\n",
      "|Consent not provided     |78236               |31.17096298657317  |\n",
      "|N/A                      |46610               |18.57046097454082  |\n",
      "|Other                    |7057                |2.811665803418463  |\n",
      "|Consent withdrawn        |269                 |0.10717558468464879|\n",
      "|null                     |0                   |4.54161520379298   |\n",
      "+-------------------------+--------------------+-------------------+"
     ]
    }
   ],
   "source": [
    "spark.sql(\"SELECT consumer_consent_provided,COUNT(consumer_consent_provided) Number_of_complaints, COUNT(*)/250990*100 Percent_of_Total  FROM cust_complains.complaints GROUP BY consumer_consent_provided ORDER BY Number_of_complaints DESC\").show(truncate=False)"
   ]
  },
  {
   "cell_type": "code",
   "execution_count": 120,
   "metadata": {},
   "outputs": [
    {
     "name": "stdout",
     "output_type": "stream",
     "text": [
      "+-----------------+--------------------+----------------+\n",
      "|consumer_disputed|Number_of_complaints|Percent_of_Total|\n",
      "+-----------------+--------------------+----------------+\n",
      "|N/A              |250990              |100.0           |\n",
      "+-----------------+--------------------+----------------+"
     ]
    }
   ],
   "source": [
    "spark.sql(\"SELECT consumer_disputed,COUNT(consumer_disputed)  Number_of_complaints, COUNT(*)/250990*100 Percent_of_Total FROM cust_complains.complaints GROUP BY consumer_disputed ORDER BY Number_of_complaints DESC\").show(truncate=False)"
   ]
  },
  {
   "cell_type": "code",
   "execution_count": 121,
   "metadata": {},
   "outputs": [
    {
     "name": "stdout",
     "output_type": "stream",
     "text": [
      "+-------------------------+--------------------+-------------------+\n",
      "|date_received            |Number_of_complaints|Percent_of_Total   |\n",
      "+-------------------------+--------------------+-------------------+\n",
      "|2018-04-05T12:00:00-05:00|1260                |0.5020120323518865 |\n",
      "|2018-04-10T12:00:00-05:00|1178                |0.4693414080242241 |\n",
      "|2018-04-24T12:00:00-05:00|1141                |0.45459978485198616|\n",
      "|2018-03-06T12:00:00-05:00|1103                |0.4394597394318499 |\n",
      "|2018-04-11T12:00:00-05:00|1097                |0.4370692059444599 |\n",
      "|2018-05-16T12:00:00-05:00|1069                |0.42591338300330694|\n",
      "|2018-04-06T12:00:00-05:00|1063                |0.42352284951591695|\n",
      "|2018-04-04T12:00:00-05:00|1057                |0.4211323160285271 |\n",
      "|2018-03-22T12:00:00-05:00|1055                |0.4203354715327304 |\n",
      "|2018-10-16T12:00:00-05:00|1038                |0.4135622933184589 |\n",
      "|2018-03-19T12:00:00-05:00|1037                |0.4131638710705605 |\n",
      "|2018-04-03T12:00:00-05:00|1026                |0.408781226343679  |\n",
      "|2018-04-12T12:00:00-05:00|1023                |0.4075859595999841 |\n",
      "|2018-04-17T12:00:00-05:00|1022                |0.40718753735208574|\n",
      "|2018-10-17T12:00:00-05:00|1006                |0.4008127813857126 |\n",
      "|2018-03-20T12:00:00-05:00|1005                |0.40041435913781426|\n",
      "|2018-06-05T12:00:00-05:00|1005                |0.40041435913781426|\n",
      "|2018-05-01T12:00:00-05:00|1003                |0.39961751464201756|\n",
      "|2018-05-15T12:00:00-05:00|995                 |0.396430136658831  |\n",
      "|2018-03-27T12:00:00-05:00|995                 |0.396430136658831  |\n",
      "+-------------------------+--------------------+-------------------+\n",
      "only showing top 20 rows"
     ]
    }
   ],
   "source": [
    "spark.sql(\"SELECT date_received,COUNT(date_received) Number_of_complaints, COUNT(*)/250990*100 Percent_of_Total  FROM cust_complains.complaints GROUP BY date_received ORDER BY Number_of_complaints DESC\").show(truncate=False)"
   ]
  },
  {
   "cell_type": "code",
   "execution_count": 122,
   "metadata": {},
   "outputs": [
    {
     "name": "stdout",
     "output_type": "stream",
     "text": [
      "+-------------------------+--------------------+-------------------+\n",
      "|date_sent_to_company     |Number_of_complaints|Percent_of_Total   |\n",
      "+-------------------------+--------------------+-------------------+\n",
      "|2018-04-10T12:00:00-05:00|1183                |0.4713335192637157 |\n",
      "|2018-04-24T12:00:00-05:00|1128                |0.44942029562930796|\n",
      "|2018-04-11T12:00:00-05:00|1128                |0.44942029562930796|\n",
      "|2018-05-16T12:00:00-05:00|1119                |0.44583449539822306|\n",
      "|2018-12-11T12:00:00-05:00|1088                |0.433483405713375  |\n",
      "|2018-12-18T12:00:00-05:00|1066                |0.424718116259612  |\n",
      "|2018-03-22T12:00:00-05:00|1059                |0.42192916052432367|\n",
      "|2018-03-21T12:00:00-05:00|1044                |0.4159528268058489 |\n",
      "|2019-01-30T12:00:00-05:00|1038                |0.4135622933184589 |\n",
      "|2018-06-25T12:00:00-05:00|1033                |0.4115701820789673 |\n",
      "|2018-12-12T12:00:00-05:00|1030                |0.4103749153352723 |\n",
      "|2018-05-14T12:00:00-05:00|1028                |0.4095780708394757 |\n",
      "|2018-04-20T12:00:00-05:00|1026                |0.408781226343679  |\n",
      "|2018-05-07T12:00:00-05:00|1023                |0.4075859595999841 |\n",
      "|2018-04-17T12:00:00-05:00|1020                |0.40639069285628904|\n",
      "|2018-04-18T12:00:00-05:00|1020                |0.40639069285628904|\n",
      "|2018-10-16T12:00:00-05:00|1019                |0.4059922706083908 |\n",
      "|2018-08-08T12:00:00-05:00|1018                |0.40559384836049245|\n",
      "|2018-05-15T12:00:00-05:00|1017                |0.4051954261125941 |\n",
      "|2018-06-05T12:00:00-05:00|1017                |0.4051954261125941 |\n",
      "+-------------------------+--------------------+-------------------+\n",
      "only showing top 20 rows"
     ]
    }
   ],
   "source": [
    "spark.sql(\"SELECT date_sent_to_company,COUNT(date_sent_to_company) Number_of_complaints, COUNT(*)/250990*100 Percent_of_Total  FROM cust_complains.complaints GROUP BY date_sent_to_company ORDER BY Number_of_complaints DESC\").show(truncate=False)"
   ]
  },
  {
   "cell_type": "code",
   "execution_count": 123,
   "metadata": {},
   "outputs": [
    {
     "name": "stdout",
     "output_type": "stream",
     "text": [
      "+--------------------------------------------------------------------------------+--------------------+------------------+\n",
      "|issue                                                                           |Number_of_complaints|Percent_of_Total  |\n",
      "+--------------------------------------------------------------------------------+--------------------+------------------+\n",
      "|Incorrect information on your report                                            |70264               |27.994740826327742|\n",
      "|Problem with a credit reporting company's investigation into an existing problem|25663               |10.224710147814655|\n",
      "|Attempts to collect debt not owed                                               |21962               |8.750149408342962 |\n",
      "|Managing an account                                                             |13248               |5.278297940156978 |\n",
      "|Improper use of your report                                                     |12582               |5.012948723056695 |\n",
      "|Written notification about debt                                                 |11351               |4.5224909358938605|\n",
      "|Trouble during payment process                                                  |11264               |4.487828200326707 |\n",
      "|Struggling to pay mortgage                                                      |8229                |3.2786166779552968|\n",
      "|Problem with a purchase shown on your statement                                 |5927                |2.3614486632933582|\n",
      "|Communication tactics                                                           |5692                |2.2678194350372527|\n",
      "|Dealing with your lender or servicer                                            |5651                |2.2514841228734213|\n",
      "|Took or threatened to take negative or legal action                             |4443                |1.7701900474122474|\n",
      "|False statements or representation                                              |4127                |1.6442886170763775|\n",
      "|Other features, terms, or problems                                              |3090                |1.231124746005817 |\n",
      "|Fees or interest                                                                |3014                |1.2008446551655445|\n",
      "|Problem when making payments                                                    |2770                |1.1036296266783536|\n",
      "|Unable to get your credit report or credit score                                |2333                |0.9295191043467868|\n",
      "|Closing an account                                                              |2264                |0.9020279692418025|\n",
      "|Getting a credit card                                                           |2223                |0.8856926570779713|\n",
      "|Struggling to repay your loan                                                   |2165                |0.8625841666998686|\n",
      "+--------------------------------------------------------------------------------+--------------------+------------------+\n",
      "only showing top 20 rows"
     ]
    }
   ],
   "source": [
    "spark.sql(\"SELECT issue,COUNT(issue)  Number_of_complaints, COUNT(*)/250990*100 Percent_of_Total FROM cust_complains.complaints GROUP BY issue ORDER BY Number_of_complaints DESC\").show(truncate=False)"
   ]
  },
  {
   "cell_type": "code",
   "execution_count": 124,
   "metadata": {},
   "outputs": [
    {
     "name": "stdout",
     "output_type": "stream",
     "text": [
      "+--------------------------------------------------------------------------------+--------------------+------------------+\n",
      "|sub_issue                                                                       |Number_of_complaints|Percent_of_Total  |\n",
      "+--------------------------------------------------------------------------------+--------------------+------------------+\n",
      "|Information belongs to someone else                                             |33233               |13.240766564404957|\n",
      "|Their investigation did not fix an error on your report                         |18677               |7.4413323239969715|\n",
      "|Account status incorrect                                                        |13822               |5.506992310450616 |\n",
      "|Account information incorrect                                                   |12059               |4.804573887405873 |\n",
      "|Debt is not yours                                                               |11566               |4.608151719192    |\n",
      "|Credit inquiries on your report that you don't recognize                        |9851                |3.9248575640463765|\n",
      "|Didn't receive enough information to verify debt                                |8288                |3.3021235905812985|\n",
      "|Debt was result of identity theft                                               |5073                |2.021196063588191 |\n",
      "|Deposits and withdrawals                                                        |4768                |1.8996772779792024|\n",
      "|Debt was paid                                                                   |4440                |1.7689947806685524|\n",
      "|Credit card company isn't resolving a dispute about a purchase on your statement|4069                |1.621180126698275 |\n",
      "|Attempted to collect wrong amount                                               |3362                |1.3394955974341607|\n",
      "|Personal information incorrect                                                  |3357                |1.337503486194669 |\n",
      "|Frequent or repeated calls                                                      |3107                |1.2378979242200885|\n",
      "|Old information reappears or never goes away                                    |2812                |1.1203633610900832|\n",
      "|Didn't receive notice of right to dispute                                       |2787                |1.110402804892625 |\n",
      "|Public record information inaccurate                                            |2777                |1.1064185824136419|\n",
      "|Company closed your account                                                     |2448                |0.9753376628550938|\n",
      "|Reporting company used your report improperly                                   |2406                |0.9586039284433643|\n",
      "|Problem using a debit or ATM card                                               |2292                |0.9131837921829555|\n",
      "+--------------------------------------------------------------------------------+--------------------+------------------+\n",
      "only showing top 20 rows"
     ]
    }
   ],
   "source": [
    "spark.sql(\"SELECT sub_issue,COUNT(sub_issue) Number_of_complaints, COUNT(*)/250990*100 Percent_of_Total  FROM cust_complains.complaints GROUP BY sub_issue ORDER BY Number_of_complaints DESC\").show(truncate=False)"
   ]
  },
  {
   "cell_type": "code",
   "execution_count": 125,
   "metadata": {},
   "outputs": [
    {
     "name": "stdout",
     "output_type": "stream",
     "text": [
      "+-----+--------------------+------------------+\n",
      "|state|Number_of_complaints|Percent_of_Total  |\n",
      "+-----+--------------------+------------------+\n",
      "|CA   |31718               |12.637156858838997|\n",
      "|FL   |26624               |10.607593928044942|\n",
      "|TX   |23744               |9.460137854097773 |\n",
      "|NY   |16896               |6.731742300490059 |\n",
      "|GA   |15046               |5.994661141878162 |\n",
      "|IL   |10685               |4.257141718793577 |\n",
      "|NC   |8721                |3.4746404239212723|\n",
      "|NJ   |8525                |3.3965496633332   |\n",
      "|PA   |8262                |3.2917646121359416|\n",
      "|OH   |7331                |2.9208334993426033|\n",
      "|VA   |6116                |2.4367504681461414|\n",
      "|MD   |5729                |2.2825610582094904|\n",
      "|MI   |5249                |2.0913183792182957|\n",
      "|AZ   |4906                |1.954659548189171 |\n",
      "|SC   |4581                |1.8251723176222159|\n",
      "|TN   |4361                |1.737519423084585 |\n",
      "|MO   |3974                |1.5833300131479342|\n",
      "|MA   |3790                |1.5100203195346429|\n",
      "|WA   |3755                |1.4960755408582014|\n",
      "|LA   |3492                |1.3912904896609426|\n",
      "+-----+--------------------+------------------+\n",
      "only showing top 20 rows"
     ]
    }
   ],
   "source": [
    "spark.sql(\"SELECT state,COUNT(state)  Number_of_complaints, COUNT(*)/250990*100 Percent_of_Total FROM cust_complains.complaints GROUP BY state ORDER BY Number_of_complaints DESC\").show(truncate=False)"
   ]
  },
  {
   "cell_type": "code",
   "execution_count": 126,
   "metadata": {},
   "outputs": [
    {
     "name": "stdout",
     "output_type": "stream",
     "text": [
      "+-------------+--------------------+-------------------+\n",
      "|submitted_via|Number_of_complaints|Percent_of_Total   |\n",
      "+-------------+--------------------+-------------------+\n",
      "|Web          |204380              |81.42953902545919  |\n",
      "|Referral     |21614               |8.611498466074345  |\n",
      "|Phone        |11954               |4.76273955137655   |\n",
      "|Postal mail  |8272                |3.295748834614925  |\n",
      "|Fax          |4751                |1.892904099764931  |\n",
      "|Email        |19                  |0.00757002271006813|\n",
      "+-------------+--------------------+-------------------+"
     ]
    }
   ],
   "source": [
    "spark.sql(\"SELECT submitted_via,COUNT(submitted_via) Number_of_complaints, COUNT(*)/250990*100 Percent_of_Total  FROM cust_complains.complaints GROUP BY submitted_via ORDER BY Number_of_complaints DESC\").show(truncate=False)"
   ]
  },
  {
   "cell_type": "code",
   "execution_count": 127,
   "metadata": {},
   "outputs": [
    {
     "name": "stdout",
     "output_type": "stream",
     "text": [
      "+------+--------------------+------------------+\n",
      "|timely|Number_of_complaints|Percent_of_Total  |\n",
      "+------+--------------------+------------------+\n",
      "|Yes   |246586              |98.24534842025578 |\n",
      "|No    |4404                |1.7546515797442128|\n",
      "+------+--------------------+------------------+"
     ]
    }
   ],
   "source": [
    "spark.sql(\"SELECT timely,COUNT(timely) Number_of_complaints, COUNT(*)/250990*100 Percent_of_Total  FROM cust_complains.complaints GROUP BY timely ORDER BY Number_of_complaints DESC\").show(truncate=False)"
   ]
  },
  {
   "cell_type": "code",
   "execution_count": 128,
   "metadata": {},
   "outputs": [
    {
     "name": "stdout",
     "output_type": "stream",
     "text": [
      "+-----------------------------+--------------------+------------------+\n",
      "|tags                         |Number_of_complaints|Percent_of_Total  |\n",
      "+-----------------------------+--------------------+------------------+\n",
      "|Servicemember                |22547               |8.98322642336348  |\n",
      "|Older American               |7197                |2.867444918124228 |\n",
      "|Older American, Servicemember|2578                |1.0271325550818757|\n",
      "|null                         |0                   |87.12219610343041 |\n",
      "+-----------------------------+--------------------+------------------+"
     ]
    }
   ],
   "source": [
    "spark.sql(\"SELECT tags,COUNT(tags) Number_of_complaints, COUNT(*)/250990*100 Percent_of_Total  FROM cust_complains.complaints GROUP BY tags ORDER BY Number_of_complaints DESC\").show(truncate=False)"
   ]
  },
  {
   "cell_type": "code",
   "execution_count": 108,
   "metadata": {},
   "outputs": [
    {
     "name": "stdout",
     "output_type": "stream",
     "text": [
      "+--------+--------------------+-------------------+\n",
      "|zip_code|Number_of_complaints|Percent_of_Total   |\n",
      "+--------+--------------------+-------------------+\n",
      "|300XX   |2115                |0.8426630543049525 |\n",
      "|330XX   |1920                |0.7649707159647795 |\n",
      "|770XX   |1860                |0.74106538109088   |\n",
      "|331XX   |1650                |0.6573967090322324 |\n",
      "|606XX   |1455                |0.5797043706920594 |\n",
      "|750XX   |1331                |0.5303000119526674 |\n",
      "|334XX   |1328                |0.5291047452089724 |\n",
      "|303XX   |1286                |0.5123710107972429 |\n",
      "|112XX   |1160                |0.4621698075620542 |\n",
      "|333XX   |1140                |0.45420136260408783|\n",
      "|900XX   |1106                |0.4406550061755448 |\n",
      "|302XX   |1051                |0.4187417825411371 |\n",
      "|891XX   |1025                |0.4083828040957807 |\n",
      "|945XX   |997                 |0.3972269811546277 |\n",
      "|282XX   |887                 |0.35340053388581216|\n",
      "|191XX   |855                 |0.34065102195306585|\n",
      "|301XX   |820                 |0.32670624327662456|\n",
      "|852XX   |784                 |0.31236304235228496|\n",
      "|774XX   |754                 |0.3004103749153353 |\n",
      "|322XX   |727                 |0.2896529742220806 |\n",
      "+--------+--------------------+-------------------+\n",
      "only showing top 20 rows"
     ]
    }
   ],
   "source": [
    "spark.sql(\"SELECT zip_code,COUNT(zip_code) Number_of_complaints, COUNT(zip_code)/250990*100 Percent_of_Total FROM cust_complains.complaints GROUP BY zip_code ORDER BY Number_of_complaints DESC\").show(truncate=False)"
   ]
  },
  {
   "cell_type": "code",
   "execution_count": 17,
   "metadata": {},
   "outputs": [],
   "source": [
    "#spark.sql(\"SELECT complaint_id,COUNT(complaint_id) FROM cust_complains.complaints GROUP BY complaint_id\").show(truncate=False)"
   ]
  },
  {
   "cell_type": "code",
   "execution_count": 104,
   "metadata": {},
   "outputs": [
    {
     "name": "stdout",
     "output_type": "stream",
     "text": [
      "+------+\n",
      "| total|\n",
      "+------+\n",
      "|250990|\n",
      "+------+\n",
      "\n",
      "+------------------------------------------+--------------------+---------------------+\n",
      "|sub_product                               |Number_of_complaints|percentOfTotal       |\n",
      "+------------------------------------------+--------------------+---------------------+\n",
      "|Credit reporting                          |108657              |43.291366189888045   |\n",
      "|General-purpose credit card or charge card|18648               |7.429778078807921    |\n",
      "|Checking account                          |15637               |6.2301286903860715   |\n",
      "|Other debt                                |14475               |5.7671620383282205   |\n",
      "|Conventional home mortgage                |13606               |5.420933104904578    |\n",
      "|Credit card debt                          |10754               |4.284632853898562    |\n",
      "|I do not know                             |10293               |4.100960197617435    |\n",
      "|Medical debt                              |7629                |3.0395633292163033   |\n",
      "|Federal student loan servicing            |5629                |2.242718833419658    |\n",
      "|Loan                                      |4647                |1.8514681859835052   |\n",
      "|Store credit card                         |3917                |1.5606199450177298   |\n",
      "|Other type of mortgage                    |3650                |1.4542412048288778   |\n",
      "|FHA mortgage                              |3373                |1.3438782421610425   |\n",
      "|Other banking product or service          |3325                |1.3247539742619228   |\n",
      "|Private student loan                      |3029                |1.2068209888840191   |\n",
      "|Installment loan                          |1699                |0.6769193991792501   |\n",
      "|Auto debt                                 |1637                |0.6522172198095542   |\n",
      "|Other personal consumer report            |1616                |0.6438503526036894   |\n",
      "|Home equity loan or line of credit (HELOC)|1613                |0.6426550858599944   |\n",
      "|Payday loan debt                          |1435                |0.5717359257340929   |\n",
      "|Savings account                           |1399                |0.5573927248097534   |\n",
      "|Domestic (US) money transfer              |1381                |0.5502211243475835   |\n",
      "|Payday loan                               |1328                |0.5291047452089724   |\n",
      "|VA mortgage                               |1186                |0.47252878600741066  |\n",
      "|Mortgage debt                             |1064                |0.4239212717638153   |\n",
      "|Mobile or digital wallet                  |1031                |0.41077333758317064  |\n",
      "|Lease                                     |982                 |0.3912506474361528   |\n",
      "|Personal line of credit                   |827                 |0.3294951990119128   |\n",
      "|Federal student loan debt                 |823                 |0.32790151002031953  |\n",
      "|General-purpose prepaid card              |802                 |0.31953464281445476  |\n",
      "|International money transfer              |797                 |0.31754253157496315  |\n",
      "|Private student loan debt                 |779                 |0.31037093111279335  |\n",
      "|CD (Certificate of Deposit)               |609                 |0.24263914897007852  |\n",
      "|Virtual currency                          |568                 |0.22630383680624727  |\n",
      "|Credit repair services                    |370                 |0.14741623172237936  |\n",
      "|Title loan                                |368                 |0.14661938722658271  |\n",
      "|Reverse mortgage                          |356                 |0.14183832025180287  |\n",
      "|Government benefit card                   |301                 |0.11992509661739512  |\n",
      "|Debt settlement                           |130                 |0.05179489222678195  |\n",
      "|Payroll card                              |117                 |0.04661540300410375  |\n",
      "|Money order                               |107                 |0.04263118052512053  |\n",
      "|Traveler's check or cashier's check       |97                  |0.0386469580461373   |\n",
      "|Gift card                                 |91                  |0.036256424558747356 |\n",
      "|Check cashing service                     |83                  |0.03306904657556078  |\n",
      "|Foreign currency exchange                 |66                  |0.026295868361289294 |\n",
      "|Refund anticipation check                 |45                  |0.01792900115542452  |\n",
      "|Pawn loan                                 |9                   |0.0035858002310849035|\n",
      "|Student prepaid card                      |5                   |0.001992111239491613 |\n",
      "+------------------------------------------+--------------------+---------------------+"
     ]
    }
   ],
   "source": [
    "#spark.sql(\"SELECT product,COUNT(product) num_product, sub_product, COUNT(sub_product) num_sub_product FROM cust_complains.complaints GROUP BY product, sub_product ORDER BY num_product DESC, num_sub_product DESC\").show()\n",
    "\n",
    "total = spark.sql(\"SELECT t2.total FROM (SELECT count(*) total FROM cust_complains.complaints)t2\").show()\n",
    "\n",
    "spark.sql(\"SELECT c2.sub_product, COUNT(c2.sub_product) Number_of_complaints, COUNT(c2.sub_product)/250990*100 Percent_of_Total FROM cust_complains.complaints c2 GROUP BY c2.sub_product ORDER BY Number_of_complaints DESC\").show(50,truncate=False)\n"
   ]
  },
  {
   "cell_type": "markdown",
   "metadata": {},
   "source": [
    "# Cross-frequency of some of the fields (group by multiple fields)"
   ]
  },
  {
   "cell_type": "code",
   "execution_count": 137,
   "metadata": {},
   "outputs": [
    {
     "name": "stdout",
     "output_type": "stream",
     "text": [
      "+--------------------+--------------------+--------------------+--------------------+\n",
      "|             product|         sub_product|Number_of_complaints|    Percent_of_Total|\n",
      "+--------------------+--------------------+--------------------+--------------------+\n",
      "|Checking or savin...|    Checking account|               15637|  6.2301286903860715|\n",
      "|Checking or savin...|Other banking pro...|                3325|  1.3247539742619228|\n",
      "|Checking or savin...|     Savings account|                1399|  0.5573927248097534|\n",
      "|Checking or savin...|CD (Certificate o...|                 609| 0.24263914897007852|\n",
      "|Checking or savin...|Personal line of ...|                  17|0.006773178214271485|\n",
      "|Credit card or pr...|General-purpose c...|               18648|   7.429778078807921|\n",
      "|Credit card or pr...|   Store credit card|                3917|  1.5606199450177298|\n",
      "|Credit card or pr...|General-purpose p...|                 802| 0.31953464281445476|\n",
      "|Credit card or pr...|Government benefi...|                 301| 0.11992509661739512|\n",
      "|Credit card or pr...|        Payroll card|                 117| 0.04661540300410375|\n",
      "|Credit card or pr...|           Gift card|                  91|0.036256424558747356|\n",
      "|Credit card or pr...|Student prepaid card|                   5|0.001992111239491613|\n",
      "|Credit reporting,...|    Credit reporting|              108657|  43.291366189888045|\n",
      "|Credit reporting,...|Other personal co...|                1616|  0.6438503526036894|\n",
      "|Credit reporting,...|Credit repair ser...|                 370| 0.14741623172237936|\n",
      "|Credit reporting,...|Conventional home...|                   1|3.984222478983226E-4|\n",
      "|     Debt collection|          Other debt|               14475|  5.7671620383282205|\n",
      "|     Debt collection|    Credit card debt|               10754|   4.284632853898562|\n",
      "|     Debt collection|       I do not know|               10293|   4.100960197617435|\n",
      "|     Debt collection|        Medical debt|                7629|  3.0395633292163033|\n",
      "|     Debt collection|           Auto debt|                1637|  0.6522172198095542|\n",
      "|     Debt collection|    Payday loan debt|                1435|  0.5717359257340929|\n",
      "|     Debt collection|       Mortgage debt|                1064|  0.4239212717638153|\n",
      "|     Debt collection|Federal student l...|                 823| 0.32790151002031953|\n",
      "|     Debt collection|Private student l...|                 779| 0.31037093111279335|\n",
      "|Money transfer, v...|Domestic (US) mon...|                1381|  0.5502211243475835|\n",
      "|Money transfer, v...|Mobile or digital...|                1031| 0.41077333758317064|\n",
      "|Money transfer, v...|International mon...|                 797| 0.31754253157496315|\n",
      "|Money transfer, v...|    Virtual currency|                 568| 0.22630383680624727|\n",
      "|Money transfer, v...|     Debt settlement|                 130| 0.05179489222678195|\n",
      "|Money transfer, v...|         Money order|                 107| 0.04263118052512053|\n",
      "|Money transfer, v...|Traveler's check ...|                  97|  0.0386469580461373|\n",
      "|Money transfer, v...|Check cashing ser...|                  83| 0.03306904657556078|\n",
      "|Money transfer, v...|Foreign currency ...|                  66|0.026295868361289294|\n",
      "|Money transfer, v...|Refund anticipati...|                  45| 0.01792900115542452|\n",
      "|            Mortgage|Conventional home...|               13605|    5.42053468265668|\n",
      "|            Mortgage|Other type of mor...|                3650|  1.4542412048288778|\n",
      "|            Mortgage|        FHA mortgage|                3373|  1.3438782421610425|\n",
      "|            Mortgage|Home equity loan ...|                1613|  0.6426550858599944|\n",
      "|            Mortgage|         VA mortgage|                1186| 0.47252878600741066|\n",
      "|            Mortgage|    Reverse mortgage|                 356| 0.14183832025180287|\n",
      "|Payday loan, titl...|    Installment loan|                1699|  0.6769193991792501|\n",
      "|Payday loan, titl...|         Payday loan|                1328|  0.5291047452089724|\n",
      "|Payday loan, titl...|Personal line of ...|                 810| 0.32272202079764134|\n",
      "|Payday loan, titl...|          Title loan|                 361| 0.14383043149129449|\n",
      "|Payday loan, titl...|           Pawn loan|                   9|0.003585800231084...|\n",
      "|        Student loan|Federal student l...|                5629|   2.242718833419658|\n",
      "|        Student loan|Private student loan|                3029|  1.2068209888840191|\n",
      "|Vehicle loan or l...|                Loan|                4647|  1.8514681859835052|\n",
      "|Vehicle loan or l...|               Lease|                 982|  0.3912506474361528|\n",
      "|Vehicle loan or l...|          Title loan|                   7|0.002788955735288...|\n",
      "+--------------------+--------------------+--------------------+--------------------+"
     ]
    }
   ],
   "source": [
    "spark.sql(\"SELECT t1.product, c1.sub_product, COUNT(c1.sub_product)  Number_of_complaints, COUNT(*)/250990*100 Percent_of_Total FROM cust_complains.complaints c1 CROSS JOIN (SELECT DISTINCT c2.product FROM cust_complains.complaints c2)t1 ON t1.product = c1.product GROUP BY t1.product, c1.sub_product ORDER BY product, Number_of_Complaints DESC\").show(55)"
   ]
  },
  {
   "cell_type": "code",
   "execution_count": 139,
   "metadata": {},
   "outputs": [
    {
     "name": "stdout",
     "output_type": "stream",
     "text": [
      "+--------------------+--------------------+--------------------+--------------------+\n",
      "|               issue|           sub_issue|Number_of_complaints|    Percent_of_Total|\n",
      "+--------------------+--------------------+--------------------+--------------------+\n",
      "|         Advertising|Confusing or misl...|                  31|0.012351089684848002|\n",
      "|         Advertising|Changes in terms ...|                  10|0.003984222478983226|\n",
      "|Advertising and m...|Didn't receive ad...|                 883| 0.35180684489421893|\n",
      "|Advertising and m...|Confusing or misl...|                 549| 0.21873381409617915|\n",
      "|Applying for a mo...|                null|                   0|  0.0792860273317662|\n",
      "|Applying for a mo...|                null|                   0|  0.7378780031076935|\n",
      "|Attempts to colle...|   Debt is not yours|               11566|      4.608151719192|\n",
      "|Attempts to colle...|Debt was result o...|                5073|   2.021196063588191|\n",
      "|Attempts to colle...|       Debt was paid|                4440|  1.7689947806685524|\n",
      "|Attempts to colle...|Debt was already ...|                 883| 0.35180684489421893|\n",
      "|Can't contact len...|                null|                   0|0.043029602773018844|\n",
      "|Can't stop withdr...|                null|                   0| 0.03745169130244233|\n",
      "|Cannot afford Pay...|                null|                   0|3.984222478983226E-4|\n",
      "|Charged fees or i...|                null|                   0|  0.4609745408183593|\n",
      "|  Closing an account|Company closed yo...|                1069| 0.42591338300330694|\n",
      "|  Closing an account|Funds not receive...|                 545| 0.21714012510458586|\n",
      "|  Closing an account|Can't close your ...|                 515| 0.20518745766763616|\n",
      "|  Closing an account|Fees charged for ...|                 135|0.053787003466273554|\n",
      "|Closing on a mort...|                null|                   0|  0.6243276624566716|\n",
      "|Closing your account|Company closed yo...|                1379|  0.5494242798517869|\n",
      "+--------------------+--------------------+--------------------+--------------------+\n",
      "only showing top 20 rows"
     ]
    }
   ],
   "source": [
    "spark.sql(\"SELECT t1.issue, c1.sub_issue, COUNT(c1.sub_issue) Number_of_complaints, COUNT(*)/250990*100 Percent_of_Total FROM cust_complains.complaints c1 CROSS JOIN (SELECT DISTINCT c2.issue FROM cust_complains.complaints c2)t1 ON t1.issue = c1.issue GROUP BY t1.issue, c1.sub_issue ORDER BY issue, Number_of_Complaints DESC\").show()"
   ]
  },
  {
   "cell_type": "markdown",
   "metadata": {},
   "source": [
    "# Finding missing (NULL) values for each column"
   ]
  },
  {
   "cell_type": "code",
   "execution_count": 14,
   "metadata": {},
   "outputs": [
    {
     "name": "stdout",
     "output_type": "stream",
     "text": [
      "+--------+\n",
      "|count(1)|\n",
      "+--------+\n",
      "|       0|\n",
      "+--------+"
     ]
    }
   ],
   "source": [
    "spark.sql(\"SELECT count(*) FROM cust_complains.complaints WHERE complaint_id IS NULL\").show()"
   ]
  },
  {
   "cell_type": "code",
   "execution_count": 15,
   "metadata": {},
   "outputs": [
    {
     "name": "stdout",
     "output_type": "stream",
     "text": [
      "+--------+\n",
      "|count(1)|\n",
      "+--------+\n",
      "|       0|\n",
      "+--------+"
     ]
    }
   ],
   "source": [
    "spark.sql(\"SELECT count(*) FROM cust_complains.complaints WHERE product IS NULL\").show()"
   ]
  },
  {
   "cell_type": "code",
   "execution_count": 16,
   "metadata": {},
   "outputs": [
    {
     "name": "stdout",
     "output_type": "stream",
     "text": [
      "+--------+\n",
      "|count(1)|\n",
      "+--------+\n",
      "|       0|\n",
      "+--------+"
     ]
    }
   ],
   "source": [
    "spark.sql(\"SELECT count(*) FROM cust_complains.complaints WHERE sub_product IS NULL\").show()"
   ]
  },
  {
   "cell_type": "code",
   "execution_count": 17,
   "metadata": {},
   "outputs": [
    {
     "name": "stdout",
     "output_type": "stream",
     "text": [
      "+--------+\n",
      "|count(1)|\n",
      "+--------+\n",
      "|       0|\n",
      "+--------+"
     ]
    }
   ],
   "source": [
    "spark.sql(\"SELECT count(*) FROM cust_complains.complaints WHERE company IS NULL\").show()"
   ]
  },
  {
   "cell_type": "code",
   "execution_count": 18,
   "metadata": {},
   "outputs": [
    {
     "name": "stdout",
     "output_type": "stream",
     "text": [
      "+--------+\n",
      "|count(1)|\n",
      "+--------+\n",
      "|  125218|\n",
      "+--------+"
     ]
    }
   ],
   "source": [
    "spark.sql(\"SELECT count(*) FROM cust_complains.complaints WHERE company_public_response IS NULL\").show()"
   ]
  },
  {
   "cell_type": "code",
   "execution_count": 19,
   "metadata": {},
   "outputs": [
    {
     "name": "stdout",
     "output_type": "stream",
     "text": [
      "+--------+\n",
      "|count(1)|\n",
      "+--------+\n",
      "|       2|\n",
      "+--------+"
     ]
    }
   ],
   "source": [
    "spark.sql(\"SELECT count(*) FROM cust_complains.complaints WHERE company_response IS NULL\").show()"
   ]
  },
  {
   "cell_type": "code",
   "execution_count": 20,
   "metadata": {},
   "outputs": [
    {
     "name": "stdout",
     "output_type": "stream",
     "text": [
      "+--------+\n",
      "|count(1)|\n",
      "+--------+\n",
      "|  143591|\n",
      "+--------+"
     ]
    }
   ],
   "source": [
    "spark.sql(\"SELECT count(*) FROM cust_complains.complaints WHERE complaint_what_happened IS NULL\").show()"
   ]
  },
  {
   "cell_type": "code",
   "execution_count": 21,
   "metadata": {},
   "outputs": [
    {
     "name": "stdout",
     "output_type": "stream",
     "text": [
      "+--------+\n",
      "|count(1)|\n",
      "+--------+\n",
      "|   11399|\n",
      "+--------+"
     ]
    }
   ],
   "source": [
    "spark.sql(\"SELECT count(*) FROM cust_complains.complaints WHERE consumer_consent_provided IS NULL\").show()"
   ]
  },
  {
   "cell_type": "code",
   "execution_count": 22,
   "metadata": {},
   "outputs": [
    {
     "name": "stdout",
     "output_type": "stream",
     "text": [
      "+--------+\n",
      "|count(1)|\n",
      "+--------+\n",
      "|       0|\n",
      "+--------+"
     ]
    }
   ],
   "source": [
    "spark.sql(\"SELECT count(*) FROM cust_complains.complaints WHERE consumer_disputed IS NULL\").show()"
   ]
  },
  {
   "cell_type": "code",
   "execution_count": 23,
   "metadata": {},
   "outputs": [
    {
     "name": "stdout",
     "output_type": "stream",
     "text": [
      "+--------+\n",
      "|count(1)|\n",
      "+--------+\n",
      "|       0|\n",
      "+--------+"
     ]
    }
   ],
   "source": [
    "spark.sql(\"SELECT count(*) FROM cust_complains.complaints WHERE date_received IS NULL\").show()"
   ]
  },
  {
   "cell_type": "code",
   "execution_count": 24,
   "metadata": {},
   "outputs": [
    {
     "name": "stdout",
     "output_type": "stream",
     "text": [
      "+--------+\n",
      "|count(1)|\n",
      "+--------+\n",
      "|       0|\n",
      "+--------+"
     ]
    }
   ],
   "source": [
    "spark.sql(\"SELECT count(*) FROM cust_complains.complaints WHERE date_sent_to_company IS NULL\").show()"
   ]
  },
  {
   "cell_type": "code",
   "execution_count": 25,
   "metadata": {},
   "outputs": [
    {
     "name": "stdout",
     "output_type": "stream",
     "text": [
      "+--------+\n",
      "|count(1)|\n",
      "+--------+\n",
      "|       0|\n",
      "+--------+"
     ]
    }
   ],
   "source": [
    "spark.sql(\"SELECT count(*) FROM cust_complains.complaints WHERE issue IS NULL\").show()"
   ]
  },
  {
   "cell_type": "code",
   "execution_count": 26,
   "metadata": {},
   "outputs": [
    {
     "name": "stdout",
     "output_type": "stream",
     "text": [
      "+--------+\n",
      "|count(1)|\n",
      "+--------+\n",
      "|   34489|\n",
      "+--------+"
     ]
    }
   ],
   "source": [
    "spark.sql(\"SELECT count(*) FROM cust_complains.complaints WHERE sub_issue IS NULL\").show()"
   ]
  },
  {
   "cell_type": "code",
   "execution_count": 27,
   "metadata": {},
   "outputs": [
    {
     "name": "stdout",
     "output_type": "stream",
     "text": [
      "+--------+\n",
      "|count(1)|\n",
      "+--------+\n",
      "|    7411|\n",
      "+--------+"
     ]
    }
   ],
   "source": [
    "spark.sql(\"SELECT count(*) FROM cust_complains.complaints WHERE state IS NULL\").show()"
   ]
  },
  {
   "cell_type": "code",
   "execution_count": 28,
   "metadata": {},
   "outputs": [
    {
     "name": "stdout",
     "output_type": "stream",
     "text": [
      "+--------+\n",
      "|count(1)|\n",
      "+--------+\n",
      "|       0|\n",
      "+--------+"
     ]
    }
   ],
   "source": [
    "spark.sql(\"SELECT count(*) FROM cust_complains.complaints WHERE submitted_via IS NULL\").show()"
   ]
  },
  {
   "cell_type": "code",
   "execution_count": 29,
   "metadata": {},
   "outputs": [
    {
     "name": "stdout",
     "output_type": "stream",
     "text": [
      "+--------+\n",
      "|count(1)|\n",
      "+--------+\n",
      "|       0|\n",
      "+--------+"
     ]
    }
   ],
   "source": [
    "spark.sql(\"SELECT count(*) FROM cust_complains.complaints WHERE timely IS NULL\").show()"
   ]
  },
  {
   "cell_type": "code",
   "execution_count": 30,
   "metadata": {},
   "outputs": [
    {
     "name": "stdout",
     "output_type": "stream",
     "text": [
      "+--------+\n",
      "|count(1)|\n",
      "+--------+\n",
      "|  218668|\n",
      "+--------+"
     ]
    }
   ],
   "source": [
    "spark.sql(\"SELECT count(*) FROM cust_complains.complaints WHERE tags IS NULL\").show()"
   ]
  },
  {
   "cell_type": "code",
   "execution_count": 31,
   "metadata": {},
   "outputs": [
    {
     "name": "stdout",
     "output_type": "stream",
     "text": [
      "+--------+\n",
      "|count(1)|\n",
      "+--------+\n",
      "|   33646|\n",
      "+--------+"
     ]
    }
   ],
   "source": [
    "spark.sql(\"SELECT count(*) FROM cust_complains.complaints WHERE zip_code IS NULL\").show()"
   ]
  },
  {
   "cell_type": "code",
   "execution_count": 32,
   "metadata": {},
   "outputs": [
    {
     "name": "stdout",
     "output_type": "stream",
     "text": [
      "+--------+\n",
      "|count(1)|\n",
      "+--------+\n",
      "|       0|\n",
      "+--------+"
     ]
    }
   ],
   "source": [
    "spark.sql(\"SELECT count(*) FROM cust_complains.complaints WHERE complaint_id IS NULL\").show()"
   ]
  },
  {
   "cell_type": "markdown",
   "metadata": {},
   "source": [
    "# Distinct values for each column. Showing only top 20"
   ]
  },
  {
   "cell_type": "code",
   "execution_count": 33,
   "metadata": {},
   "outputs": [
    {
     "name": "stdout",
     "output_type": "stream",
     "text": [
      "+------------+\n",
      "|complaint_id|\n",
      "+------------+\n",
      "|     3166501|\n",
      "|     3164583|\n",
      "|     3162168|\n",
      "|     3161707|\n",
      "|     3159784|\n",
      "|     3157845|\n",
      "|     3156339|\n",
      "|     3151053|\n",
      "|     3160135|\n",
      "|     3148837|\n",
      "|     3142790|\n",
      "|     3140870|\n",
      "|     3140817|\n",
      "|     3136573|\n",
      "|     3135981|\n",
      "|     3136430|\n",
      "|     3136039|\n",
      "|     3134676|\n",
      "|     2835893|\n",
      "|     2834917|\n",
      "+------------+\n",
      "only showing top 20 rows"
     ]
    }
   ],
   "source": [
    "spark.sql(\"SELECT DISTINCT complaint_id FROM cust_complains.complaints\").show()"
   ]
  },
  {
   "cell_type": "code",
   "execution_count": 34,
   "metadata": {},
   "outputs": [
    {
     "name": "stdout",
     "output_type": "stream",
     "text": [
      "+--------------------+\n",
      "|             product|\n",
      "+--------------------+\n",
      "|     Debt collection|\n",
      "|Money transfer, v...|\n",
      "|Checking or savin...|\n",
      "|            Mortgage|\n",
      "|Credit card or pr...|\n",
      "|Credit reporting,...|\n",
      "|Vehicle loan or l...|\n",
      "|        Student loan|\n",
      "|Payday loan, titl...|\n",
      "+--------------------+"
     ]
    }
   ],
   "source": [
    "spark.sql(\"SELECT DISTINCT product FROM cust_complains.complaints\").show()"
   ]
  },
  {
   "cell_type": "code",
   "execution_count": 35,
   "metadata": {},
   "outputs": [
    {
     "name": "stdout",
     "output_type": "stream",
     "text": [
      "+--------------------+\n",
      "|         sub_product|\n",
      "+--------------------+\n",
      "|                Loan|\n",
      "|     Savings account|\n",
      "|Conventional home...|\n",
      "|CD (Certificate o...|\n",
      "|               Lease|\n",
      "|         Money order|\n",
      "|           Gift card|\n",
      "|    Payday loan debt|\n",
      "|    Checking account|\n",
      "|    Virtual currency|\n",
      "|Mobile or digital...|\n",
      "|       I do not know|\n",
      "|         Payday loan|\n",
      "|          Title loan|\n",
      "|Foreign currency ...|\n",
      "|Other banking pro...|\n",
      "|General-purpose c...|\n",
      "|International mon...|\n",
      "|Other personal co...|\n",
      "|          Other debt|\n",
      "+--------------------+\n",
      "only showing top 20 rows"
     ]
    }
   ],
   "source": [
    "spark.sql(\"SELECT DISTINCT sub_product FROM cust_complains.complaints\").show()"
   ]
  },
  {
   "cell_type": "code",
   "execution_count": 36,
   "metadata": {},
   "outputs": [
    {
     "name": "stdout",
     "output_type": "stream",
     "text": [
      "+--------------------+\n",
      "|             company|\n",
      "+--------------------+\n",
      "|Eagle Home Mortga...|\n",
      "|       PlusFour, Inc|\n",
      "|   CU Recovery, Inc.|\n",
      "|FORD MOTOR CREDIT...|\n",
      "|National Recoveri...|\n",
      "|ClearOne Advantag...|\n",
      "|Landmark Mortgage...|\n",
      "|Worldwide Process...|\n",
      "|Manhattan Beach V...|\n",
      "|Delta Management ...|\n",
      "|F&L Marketing Ent...|\n",
      "|ACOPIA CAPITAL GROUP|\n",
      "|Zealandia Holding...|\n",
      "|Praxis Financial ...|\n",
      "|           AFNI INC.|\n",
      "|Medical Data Syst...|\n",
      "|Southern Credit R...|\n",
      "|NAM National Arbi...|\n",
      "|Capital Markets C...|\n",
      "|Law Office of Har...|\n",
      "+--------------------+\n",
      "only showing top 20 rows"
     ]
    }
   ],
   "source": [
    "spark.sql(\"SELECT DISTINCT company FROM cust_complains.complaints\").show()"
   ]
  },
  {
   "cell_type": "code",
   "execution_count": 37,
   "metadata": {},
   "outputs": [
    {
     "name": "stdout",
     "output_type": "stream",
     "text": [
      "+-----------------------+\n",
      "|company_public_response|\n",
      "+-----------------------+\n",
      "|   Company disputes ...|\n",
      "|   Company has respo...|\n",
      "|   Company believes ...|\n",
      "|                   null|\n",
      "|   Company believes ...|\n",
      "|   Company believes ...|\n",
      "|   Company believes ...|\n",
      "|   Company believes ...|\n",
      "|   Company can't ver...|\n",
      "|   Company believes ...|\n",
      "+-----------------------+"
     ]
    }
   ],
   "source": [
    "spark.sql(\"SELECT DISTINCT company_public_response FROM cust_complains.complaints\").show()"
   ]
  },
  {
   "cell_type": "code",
   "execution_count": 38,
   "metadata": {},
   "outputs": [
    {
     "name": "stdout",
     "output_type": "stream",
     "text": [
      "+--------------------+\n",
      "|    company_response|\n",
      "+--------------------+\n",
      "|                null|\n",
      "|   Untimely response|\n",
      "|Closed with non-m...|\n",
      "|         In progress|\n",
      "|Closed with monet...|\n",
      "|Closed with expla...|\n",
      "+--------------------+"
     ]
    }
   ],
   "source": [
    "spark.sql(\"SELECT DISTINCT company_response FROM cust_complains.complaints\").show()"
   ]
  },
  {
   "cell_type": "code",
   "execution_count": 39,
   "metadata": {},
   "outputs": [
    {
     "name": "stdout",
     "output_type": "stream",
     "text": [
      "+-------------------------+\n",
      "|consumer_consent_provided|\n",
      "+-------------------------+\n",
      "|                     null|\n",
      "|        Consent withdrawn|\n",
      "|                    Other|\n",
      "|         Consent provided|\n",
      "|     Consent not provided|\n",
      "|                      N/A|\n",
      "+-------------------------+"
     ]
    }
   ],
   "source": [
    "spark.sql(\"SELECT DISTINCT consumer_consent_provided FROM cust_complains.complaints\").show()"
   ]
  },
  {
   "cell_type": "code",
   "execution_count": 40,
   "metadata": {},
   "outputs": [
    {
     "name": "stdout",
     "output_type": "stream",
     "text": [
      "+-----------------+\n",
      "|consumer_disputed|\n",
      "+-----------------+\n",
      "|              N/A|\n",
      "+-----------------+"
     ]
    }
   ],
   "source": [
    "spark.sql(\"SELECT DISTINCT consumer_disputed FROM cust_complains.complaints\").show()"
   ]
  },
  {
   "cell_type": "code",
   "execution_count": 41,
   "metadata": {},
   "outputs": [
    {
     "name": "stdout",
     "output_type": "stream",
     "text": [
      "+--------------------+\n",
      "|       date_received|\n",
      "+--------------------+\n",
      "|2019-01-03T12:00:...|\n",
      "|2018-08-02T12:00:...|\n",
      "|2019-02-11T12:00:...|\n",
      "|2018-08-19T12:00:...|\n",
      "|2018-06-01T12:00:...|\n",
      "|2018-08-29T12:00:...|\n",
      "|2018-06-23T12:00:...|\n",
      "|2018-03-20T12:00:...|\n",
      "|2018-04-14T12:00:...|\n",
      "|2018-05-22T12:00:...|\n",
      "|2018-06-20T12:00:...|\n",
      "|2018-12-24T12:00:...|\n",
      "|2018-03-27T12:00:...|\n",
      "|2019-01-31T12:00:...|\n",
      "|2018-12-29T12:00:...|\n",
      "|2019-01-29T12:00:...|\n",
      "|2018-07-07T12:00:...|\n",
      "|2018-07-01T12:00:...|\n",
      "|2018-12-02T12:00:...|\n",
      "|2018-11-29T12:00:...|\n",
      "+--------------------+\n",
      "only showing top 20 rows"
     ]
    }
   ],
   "source": [
    "spark.sql(\"SELECT DISTINCT date_received FROM cust_complains.complaints\").show()"
   ]
  },
  {
   "cell_type": "code",
   "execution_count": 42,
   "metadata": {},
   "outputs": [
    {
     "name": "stdout",
     "output_type": "stream",
     "text": [
      "+--------------------+\n",
      "|date_sent_to_company|\n",
      "+--------------------+\n",
      "|2019-01-03T12:00:...|\n",
      "|2018-08-02T12:00:...|\n",
      "|2019-02-11T12:00:...|\n",
      "|2018-06-01T12:00:...|\n",
      "|2018-08-29T12:00:...|\n",
      "|2018-08-19T12:00:...|\n",
      "|2018-03-20T12:00:...|\n",
      "|2018-06-23T12:00:...|\n",
      "|2018-04-14T12:00:...|\n",
      "|2018-05-22T12:00:...|\n",
      "|2018-06-20T12:00:...|\n",
      "|2018-12-24T12:00:...|\n",
      "|2018-03-27T12:00:...|\n",
      "|2019-03-05T12:00:...|\n",
      "|2019-01-31T12:00:...|\n",
      "|2018-12-29T12:00:...|\n",
      "|2019-01-29T12:00:...|\n",
      "|2018-07-07T12:00:...|\n",
      "|2018-07-01T12:00:...|\n",
      "|2018-12-02T12:00:...|\n",
      "+--------------------+\n",
      "only showing top 20 rows"
     ]
    }
   ],
   "source": [
    "spark.sql(\"SELECT DISTINCT date_sent_to_company FROM cust_complains.complaints\").show()"
   ]
  },
  {
   "cell_type": "code",
   "execution_count": 43,
   "metadata": {},
   "outputs": [
    {
     "name": "stdout",
     "output_type": "stream",
     "text": [
      "+--------------------+\n",
      "|               issue|\n",
      "+--------------------+\n",
      "|Communication tac...|\n",
      "|Unexpected or oth...|\n",
      "|Getting a loan or...|\n",
      "|Vehicle was repos...|\n",
      "|Confusing or miss...|\n",
      "|   Property was sold|\n",
      "|      Getting a loan|\n",
      "|Other service pro...|\n",
      "|Can't stop withdr...|\n",
      "|Problem with a co...|\n",
      "|Loan payment wasn...|\n",
      "|Problem caused by...|\n",
      "|Improper use of y...|\n",
      "|Problem with a le...|\n",
      "|Managing, opening...|\n",
      "|Other features, t...|\n",
      "|  Opening an account|\n",
      "|Getting a credit ...|\n",
      "|Problem with the ...|\n",
      "|Charged fees or i...|\n",
      "+--------------------+\n",
      "only showing top 20 rows"
     ]
    }
   ],
   "source": [
    "spark.sql(\"SELECT DISTINCT issue FROM cust_complains.complaints\").show()"
   ]
  },
  {
   "cell_type": "code",
   "execution_count": 44,
   "metadata": {},
   "outputs": [
    {
     "name": "stdout",
     "output_type": "stream",
     "text": [
      "+--------------------+\n",
      "|           sub_issue|\n",
      "+--------------------+\n",
      "|      Banking errors|\n",
      "|      Privacy issues|\n",
      "|Transaction was n...|\n",
      "|Problem getting y...|\n",
      "|Problem when atte...|\n",
      "|Old information r...|\n",
      "|Account opened as...|\n",
      "|  Late or other fees|\n",
      "|Account status in...|\n",
      "|Deposits or withd...|\n",
      "|Information is in...|\n",
      "|Talked to a third...|\n",
      "|Told you not to r...|\n",
      "|Confusing or miss...|\n",
      "|       Credit denial|\n",
      "|         Denied loan|\n",
      "|Credit card compa...|\n",
      "|Company closed yo...|\n",
      "|Impersonated atto...|\n",
      "|Problem with rewa...|\n",
      "+--------------------+\n",
      "only showing top 20 rows"
     ]
    }
   ],
   "source": [
    "spark.sql(\"SELECT DISTINCT sub_issue FROM cust_complains.complaints\").show()"
   ]
  },
  {
   "cell_type": "code",
   "execution_count": 45,
   "metadata": {},
   "outputs": [
    {
     "name": "stdout",
     "output_type": "stream",
     "text": [
      "+--------------------+\n",
      "|               state|\n",
      "+--------------------+\n",
      "|UNITED STATES MIN...|\n",
      "|                  AZ|\n",
      "|                  SC|\n",
      "|                  LA|\n",
      "|                  MN|\n",
      "|                  AA|\n",
      "|                  NJ|\n",
      "|                  DC|\n",
      "|                  OR|\n",
      "|                  VA|\n",
      "|                null|\n",
      "|                  RI|\n",
      "|                  KY|\n",
      "|                  WY|\n",
      "|                  NH|\n",
      "|                  MI|\n",
      "|                  NV|\n",
      "|                  WI|\n",
      "|                  ID|\n",
      "|                  CA|\n",
      "+--------------------+\n",
      "only showing top 20 rows"
     ]
    }
   ],
   "source": [
    "spark.sql(\"SELECT DISTINCT state FROM cust_complains.complaints\").show()"
   ]
  },
  {
   "cell_type": "code",
   "execution_count": 46,
   "metadata": {},
   "outputs": [
    {
     "name": "stdout",
     "output_type": "stream",
     "text": [
      "+-------------+\n",
      "|submitted_via|\n",
      "+-------------+\n",
      "|        Phone|\n",
      "|          Fax|\n",
      "|        Email|\n",
      "|     Referral|\n",
      "|  Postal mail|\n",
      "|          Web|\n",
      "+-------------+"
     ]
    }
   ],
   "source": [
    "spark.sql(\"SELECT DISTINCT submitted_via FROM cust_complains.complaints\").show()"
   ]
  },
  {
   "cell_type": "code",
   "execution_count": 47,
   "metadata": {},
   "outputs": [
    {
     "name": "stdout",
     "output_type": "stream",
     "text": [
      "+------+\n",
      "|timely|\n",
      "+------+\n",
      "|    No|\n",
      "|   Yes|\n",
      "+------+"
     ]
    }
   ],
   "source": [
    "spark.sql(\"SELECT DISTINCT timely FROM cust_complains.complaints\").show()"
   ]
  },
  {
   "cell_type": "code",
   "execution_count": 48,
   "metadata": {},
   "outputs": [
    {
     "name": "stdout",
     "output_type": "stream",
     "text": [
      "+--------------------+\n",
      "|                tags|\n",
      "+--------------------+\n",
      "|                null|\n",
      "|      Older American|\n",
      "|       Servicemember|\n",
      "|Older American, S...|\n",
      "+--------------------+"
     ]
    }
   ],
   "source": [
    "spark.sql(\"SELECT DISTINCT tags FROM cust_complains.complaints\").show()"
   ]
  },
  {
   "cell_type": "code",
   "execution_count": 49,
   "metadata": {},
   "outputs": [
    {
     "name": "stdout",
     "output_type": "stream",
     "text": [
      "+--------+\n",
      "|zip_code|\n",
      "+--------+\n",
      "|   75007|\n",
      "|   921XX|\n",
      "|   068XX|\n",
      "|   19132|\n",
      "|   687XX|\n",
      "|   89106|\n",
      "|   36526|\n",
      "|   92027|\n",
      "|   78382|\n",
      "|   60053|\n",
      "|   11722|\n",
      "|   803XX|\n",
      "|   28117|\n",
      "|   178XX|\n",
      "|   66762|\n",
      "|   35670|\n",
      "|   33174|\n",
      "|   61354|\n",
      "|   90022|\n",
      "|   28334|\n",
      "+--------+\n",
      "only showing top 20 rows"
     ]
    }
   ],
   "source": [
    "spark.sql(\"SELECT DISTINCT zip_code FROM cust_complains.complaints\").show()"
   ]
  },
  {
   "cell_type": "code",
   "execution_count": 50,
   "metadata": {},
   "outputs": [
    {
     "name": "stdout",
     "output_type": "stream",
     "text": [
      "+------------+\n",
      "|complaint_id|\n",
      "+------------+\n",
      "|     3166501|\n",
      "|     3164583|\n",
      "|     3162168|\n",
      "|     3161707|\n",
      "|     3159784|\n",
      "|     3157845|\n",
      "|     3156339|\n",
      "|     3151053|\n",
      "|     3160135|\n",
      "|     3148837|\n",
      "|     3142790|\n",
      "|     3140870|\n",
      "|     3140817|\n",
      "|     3136573|\n",
      "|     3135981|\n",
      "|     3136430|\n",
      "|     3136039|\n",
      "|     3134676|\n",
      "|     2835893|\n",
      "|     2834917|\n",
      "+------------+\n",
      "only showing top 20 rows"
     ]
    }
   ],
   "source": [
    "spark.sql(\"SELECT DISTINCT complaint_id FROM cust_complains.complaints\").show()"
   ]
  },
  {
   "cell_type": "code",
   "execution_count": null,
   "metadata": {},
   "outputs": [],
   "source": []
  },
  {
   "cell_type": "code",
   "execution_count": null,
   "metadata": {},
   "outputs": [],
   "source": []
  }
 ],
 "metadata": {
  "kernelspec": {
   "display_name": "PySpark3",
   "language": "",
   "name": "pyspark3kernel"
  },
  "language_info": {
   "codemirror_mode": {
    "name": "python",
    "version": 3
   },
   "mimetype": "text/x-python",
   "name": "pyspark3",
   "pygments_lexer": "python3"
  }
 },
 "nbformat": 4,
 "nbformat_minor": 2
}
