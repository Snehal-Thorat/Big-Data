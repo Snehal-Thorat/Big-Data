{
 "cells": [
  {
   "cell_type": "markdown",
   "metadata": {},
   "source": [
    "# Big Data Project - Snehal Thorat"
   ]
  },
  {
   "cell_type": "code",
   "execution_count": 1,
   "metadata": {},
   "outputs": [
    {
     "name": "stdout",
     "output_type": "stream",
     "text": [
      "Starting Spark application\n"
     ]
    },
    {
     "data": {
      "text/html": [
       "<table>\n",
       "<tr><th>ID</th><th>YARN Application ID</th><th>Kind</th><th>State</th><th>Spark UI</th><th>Driver log</th><th>Current session?</th></tr><tr><td>3</td><td>application_1557151419635_0004</td><td>pyspark3</td><td>idle</td><td><a target=\"_blank\" href=\"http://ip-172-31-73-120.ec2.internal:20888/proxy/application_1557151419635_0004/\">Link</a></td><td><a target=\"_blank\" href=\"http://ip-172-31-71-28.ec2.internal:8042/node/containerlogs/container_1557151419635_0004_01_000001/livy\">Link</a></td><td>✔</td></tr></table>"
      ],
      "text/plain": [
       "<IPython.core.display.HTML object>"
      ]
     },
     "metadata": {},
     "output_type": "display_data"
    },
    {
     "name": "stdout",
     "output_type": "stream",
     "text": [
      "SparkSession available as 'spark'.\n",
      "\"\\nimport pandas as pd\\n#from IPython.core.display import display, HTML\\n#display(HTML('<h1>Hello, world!</h1>'))\\n\""
     ]
    }
   ],
   "source": [
    "from pyspark.sql.functions import *\n",
    "from pyspark.sql.types import *\n",
    "from pyspark.sql import *\n",
    "\n",
    "\"\"\"\n",
    "import pandas as pd\n",
    "#from IPython.core.display import display, HTML\n",
    "#display(HTML('<h1>Hello, world!</h1>'))\n",
    "\"\"\""
   ]
  },
  {
   "cell_type": "code",
   "execution_count": 3,
   "metadata": {},
   "outputs": [],
   "source": [
    "avgcc_inc_All_5MayDF = spark.read.parquet(\"s3://snehalpreprocessedfiles/Dataframes_equi_wells/avgcc_inc_All_5May.pq\")"
   ]
  },
  {
   "cell_type": "code",
   "execution_count": 4,
   "metadata": {},
   "outputs": [
    {
     "name": "stdout",
     "output_type": "stream",
     "text": [
      "['date_received', 'product', 'sub_product', 'issue', 'sub_issue', 'consumer_complaint_narrative', 'company_public_response', 'company', 'state', 'zip_code', 'tags', 'consumer_consent_provided', 'submitted_via', 'date_sent_to_company', 'company_response', 'timely_response', 'consumer_disputed', 'complaint_id', 'population', 'c_zipcode', 'zipcode_income', 'Total_Income', 'NUMDEP', 'zipcode_agg', 'Number_of_Complaints', 'zipcode_avgcc', 'Average_Complaints', 'Average_Income']"
     ]
    }
   ],
   "source": [
    "avgcc_inc_All_5MayDF.columns"
   ]
  },
  {
   "cell_type": "code",
   "execution_count": 5,
   "metadata": {},
   "outputs": [
    {
     "name": "stdout",
     "output_type": "stream",
     "text": [
      "root\n",
      " |-- date_received: string (nullable = true)\n",
      " |-- product: string (nullable = true)\n",
      " |-- sub_product: string (nullable = true)\n",
      " |-- issue: string (nullable = true)\n",
      " |-- sub_issue: string (nullable = true)\n",
      " |-- company_public_response: string (nullable = true)\n",
      " |-- company: string (nullable = true)\n",
      " |-- state: string (nullable = true)\n",
      " |-- zip_code: string (nullable = true)\n",
      " |-- tags: string (nullable = true)\n",
      " |-- consumer_consent_provided: string (nullable = true)\n",
      " |-- submitted_via: string (nullable = true)\n",
      " |-- date_sent_to_company: string (nullable = true)\n",
      " |-- company_response: string (nullable = true)\n",
      " |-- timely_response: string (nullable = true)\n",
      " |-- consumer_disputed: string (nullable = true)\n",
      " |-- complaint_id: string (nullable = true)\n",
      " |-- population: integer (nullable = true)\n",
      " |-- Total_Income: string (nullable = true)\n",
      " |-- NUMDEP: string (nullable = true)\n",
      " |-- zipcode_agg: string (nullable = true)\n",
      " |-- Number_of_Complaints: long (nullable = true)\n",
      " |-- zipcode_avgcc: string (nullable = true)\n",
      " |-- Average_Complaints: long (nullable = true)\n",
      " |-- Average_Income: long (nullable = true)"
     ]
    }
   ],
   "source": [
    "finalDF = avgcc_inc_All_5MayDF.drop('consumer_complaint_narrative','c_zipcode','zipcode_income')\n",
    "finalDF.printSchema()"
   ]
  },
  {
   "cell_type": "code",
   "execution_count": 11,
   "metadata": {},
   "outputs": [],
   "source": [
    "finalDF.createOrReplaceTempView(\"combined_dataset\")"
   ]
  },
  {
   "cell_type": "code",
   "execution_count": 12,
   "metadata": {},
   "outputs": [
    {
     "name": "stdout",
     "output_type": "stream",
     "text": [
      "+--------+----------------+-----------+\n",
      "|database|       tableName|isTemporary|\n",
      "+--------+----------------+-----------+\n",
      "|        |combined_dataset|       true|\n",
      "|        |            corr|       true|\n",
      "+--------+----------------+-----------+\n",
      "\n",
      "+-------------------------+---------+-------+\n",
      "|col_name                 |data_type|comment|\n",
      "+-------------------------+---------+-------+\n",
      "|date_received            |string   |null   |\n",
      "|product                  |string   |null   |\n",
      "|sub_product              |string   |null   |\n",
      "|issue                    |string   |null   |\n",
      "|sub_issue                |string   |null   |\n",
      "|company_public_response  |string   |null   |\n",
      "|company                  |string   |null   |\n",
      "|state                    |string   |null   |\n",
      "|zip_code                 |string   |null   |\n",
      "|tags                     |string   |null   |\n",
      "|consumer_consent_provided|string   |null   |\n",
      "|submitted_via            |string   |null   |\n",
      "|date_sent_to_company     |string   |null   |\n",
      "|company_response         |string   |null   |\n",
      "|timely_response          |string   |null   |\n",
      "|consumer_disputed        |string   |null   |\n",
      "|complaint_id             |string   |null   |\n",
      "|population               |int      |null   |\n",
      "|Total_Income             |string   |null   |\n",
      "|NUMDEP                   |string   |null   |\n",
      "|zipcode_agg              |string   |null   |\n",
      "|Number_of_Complaints     |bigint   |null   |\n",
      "|zipcode_avgcc            |string   |null   |\n",
      "|Average_Complaints       |bigint   |null   |\n",
      "|Average_Income           |bigint   |null   |\n",
      "+-------------------------+---------+-------+"
     ]
    }
   ],
   "source": [
    "spark.sql(\"show tables\").show()\n",
    "spark.sql(\"DESC combined_dataset\").show(30,truncate=False)"
   ]
  },
  {
   "cell_type": "markdown",
   "metadata": {},
   "source": [
    "# a)  Find the top (20 or less) for each attributes based on the number of complaints"
   ]
  },
  {
   "cell_type": "code",
   "execution_count": 7,
   "metadata": {},
   "outputs": [
    {
     "name": "stdout",
     "output_type": "stream",
     "text": [
      "3668131"
     ]
    }
   ],
   "source": [
    "finalDF.count()"
   ]
  },
  {
   "cell_type": "code",
   "execution_count": 8,
   "metadata": {},
   "outputs": [
    {
     "name": "stdout",
     "output_type": "stream",
     "text": [
      "+----------------------------------------------------------------------------+--------------------+--------------------+\n",
      "|product                                                                     |Number_of_complaints|Percent_of_Total    |\n",
      "+----------------------------------------------------------------------------+--------------------+--------------------+\n",
      "|Mortgage                                                                    |895869              |24.423037236129243  |\n",
      "|Debt collection                                                             |663390              |18.08523196145394   |\n",
      "|Credit reporting, credit repair services, or other personal consumer reports|573972              |15.647532762597628  |\n",
      "|Credit reporting                                                            |456502              |12.445084431281217  |\n",
      "|Bank account or service                                                     |281522              |7.6748076881659895  |\n",
      "|Credit card                                                                 |275410              |7.508183322787546   |\n",
      "|Checking or savings account                                                 |116537              |3.177013034703504   |\n",
      "|Student loan                                                                |114777              |3.1290321965055226  |\n",
      "|Credit card or prepaid card                                                 |105390              |2.8731253055029935  |\n",
      "|Consumer Loan                                                               |86507               |2.3583399829504454  |\n",
      "|Vehicle loan or lease                                                       |21450               |0.5847664655378993  |\n",
      "|Money transfer, virtual currency, or money service                          |17004               |0.4635603254082256  |\n",
      "|Payday loan, title loan, or personal loan                                   |16799               |0.4579716482317562  |\n",
      "|Payday loan                                                                 |15330               |0.4179240054403728  |\n",
      "|Money transfers                                                             |15048               |0.41023616659274165 |\n",
      "|Prepaid card                                                                |9582                |0.26122294978014693 |\n",
      "|Other financial service                                                     |3036                |0.08276694589151805 |\n",
      "|Virtual currency                                                            |6                   |1.635710393113005E-4|\n",
      "+----------------------------------------------------------------------------+--------------------+--------------------+"
     ]
    }
   ],
   "source": [
    "spark.sql(\"SELECT product,COUNT(product) Number_of_complaints, COUNT(product)/3668131*100 Percent_of_Total FROM combined_dataset GROUP BY product ORDER BY Number_of_complaints DESC\").show(truncate=False)"
   ]
  },
  {
   "cell_type": "code",
   "execution_count": 9,
   "metadata": {},
   "outputs": [
    {
     "name": "stdout",
     "output_type": "stream",
     "text": [
      "+------------------------------------------+--------------------+------------------+\n",
      "|sub_product                               |Number_of_complaints|Percent_of_Total  |\n",
      "+------------------------------------------+--------------------+------------------+\n",
      "|                                          |747242              |20.371191759509134|\n",
      "|Credit reporting                          |565326              |15.411826894950046|\n",
      "|Other mortgage                            |336071              |9.161913792064679 |\n",
      "|Checking account                          |277317              |7.560171651448654 |\n",
      "|Conventional fixed mortgage               |217098              |5.918490915400786 |\n",
      "|I do not know                             |142432              |3.882958378531192 |\n",
      "|Other (i.e. phone, health club, etc.)     |135911              |3.7051839206396937|\n",
      "|Conventional adjustable mortgage (ARM)    |86358               |2.354277968807548 |\n",
      "|FHA mortgage                              |86177               |2.349343575788324 |\n",
      "|Credit card                               |84330               |2.2989909575203282|\n",
      "|General-purpose credit card or charge card|83886               |2.2868867006112925|\n",
      "|Other debt                                |75023               |2.045265013708616 |\n",
      "|Non-federal student loan                  |72162               |1.9672688897970112|\n",
      "|Conventional home mortgage                |63498               |1.7310723090314932|\n",
      "|Medical                                   |58270               |1.58854741011158  |\n",
      "|Other bank product/service                |56207               |1.5323062344283778|\n",
      "|Vehicle loan                              |49746               |1.3561674869299924|\n",
      "|Credit card debt                          |42444               |1.1571015320881397|\n",
      "|Federal student loan servicing            |39304               |1.0714993548485592|\n",
      "|Home equity loan or line of credit        |36048               |0.9827348041822934|\n",
      "+------------------------------------------+--------------------+------------------+\n",
      "only showing top 20 rows"
     ]
    }
   ],
   "source": [
    "spark.sql(\"SELECT sub_product,COUNT(sub_product) Number_of_complaints, COUNT(sub_product)/3668131*100 Percent_of_Total  FROM combined_dataset GROUP BY sub_product ORDER BY Number_of_complaints DESC\").show(truncate=False)"
   ]
  },
  {
   "cell_type": "code",
   "execution_count": 10,
   "metadata": {},
   "outputs": [
    {
     "name": "stdout",
     "output_type": "stream",
     "text": [
      "+--------------------------------------+--------------------+------------------+\n",
      "|company                               |Number_of_complaints|Percent_of_Total  |\n",
      "+--------------------------------------+--------------------+------------------+\n",
      "|EQUIFAX, INC.                         |327716              |8.934141119823693 |\n",
      "|Experian Information Solutions Inc.   |309790              |8.445445378041297 |\n",
      "|BANK OF AMERICA, NATIONAL ASSOCIATION |280684              |7.651962266342179 |\n",
      "|TRANSUNION INTERMEDIATE HOLDINGS, INC.|279988              |7.632988025782067 |\n",
      "|WELLS FARGO & COMPANY                 |232182              |6.329708508229396 |\n",
      "|JPMORGAN CHASE & CO.                  |194225              |5.294930851706224 |\n",
      "|CITIBANK, N.A.                        |143621              |3.9153727061547148|\n",
      "|CAPITAL ONE FINANCIAL CORPORATION     |97452               |2.656720820494143 |\n",
      "|OCWEN LOAN SERVICING LLC              |91692               |2.499692622755294 |\n",
      "|Navient Solutions, LLC.               |64630               |1.7619327117815584|\n",
      "|NATIONSTAR MORTGAGE                   |64422               |1.7562622490854334|\n",
      "|SYNCHRONY FINANCIAL                   |59244               |1.6151004421597812|\n",
      "|U.S. BANCORP                          |54324               |1.4809721899245147|\n",
      "|Ditech Financial LLC                  |40650               |1.1081937913340607|\n",
      "|AMERICAN EXPRESS COMPANY              |37174               |1.0134316358930475|\n",
      "|PNC Bank N.A.                         |35837               |0.9769825559665126|\n",
      "|ENCORE CAPITAL GROUP INC.             |33030               |0.9004585714087092|\n",
      "|SUNTRUST BANKS, INC.                  |30156               |0.8221080435785963|\n",
      "|DISCOVER BANK                         |28840               |0.7862314622896511|\n",
      "|HSBC NORTH AMERICA HOLDINGS INC.      |28656               |0.7812152837507712|\n",
      "+--------------------------------------+--------------------+------------------+\n",
      "only showing top 20 rows\n",
      "\n",
      "+-----------------------+--------------------+--------------------+\n",
      "|company_public_response|Number_of_complaints|    Percent_of_Total|\n",
      "+-----------------------+--------------------+--------------------+\n",
      "|                       |             2541449|   69.28457571444422|\n",
      "|   Company has respo...|              802864|   21.88754981760466|\n",
      "|   Company believes ...|              140620|   3.833559924659179|\n",
      "|   Company chooses n...|              133494|  3.6392920536371247|\n",
      "|   Company believes ...|               12558| 0.34235418527855194|\n",
      "|   Company disputes ...|               10974| 0.29917143090036863|\n",
      "|   Company believes ...|                8190|  0.2232744686599252|\n",
      "|   Company believes ...|                7500| 0.20446379913912563|\n",
      "|   Company can't ver...|                5520| 0.15048535616639644|\n",
      "|   Company believes ...|                4860|  0.1324925418421534|\n",
      "|   Company believes ...|                 102|0.002780707668292...|\n",
      "+-----------------------+--------------------+--------------------+"
     ]
    }
   ],
   "source": [
    "spark.sql(\"SELECT company,COUNT(company) Number_of_complaints, COUNT(company)/3668131*100 Percent_of_Total  FROM combined_dataset GROUP BY company ORDER BY Number_of_complaints DESC\").show(truncate=False)\n",
    "spark.sql(\"SELECT company_public_response,COUNT(company_public_response) Number_of_complaints, COUNT(company_public_response)/3668131*100 Percent_of_Total  FROM combined_dataset GROUP BY company_public_response ORDER BY Number_of_complaints DESC\").show()"
   ]
  },
  {
   "cell_type": "code",
   "execution_count": 11,
   "metadata": {},
   "outputs": [
    {
     "name": "stdout",
     "output_type": "stream",
     "text": [
      "+-------------------------------+--------------------+-------------------+\n",
      "|company_response               |Number_of_complaints|Percent_of_Total   |\n",
      "+-------------------------------+--------------------+-------------------+\n",
      "|Closed with explanation        |2812496             |76.67381562981257  |\n",
      "|Closed with non-monetary relief|468068              |12.760394871393633 |\n",
      "|Closed with monetary relief    |208474              |5.683384808230676  |\n",
      "|Closed without relief          |70247               |1.9150624664168212 |\n",
      "|Closed                         |53598               |1.4611800941678472 |\n",
      "|In progress                    |21432               |0.5842757524199654 |\n",
      "|Closed with relief             |19974               |0.5445279898673194 |\n",
      "|Untimely response              |13830               |0.37703124561254764|\n",
      "|                               |12                  |3.27142078622601E-4|\n",
      "+-------------------------------+--------------------+-------------------+"
     ]
    }
   ],
   "source": [
    "spark.sql(\"SELECT company_response,COUNT(company_response) Number_of_complaints, COUNT(company_response)/3668131*100 Percent_of_Total  FROM combined_dataset GROUP BY company_response ORDER BY Number_of_complaints DESC\").show(truncate=False)"
   ]
  },
  {
   "cell_type": "code",
   "execution_count": 12,
   "metadata": {},
   "outputs": [
    {
     "name": "stdout",
     "output_type": "stream",
     "text": [
      "+-------------------------+--------------------+------------------+\n",
      "|consumer_consent_provided|Number_of_complaints|Percent_of_Total  |\n",
      "+-------------------------+--------------------+------------------+\n",
      "|N/A                      |2255326             |61.48433630096635 |\n",
      "|Consent not provided     |1195515             |32.5919385103749  |\n",
      "|Consent provided         |147228              |4.013706162620691 |\n",
      "|                         |38034               |1.036876818194334 |\n",
      "|Other                    |25704               |0.7007383324096114|\n",
      "|Consent withdrawn        |6324                |0.1724038754341107|\n",
      "+-------------------------+--------------------+------------------+"
     ]
    }
   ],
   "source": [
    "spark.sql(\"SELECT consumer_consent_provided,COUNT(consumer_consent_provided) Number_of_complaints, COUNT(*)/3668131*100 Percent_of_Total  FROM combined_dataset GROUP BY consumer_consent_provided ORDER BY Number_of_complaints DESC\").show(truncate=False)"
   ]
  },
  {
   "cell_type": "code",
   "execution_count": 13,
   "metadata": {},
   "outputs": [
    {
     "name": "stdout",
     "output_type": "stream",
     "text": [
      "+-----------------+--------------------+------------------+\n",
      "|consumer_disputed|Number_of_complaints|Percent_of_Total  |\n",
      "+-----------------+--------------------+------------------+\n",
      "|No               |1983293             |54.06821621147119 |\n",
      "|N/A              |1233420             |33.62529855122404 |\n",
      "|Yes              |451418              |12.306485237304775|\n",
      "+-----------------+--------------------+------------------+"
     ]
    }
   ],
   "source": [
    "spark.sql(\"SELECT consumer_disputed,COUNT(consumer_disputed)  Number_of_complaints, COUNT(*)/3668131*100 Percent_of_Total FROM combined_dataset GROUP BY consumer_disputed ORDER BY Number_of_complaints DESC\").show(truncate=False)"
   ]
  },
  {
   "cell_type": "code",
   "execution_count": 14,
   "metadata": {},
   "outputs": [
    {
     "name": "stdout",
     "output_type": "stream",
     "text": [
      "+-------------+--------------------+-------------------+\n",
      "|date_received|Number_of_complaints|Percent_of_Total   |\n",
      "+-------------+--------------------+-------------------+\n",
      "|09/08/2017   |7236                |0.1972666734094284 |\n",
      "|09/09/2017   |5952                |0.16226247099681007|\n",
      "|01/19/2017   |4374                |0.11924328765793807|\n",
      "|04/05/2018   |3966                |0.10812045698476963|\n",
      "|06/26/2014   |3660                |0.0997783339798933 |\n",
      "|01/20/2017   |3498                |0.0953619159184882 |\n",
      "|04/10/2018   |3498                |0.0953619159184882 |\n",
      "|04/24/2018   |3456                |0.09421691864330908|\n",
      "|04/04/2018   |3318                |0.09045478473914917|\n",
      "|09/13/2017   |3270                |0.08914621642465877|\n",
      "|04/11/2018   |3186                |0.08685622187430056|\n",
      "|04/06/2018   |3174                |0.08652907979567796|\n",
      "|04/03/2018   |3126                |0.08522051148118756|\n",
      "|03/06/2018   |3107                |0.08470253652336844|\n",
      "|02/12/2018   |3090                |0.08423908524531976|\n",
      "|05/16/2018   |3066                |0.08358480108807456|\n",
      "|04/17/2018   |2952                |0.08047695134115986|\n",
      "|01/30/2018   |2928                |0.07982266718391465|\n",
      "|02/13/2018   |2910                |0.07933195406598074|\n",
      "|02/27/2018   |2910                |0.07933195406598074|\n",
      "+-------------+--------------------+-------------------+\n",
      "only showing top 20 rows"
     ]
    }
   ],
   "source": [
    "spark.sql(\"SELECT date_received,COUNT(date_received) Number_of_complaints, COUNT(*)/3668131*100 Percent_of_Total  FROM combined_dataset GROUP BY date_received ORDER BY Number_of_complaints DESC\").show(truncate=False)"
   ]
  },
  {
   "cell_type": "code",
   "execution_count": 15,
   "metadata": {},
   "outputs": [
    {
     "name": "stdout",
     "output_type": "stream",
     "text": [
      "+--------------------+--------------------+-------------------+\n",
      "|date_sent_to_company|Number_of_complaints|Percent_of_Total   |\n",
      "+--------------------+--------------------+-------------------+\n",
      "|09/08/2017          |6930                |0.18892455040455208|\n",
      "|09/09/2017          |5874                |0.16013604748576318|\n",
      "|03/12/2014          |3738                |0.10190475749094022|\n",
      "|01/13/2014          |3612                |0.0984697656654029 |\n",
      "|04/10/2018          |3576                |0.0974883394295351 |\n",
      "|02/07/2014          |3408                |0.09290835032881868|\n",
      "|02/10/2014          |3408                |0.09290835032881868|\n",
      "|04/24/2018          |3366                |0.09176335305363958|\n",
      "|02/24/2014          |3336                |0.09094549785708309|\n",
      "|01/19/2017          |3294                |0.08980050058190397|\n",
      "|02/12/2018          |3216                |0.08767407707085706|\n",
      "|01/20/2017          |3198                |0.08718336395292317|\n",
      "|04/04/2018          |3174                |0.08652907979567796|\n",
      "|04/11/2018          |3168                |0.08636550875636667|\n",
      "|05/16/2018          |3156                |0.08603836667774406|\n",
      "|09/26/2017          |3126                |0.08522051148118756|\n",
      "|02/25/2014          |3120                |0.08505694044187626|\n",
      "|03/22/2017          |3114                |0.08489336940256496|\n",
      "|05/14/2018          |3090                |0.08423908524531976|\n",
      "|06/21/2012          |3090                |0.08423908524531976|\n",
      "+--------------------+--------------------+-------------------+\n",
      "only showing top 20 rows"
     ]
    }
   ],
   "source": [
    "spark.sql(\"SELECT date_sent_to_company,COUNT(date_sent_to_company) Number_of_complaints, COUNT(*)/3668131*100 Percent_of_Total  FROM combined_dataset GROUP BY date_sent_to_company ORDER BY Number_of_complaints DESC\").show(truncate=False)\n"
   ]
  },
  {
   "cell_type": "code",
   "execution_count": 16,
   "metadata": {},
   "outputs": [
    {
     "name": "stdout",
     "output_type": "stream",
     "text": [
      "+--------------------------------------------------------------------------------+--------------------+------------------+\n",
      "|issue                                                                           |Number_of_complaints|Percent_of_Total  |\n",
      "+--------------------------------------------------------------------------------+--------------------+------------------+\n",
      "|Loan modification,collection,foreclosure                                        |409024              |11.150746797210896|\n",
      "|Incorrect information on your report                                            |362805              |9.890731819556063 |\n",
      "|Incorrect information on credit report                                          |341880              |9.320277819957901 |\n",
      "|Loan servicing, payments, escrow account                                        |243839              |6.647499775771366 |\n",
      "|Cont'd attempts collect debt not owed                                           |179055              |4.881368740647485 |\n",
      "|Account opening, closing, or management                                         |123976              |3.379813861609632 |\n",
      "|Problem with a credit reporting company's investigation into an existing problem|118518              |3.2310187395161187|\n",
      "|Attempts to collect debt not owed                                               |103468              |2.8207280492436064|\n",
      "|Disclosure verification of debt                                                 |99294               |2.706937129562712 |\n",
      "|Communication tactics                                                           |94344               |2.571991022130889 |\n",
      "|Improper use of your report                                                     |79515               |2.16772519847301  |\n",
      "|Deposits and withdrawals                                                        |77009               |2.0994070277206567|\n",
      "|Managing an account                                                             |76979               |2.0985891725241004|\n",
      "|Written notification about debt                                                 |66474               |1.8122035445298983|\n",
      "|Trouble during payment process                                                  |54930               |1.4974928648949561|\n",
      "|Other                                                                           |53808               |1.466905080543743 |\n",
      "|Application, originator, mortgage broker                                        |53322               |1.4536558263595276|\n",
      "|Managing the loan or lease                                                      |49278               |1.3434089458637108|\n",
      "|Credit reporting company's investigation                                        |48450               |1.3208361424387516|\n",
      "|Struggling to pay mortgage                                                      |47760               |1.302025472917952 |\n",
      "+--------------------------------------------------------------------------------+--------------------+------------------+\n",
      "only showing top 20 rows"
     ]
    }
   ],
   "source": [
    "spark.sql(\"SELECT issue,COUNT(issue)  Number_of_complaints, COUNT(*)/3668131*100 Percent_of_Total FROM combined_dataset GROUP BY issue ORDER BY Number_of_complaints DESC\").show(truncate=False)\n"
   ]
  },
  {
   "cell_type": "code",
   "execution_count": 17,
   "metadata": {},
   "outputs": [
    {
     "name": "stdout",
     "output_type": "stream",
     "text": [
      "+--------------------------------------------------------+--------------------+------------------+\n",
      "|sub_issue                                               |Number_of_complaints|Percent_of_Total  |\n",
      "+--------------------------------------------------------+--------------------+------------------+\n",
      "|                                                        |1650049             |44.98337164076201 |\n",
      "|Information belongs to someone else                     |167879              |4.576690418090303 |\n",
      "|Account status                                          |133008              |3.6260427994529096|\n",
      "|Debt is not mine                                        |109924              |2.9967304875425658|\n",
      "|Information is not mine                                 |107940              |2.942642997210296 |\n",
      "|Their investigation did not fix an error on your report |88248               |2.405802846190608 |\n",
      "|Not given enough info to verify debt                    |75066               |2.0464372728236806|\n",
      "|Account status incorrect                                |70745               |1.928638862679659 |\n",
      "|Debt was paid                                           |68585               |1.8697532885275907|\n",
      "|Account information incorrect                           |60252               |1.6425803767640796|\n",
      "|Debt is not yours                                       |56500               |1.5402939535147464|\n",
      "|Frequent or repeated calls                              |56268               |1.533969206661376 |\n",
      "|Didn't receive enough information to verify debt        |54078               |1.4742657773127514|\n",
      "|Credit inquiries on your report that you don't recognize|52696               |1.4365899145913819|\n",
      "|Attempted to collect wrong amount                       |38459               |1.0484631001455509|\n",
      "|Account terms                                           |34854               |0.9501841673593445|\n",
      "|Deposits and withdrawals                                |28421               |0.7748087513777453|\n",
      "|Public record                                           |25698               |0.7005747613703001|\n",
      "|Reporting company used your report improperly           |25229               |0.6877889584641333|\n",
      "|Personal information                                    |24402               |0.6652434168790591|\n",
      "+--------------------------------------------------------+--------------------+------------------+\n",
      "only showing top 20 rows"
     ]
    }
   ],
   "source": [
    "spark.sql(\"SELECT sub_issue,COUNT(sub_issue) Number_of_complaints, COUNT(*)/3668131*100 Percent_of_Total  FROM combined_dataset GROUP BY sub_issue ORDER BY Number_of_complaints DESC\").show(truncate=False)\n"
   ]
  },
  {
   "cell_type": "code",
   "execution_count": 18,
   "metadata": {},
   "outputs": [
    {
     "name": "stdout",
     "output_type": "stream",
     "text": [
      "+-----+--------------------+------------------+\n",
      "|state|Number_of_complaints|Percent_of_Total  |\n",
      "+-----+--------------------+------------------+\n",
      "|CA   |633104              |17.259579878690264|\n",
      "|FL   |399144              |10.881399819144955|\n",
      "|TX   |342660              |9.341542055068372 |\n",
      "|NY   |297131              |8.100337746934338 |\n",
      "|GA   |220709              |6.016933419226303 |\n",
      "|IL   |168828              |4.602561904141373 |\n",
      "|MD   |126030              |3.4358096807338665|\n",
      "|NC   |124488              |3.3937719236308626|\n",
      "|VA   |118784              |3.2382703889255864|\n",
      "|PA   |116430              |3.174096017835786 |\n",
      "|OH   |113862              |3.1040876130105493|\n",
      "|MI   |91872               |2.504599753934633 |\n",
      "|AZ   |90497               |2.4671147240924602|\n",
      "|WA   |81816               |2.2304546920488937|\n",
      "|CO   |63936               |1.743012994901218 |\n",
      "|TN   |59202               |1.613955444884602 |\n",
      "|SC   |56196               |1.5320063541896405|\n",
      "|NV   |53250               |1.451692973887792 |\n",
      "|MO   |47118               |1.2845233717116429|\n",
      "|IN   |42144               |1.1489229801225747|\n",
      "+-----+--------------------+------------------+\n",
      "only showing top 20 rows"
     ]
    }
   ],
   "source": [
    "spark.sql(\"SELECT state,COUNT(state)  Number_of_complaints, COUNT(*)/3668131*100 Percent_of_Total FROM combined_dataset GROUP BY state ORDER BY Number_of_complaints DESC\").show(truncate=False)\n"
   ]
  },
  {
   "cell_type": "code",
   "execution_count": 19,
   "metadata": {},
   "outputs": [
    {
     "name": "stdout",
     "output_type": "stream",
     "text": [
      "+-------------+--------------------+-------------------+\n",
      "|submitted_via|Number_of_complaints|Percent_of_Total   |\n",
      "+-------------+--------------------+-------------------+\n",
      "|Web          |2312929             |63.05470006387449  |\n",
      "|Referral     |706430              |19.258581550113668 |\n",
      "|Postal mail  |291352              |7.9427915742376705 |\n",
      "|Phone        |275430              |7.50872855958525   |\n",
      "|Fax          |80640               |2.1983947683438787 |\n",
      "|Email        |1350                |0.03680348384504261|\n",
      "+-------------+--------------------+-------------------+"
     ]
    }
   ],
   "source": [
    "spark.sql(\"SELECT submitted_via,COUNT(submitted_via) Number_of_complaints, COUNT(*)/3668131*100 Percent_of_Total  FROM combined_dataset GROUP BY submitted_via ORDER BY Number_of_complaints DESC\").show(truncate=False)\n",
    "\n"
   ]
  },
  {
   "cell_type": "code",
   "execution_count": 20,
   "metadata": {},
   "outputs": [
    {
     "name": "stdout",
     "output_type": "stream",
     "text": [
      "+---------------+--------------------+-----------------+\n",
      "|timely_response|Number_of_complaints|Percent_of_Total |\n",
      "+---------------+--------------------+-----------------+\n",
      "|Yes            |3582859             |97.67532838930781|\n",
      "|No             |85272               |2.324671610692203|\n",
      "+---------------+--------------------+-----------------+"
     ]
    }
   ],
   "source": [
    "spark.sql(\"SELECT timely_response,COUNT(timely_response) Number_of_complaints, COUNT(*)/3668131*100 Percent_of_Total  FROM combined_dataset GROUP BY timely_response ORDER BY Number_of_complaints DESC\").show(truncate=False)\n"
   ]
  },
  {
   "cell_type": "code",
   "execution_count": 21,
   "metadata": {},
   "outputs": [
    {
     "name": "stdout",
     "output_type": "stream",
     "text": [
      "+-----------------------------+--------------------+------------------+\n",
      "|tags                         |Number_of_complaints|Percent_of_Total  |\n",
      "+-----------------------------+--------------------+------------------+\n",
      "|                             |3228236             |88.00765294369258 |\n",
      "|Older American               |211996              |5.77940100830641  |\n",
      "|Servicemember                |193280              |5.269168413014693 |\n",
      "|Older American, Servicemember|34619               |0.9437776349863187|\n",
      "+-----------------------------+--------------------+------------------+"
     ]
    }
   ],
   "source": [
    "spark.sql(\"SELECT tags,COUNT(tags) Number_of_complaints, COUNT(*)/3668131*100 Percent_of_Total  FROM combined_dataset GROUP BY tags ORDER BY Number_of_complaints DESC\").show(truncate=False)\n"
   ]
  },
  {
   "cell_type": "code",
   "execution_count": 22,
   "metadata": {},
   "outputs": [
    {
     "name": "stdout",
     "output_type": "stream",
     "text": [
      "+--------+--------------------+-------------------+\n",
      "|zip_code|Number_of_complaints|Percent_of_Total   |\n",
      "+--------+--------------------+-------------------+\n",
      "|48382   |5670                |0.15457463214917896|\n",
      "|30349   |5172                |0.14099823588634103|\n",
      "|33071   |4428                |0.12071542701173976|\n",
      "|28269   |4314                |0.11760757726482507|\n",
      "|33173   |3984                |0.10861117010270353|\n",
      "|60620   |3666                |0.09994190501920461|\n",
      "|30331   |3666                |0.09994190501920461|\n",
      "|33025   |3456                |0.09421691864330908|\n",
      "|30058   |3432                |0.09356263448606388|\n",
      "|30281   |3384                |0.09225406617157349|\n",
      "|30034   |3288                |0.08963692954259267|\n",
      "|20774   |3270                |0.08914621642465877|\n",
      "|20744   |3264                |0.08898264538534748|\n",
      "|90047   |3258                |0.08881907434603617|\n",
      "|11375   |3246                |0.08849193226741356|\n",
      "|30039   |3246                |0.08849193226741356|\n",
      "|28216   |3234                |0.08816479018879096|\n",
      "|77449   |3198                |0.08718336395292317|\n",
      "|30043   |3186                |0.08685622187430056|\n",
      "|29229   |3090                |0.08423908524531976|\n",
      "+--------+--------------------+-------------------+\n",
      "only showing top 20 rows"
     ]
    }
   ],
   "source": [
    "spark.sql(\"SELECT zip_code,COUNT(zip_code) Number_of_complaints, COUNT(zip_code)/3668131*100 Percent_of_Total FROM combined_dataset GROUP BY zip_code ORDER BY Number_of_complaints DESC\").show(truncate=False)\n"
   ]
  },
  {
   "cell_type": "code",
   "execution_count": 23,
   "metadata": {},
   "outputs": [
    {
     "name": "stdout",
     "output_type": "stream",
     "text": [
      "+------------------------------------------+--------------------+-------------------+\n",
      "|sub_product                               |Number_of_complaints|Percent_of_Total   |\n",
      "+------------------------------------------+--------------------+-------------------+\n",
      "|                                          |747242              |20.371191759509134 |\n",
      "|Credit reporting                          |565326              |15.411826894950046 |\n",
      "|Other mortgage                            |336071              |9.161913792064679  |\n",
      "|Checking account                          |277317              |7.560171651448654  |\n",
      "|Conventional fixed mortgage               |217098              |5.918490915400786  |\n",
      "|I do not know                             |142432              |3.882958378531192  |\n",
      "|Other (i.e. phone, health club, etc.)     |135911              |3.7051839206396937 |\n",
      "|Conventional adjustable mortgage (ARM)    |86358               |2.354277968807548  |\n",
      "|FHA mortgage                              |86177               |2.349343575788324  |\n",
      "|Credit card                               |84330               |2.2989909575203282 |\n",
      "|General-purpose credit card or charge card|83886               |2.2868867006112925 |\n",
      "|Other debt                                |75023               |2.045265013708616  |\n",
      "|Non-federal student loan                  |72162               |1.9672688897970112 |\n",
      "|Conventional home mortgage                |63498               |1.7310723090314932 |\n",
      "|Medical                                   |58270               |1.58854741011158   |\n",
      "|Other bank product/service                |56207               |1.5323062344283778 |\n",
      "|Vehicle loan                              |49746               |1.3561674869299924 |\n",
      "|Credit card debt                          |42444               |1.1571015320881397 |\n",
      "|Federal student loan servicing            |39304               |1.0714993548485592 |\n",
      "|Home equity loan or line of credit        |36048               |0.9827348041822934 |\n",
      "|Medical debt                              |34404               |0.937916339410997  |\n",
      "|Other type of mortgage                    |31794               |0.8667629373105813 |\n",
      "|Installment loan                          |28355               |0.7730094699453209 |\n",
      "|Payday loan                               |27744               |0.7563524857754536 |\n",
      "|Savings account                           |24485               |0.667506149589532  |\n",
      "|Other banking product or service          |22590               |0.6158449630070464 |\n",
      "|VA mortgage                               |18989               |0.5176750775803808 |\n",
      "|Loan                                      |18336               |0.4998730961353343 |\n",
      "|Store credit card                         |16428               |0.4478575056343408 |\n",
      "|Mortgage                                  |16146               |0.44016966678670966|\n",
      "|Domestic (US) money transfer              |12078               |0.3292685021336479 |\n",
      "|Private student loan                      |11765               |0.32073554624957507|\n",
      "|(CD) Certificate of deposit               |11520               |0.314056395477697  |\n",
      "|International money transfer              |11298               |0.30800426702317885|\n",
      "|Auto                                      |10920               |0.2976992915465669 |\n",
      "|Personal line of credit                   |10391               |0.2832777782472872 |\n",
      "|Home equity loan or line of credit (HELOC)|8964                |0.24437513273108297|\n",
      "|Reverse mortgage                          |8304                |0.2263823184068399 |\n",
      "|Other personal consumer report            |7422                |0.20233737562807874|\n",
      "|Federal student loan                      |7404                |0.2018466625101448 |\n",
      "|Vehicle lease                             |6744                |0.18385384818590175|\n",
      "|Auto debt                                 |6258                |0.17060459400168643|\n",
      "|Mortgage debt                             |5958                |0.1624260420361214 |\n",
      "|Payday loan debt                          |5634                |0.15359320591331116|\n",
      "|General purpose card                      |4206                |0.11466329855722165|\n",
      "|CD (Certificate of Deposit)               |4062                |0.11073759361375043|\n",
      "|Federal student loan debt                 |3942                |0.10746617282752444|\n",
      "|Mobile or digital wallet                  |3612                |0.0984697656654029 |\n",
      "|Private student loan debt                 |3294                |0.08980050058190397|\n",
      "|Lease                                     |3096                |0.08440265628463106|\n",
      "+------------------------------------------+--------------------+-------------------+\n",
      "only showing top 50 rows"
     ]
    }
   ],
   "source": [
    "spark.sql(\"SELECT c2.sub_product, COUNT(c2.sub_product) Number_of_complaints, COUNT(c2.sub_product)/3668131*100 Percent_of_Total FROM combined_dataset c2 GROUP BY c2.sub_product ORDER BY Number_of_complaints DESC\").show(50,truncate=False)\n"
   ]
  },
  {
   "cell_type": "markdown",
   "metadata": {},
   "source": [
    "### Cross-frequency of some of the fields (group by multiple fields)\n"
   ]
  },
  {
   "cell_type": "code",
   "execution_count": 183,
   "metadata": {},
   "outputs": [
    {
     "name": "stdout",
     "output_type": "stream",
     "text": [
      "+---------------------------+------------------------------------------+--------------------+---------------------+\n",
      "|product                    |sub_product                               |Number_of_complaints|Percent_of_Total     |\n",
      "+---------------------------+------------------------------------------+--------------------+---------------------+\n",
      "|Bank account or service    |Checking account                          |194806              |5.310769980679534    |\n",
      "|Bank account or service    |Other bank product/service                |56207               |1.5323062344283778   |\n",
      "|Bank account or service    |Savings account                           |17183               |0.46844019474767945  |\n",
      "|Bank account or service    |(CD) Certificate of deposit               |11520               |0.314056395477697    |\n",
      "|Bank account or service    |Cashing a check without an account        |1806                |0.04923488283270145  |\n",
      "|Checking or savings account|Checking account                          |82511               |2.249401670769119    |\n",
      "|Checking or savings account|Other banking product or service          |22590               |0.6158449630070464   |\n",
      "|Checking or savings account|Savings account                           |7302                |0.1990659548418527   |\n",
      "|Checking or savings account|CD (Certificate of Deposit)               |4062                |0.11073759361375043  |\n",
      "|Checking or savings account|Personal line of credit                   |72                  |0.0019628524717356056|\n",
      "|Consumer Loan              |Vehicle loan                              |49746               |1.3561674869299924   |\n",
      "|Consumer Loan              |Installment loan                          |21611               |0.5891556217594192   |\n",
      "|Consumer Loan              |Vehicle lease                             |6744                |0.18385384818590175  |\n",
      "|Consumer Loan              |Personal line of credit                   |6720                |0.18319956402865656  |\n",
      "|Consumer Loan              |Title loan                                |1434                |0.03909347839540082  |\n",
      "|Consumer Loan              |Pawn loan                                 |252                 |0.006869983651074621 |\n",
      "|Credit card                |                                          |275410              |7.508183322787546    |\n",
      "|Credit card or prepaid card|General-purpose credit card or charge card|83886               |2.2868867006112925   |\n",
      "|Credit card or prepaid card|Store credit card                         |16428               |0.4478575056343408   |\n",
      "|Credit card or prepaid card|General-purpose prepaid card              |2820                |0.07687838847631123  |\n",
      "+---------------------------+------------------------------------------+--------------------+---------------------+\n",
      "only showing top 20 rows"
     ]
    }
   ],
   "source": [
    "spark.sql(\"SELECT t1.product, c1.sub_product, COUNT(c1.sub_product)  Number_of_complaints, COUNT(*)/3668131*100 Percent_of_Total FROM combined_dataset c1 CROSS JOIN (SELECT DISTINCT c2.product FROM combined_dataset c2)t1 ON t1.product = c1.product GROUP BY t1.product, c1.sub_product ORDER BY product, Number_of_Complaints DESC\").show(20, truncate = False)\n"
   ]
  },
  {
   "cell_type": "code",
   "execution_count": 25,
   "metadata": {},
   "outputs": [
    {
     "name": "stdout",
     "output_type": "stream",
     "text": [
      "+--------------------+--------------------+--------------------+--------------------+\n",
      "|               issue|           sub_issue|Number_of_complaints|    Percent_of_Total|\n",
      "+--------------------+--------------------+--------------------+--------------------+\n",
      "|APR or interest rate|                    |               17604| 0.47991742933935566|\n",
      "|Account opening, ...|                    |              123976|   3.379813861609632|\n",
      "|Account terms and...|                    |                1662| 0.04530917788923024|\n",
      "|        Adding money|                    |                 450|0.012267827948347538|\n",
      "|         Advertising|Confusing or misl...|                  72|0.001962852471735...|\n",
      "|         Advertising|Changes in terms ...|                  48|0.001308568314490404|\n",
      "|Advertising and m...|                    |                8532|  0.2325980179006693|\n",
      "|Advertising and m...|Didn't receive ad...|                3180| 0.08669265083498927|\n",
      "|Advertising and m...|Confusing or misl...|                2040|0.055614153365842176|\n",
      "|Advertising, mark...|                    |                 198|0.005397844297272917|\n",
      "|Application proce...|                    |                1758| 0.04792631451821104|\n",
      "|Application, orig...|                    |               53322|  1.4536558263595276|\n",
      "|Applied for loan/...|                    |                1098| 0.02993350019396799|\n",
      "|Applying for a mo...|                    |                1716| 0.04678131724303194|\n",
      "|Applying for a mo...|                    |                8274|  0.2255644632102834|\n",
      "|         Arbitration|                    |                 990|0.026989221486364578|\n",
      "|Attempts to colle...|   Debt is not yours|               56500|  1.5402939535147464|\n",
      "|Attempts to colle...|Debt was result o...|               23130|  0.6305663565450634|\n",
      "|Attempts to colle...|       Debt was paid|               19962|  0.5442008477886968|\n",
      "|Attempts to colle...|Debt was already ...|                3876| 0.10566689139510012|\n",
      "+--------------------+--------------------+--------------------+--------------------+\n",
      "only showing top 20 rows"
     ]
    }
   ],
   "source": [
    "spark.sql(\"SELECT t1.issue, c1.sub_issue, COUNT(c1.sub_issue) Number_of_complaints, COUNT(*)/3668131*100 Percent_of_Total FROM combined_dataset c1 CROSS JOIN (SELECT DISTINCT c2.issue FROM combined_dataset c2)t1 ON t1.issue = c1.issue GROUP BY t1.issue, c1.sub_issue ORDER BY issue, Number_of_Complaints DESC\").show()\n",
    "\n"
   ]
  },
  {
   "cell_type": "code",
   "execution_count": null,
   "metadata": {},
   "outputs": [],
   "source": []
  },
  {
   "cell_type": "markdown",
   "metadata": {},
   "source": [
    "### Finding missing (NULL) values for each column"
   ]
  },
  {
   "cell_type": "code",
   "execution_count": 26,
   "metadata": {},
   "outputs": [
    {
     "name": "stdout",
     "output_type": "stream",
     "text": [
      "+--------+\n",
      "|count(1)|\n",
      "+--------+\n",
      "|       0|\n",
      "+--------+"
     ]
    }
   ],
   "source": [
    "spark.sql(\"SELECT count(*) FROM combined_dataset WHERE complaint_id IS NULL OR complaint_id = ''\").show()"
   ]
  },
  {
   "cell_type": "code",
   "execution_count": 27,
   "metadata": {},
   "outputs": [
    {
     "name": "stdout",
     "output_type": "stream",
     "text": [
      "+--------+\n",
      "|count(1)|\n",
      "+--------+\n",
      "|       0|\n",
      "+--------+"
     ]
    }
   ],
   "source": [
    "spark.sql(\"SELECT count(*) FROM combined_dataset WHERE date_received IS NULL OR date_received = ''\").show()\n"
   ]
  },
  {
   "cell_type": "code",
   "execution_count": 28,
   "metadata": {},
   "outputs": [
    {
     "name": "stdout",
     "output_type": "stream",
     "text": [
      "+--------+\n",
      "|count(1)|\n",
      "+--------+\n",
      "|       0|\n",
      "+--------+"
     ]
    }
   ],
   "source": [
    "spark.sql(\"SELECT count(*) FROM combined_dataset WHERE product IS NULL OR product = ''\").show()\n"
   ]
  },
  {
   "cell_type": "code",
   "execution_count": 29,
   "metadata": {},
   "outputs": [
    {
     "name": "stdout",
     "output_type": "stream",
     "text": [
      "+--------+\n",
      "|count(1)|\n",
      "+--------+\n",
      "|  747242|\n",
      "+--------+"
     ]
    }
   ],
   "source": [
    "spark.sql(\"SELECT count(*) FROM combined_dataset WHERE sub_product IS NULL OR sub_product = ''\").show()\n"
   ]
  },
  {
   "cell_type": "code",
   "execution_count": 30,
   "metadata": {},
   "outputs": [
    {
     "name": "stdout",
     "output_type": "stream",
     "text": [
      "+--------+\n",
      "|count(1)|\n",
      "+--------+\n",
      "|       0|\n",
      "+--------+"
     ]
    }
   ],
   "source": [
    "spark.sql(\"SELECT count(*) FROM combined_dataset WHERE issue IS NULL OR issue = ''\").show()\n"
   ]
  },
  {
   "cell_type": "code",
   "execution_count": 31,
   "metadata": {},
   "outputs": [
    {
     "name": "stdout",
     "output_type": "stream",
     "text": [
      "+--------+\n",
      "|count(1)|\n",
      "+--------+\n",
      "| 1650049|\n",
      "+--------+"
     ]
    }
   ],
   "source": [
    "spark.sql(\"SELECT count(*) FROM combined_dataset WHERE sub_issue IS NULL OR sub_issue = ''\").show()\n"
   ]
  },
  {
   "cell_type": "code",
   "execution_count": 32,
   "metadata": {},
   "outputs": [
    {
     "name": "stdout",
     "output_type": "stream",
     "text": [
      "+--------+\n",
      "|count(1)|\n",
      "+--------+\n",
      "| 2541449|\n",
      "+--------+"
     ]
    }
   ],
   "source": [
    "spark.sql(\"SELECT count(*) FROM combined_dataset WHERE company_public_response IS NULL OR company_public_response = ''\").show()\n"
   ]
  },
  {
   "cell_type": "code",
   "execution_count": 33,
   "metadata": {},
   "outputs": [
    {
     "name": "stdout",
     "output_type": "stream",
     "text": [
      "+--------+\n",
      "|count(1)|\n",
      "+--------+\n",
      "| 3228236|\n",
      "+--------+"
     ]
    }
   ],
   "source": [
    "spark.sql(\"SELECT count(*) FROM combined_dataset WHERE tags IS NULL OR tags = ''\").show()\n"
   ]
  },
  {
   "cell_type": "code",
   "execution_count": 34,
   "metadata": {},
   "outputs": [
    {
     "name": "stdout",
     "output_type": "stream",
     "text": [
      "+--------+\n",
      "|count(1)|\n",
      "+--------+\n",
      "|   38034|\n",
      "+--------+"
     ]
    }
   ],
   "source": [
    "spark.sql(\"SELECT count(*) FROM combined_dataset WHERE consumer_consent_provided IS NULL OR consumer_consent_provided = ''\").show()\n"
   ]
  },
  {
   "cell_type": "code",
   "execution_count": 35,
   "metadata": {},
   "outputs": [
    {
     "name": "stdout",
     "output_type": "stream",
     "text": [
      "+--------+\n",
      "|count(1)|\n",
      "+--------+\n",
      "|       0|\n",
      "+--------+"
     ]
    }
   ],
   "source": [
    "spark.sql(\"SELECT count(*) FROM combined_dataset WHERE submitted_via IS NULL OR submitted_via = ''\").show()\n"
   ]
  },
  {
   "cell_type": "code",
   "execution_count": 36,
   "metadata": {},
   "outputs": [
    {
     "name": "stdout",
     "output_type": "stream",
     "text": [
      "+--------+\n",
      "|count(1)|\n",
      "+--------+\n",
      "|       0|\n",
      "+--------+"
     ]
    }
   ],
   "source": [
    "spark.sql(\"SELECT count(*) FROM combined_dataset WHERE date_sent_to_company IS NULL OR date_sent_to_company = ''\").show()\n"
   ]
  },
  {
   "cell_type": "code",
   "execution_count": 37,
   "metadata": {},
   "outputs": [
    {
     "name": "stdout",
     "output_type": "stream",
     "text": [
      "+--------+\n",
      "|count(1)|\n",
      "+--------+\n",
      "|      12|\n",
      "+--------+"
     ]
    }
   ],
   "source": [
    "spark.sql(\"SELECT count(*) FROM combined_dataset WHERE company_response IS NULL OR company_response = ''\").show()\n"
   ]
  },
  {
   "cell_type": "code",
   "execution_count": 38,
   "metadata": {},
   "outputs": [
    {
     "name": "stdout",
     "output_type": "stream",
     "text": [
      "+--------+\n",
      "|count(1)|\n",
      "+--------+\n",
      "|       0|\n",
      "+--------+"
     ]
    }
   ],
   "source": [
    "spark.sql(\"SELECT count(*) FROM combined_dataset WHERE timely_response IS NULL OR timely_response = ''\").show()\n"
   ]
  },
  {
   "cell_type": "code",
   "execution_count": 39,
   "metadata": {},
   "outputs": [
    {
     "name": "stdout",
     "output_type": "stream",
     "text": [
      "+--------+\n",
      "|count(1)|\n",
      "+--------+\n",
      "|       0|\n",
      "+--------+"
     ]
    }
   ],
   "source": [
    "spark.sql(\"SELECT count(*) FROM combined_dataset WHERE consumer_disputed IS NULL OR consumer_disputed = ''\").show()\n"
   ]
  },
  {
   "cell_type": "code",
   "execution_count": 40,
   "metadata": {},
   "outputs": [
    {
     "name": "stdout",
     "output_type": "stream",
     "text": [
      "+--------+\n",
      "|count(1)|\n",
      "+--------+\n",
      "|      30|\n",
      "+--------+"
     ]
    }
   ],
   "source": [
    "spark.sql(\"SELECT count(*) FROM combined_dataset WHERE state IS NULL OR state = ''\").show()\n"
   ]
  },
  {
   "cell_type": "code",
   "execution_count": 41,
   "metadata": {},
   "outputs": [
    {
     "name": "stdout",
     "output_type": "stream",
     "text": [
      "+--------+\n",
      "|count(1)|\n",
      "+--------+\n",
      "|       0|\n",
      "+--------+"
     ]
    }
   ],
   "source": [
    "spark.sql(\"SELECT count(*) FROM combined_dataset WHERE Average_Complaints IS NULL OR Average_Complaints = ''\").show()\n"
   ]
  },
  {
   "cell_type": "code",
   "execution_count": 42,
   "metadata": {},
   "outputs": [
    {
     "name": "stdout",
     "output_type": "stream",
     "text": [
      "+--------+\n",
      "|count(1)|\n",
      "+--------+\n",
      "|       0|\n",
      "+--------+"
     ]
    }
   ],
   "source": [
    "spark.sql(\"SELECT count(*) FROM combined_dataset WHERE Average_Income IS NULL OR Average_Income = ''\").show()\n"
   ]
  },
  {
   "cell_type": "code",
   "execution_count": 43,
   "metadata": {},
   "outputs": [
    {
     "name": "stdout",
     "output_type": "stream",
     "text": [
      "+--------+\n",
      "|count(1)|\n",
      "+--------+\n",
      "|       0|\n",
      "+--------+"
     ]
    }
   ],
   "source": [
    "spark.sql(\"SELECT count(*) FROM combined_dataset WHERE population IS NULL OR population = ''\").show()\n"
   ]
  },
  {
   "cell_type": "code",
   "execution_count": 44,
   "metadata": {},
   "outputs": [
    {
     "name": "stdout",
     "output_type": "stream",
     "text": [
      "+--------+\n",
      "|count(1)|\n",
      "+--------+\n",
      "|       0|\n",
      "+--------+"
     ]
    }
   ],
   "source": [
    "spark.sql(\"SELECT count(*) FROM combined_dataset WHERE Total_Income IS NULL OR Total_Income = ''\").show()\n"
   ]
  },
  {
   "cell_type": "markdown",
   "metadata": {},
   "source": [
    "### Distinct values for each column. Showing only top 20"
   ]
  },
  {
   "cell_type": "code",
   "execution_count": 45,
   "metadata": {},
   "outputs": [
    {
     "name": "stdout",
     "output_type": "stream",
     "text": [
      "3666438"
     ]
    }
   ],
   "source": [
    "finalDF.distinct().count()"
   ]
  },
  {
   "cell_type": "code",
   "execution_count": 46,
   "metadata": {},
   "outputs": [],
   "source": [
    "from pyspark.sql.functions import countDistinct, approx_count_distinct\n",
    "\n",
    "\n",
    "\n"
   ]
  },
  {
   "cell_type": "code",
   "execution_count": 47,
   "metadata": {},
   "outputs": [
    {
     "name": "stdout",
     "output_type": "stream",
     "text": [
      "Count distinct values:"
     ]
    }
   ],
   "source": [
    "print('Count distinct values:')"
   ]
  },
  {
   "cell_type": "code",
   "execution_count": 48,
   "metadata": {},
   "outputs": [
    {
     "name": "stdout",
     "output_type": "stream",
     "text": [
      "+-----------------+\n",
      "|Distinct products|\n",
      "+-----------------+\n",
      "|               18|\n",
      "+-----------------+"
     ]
    }
   ],
   "source": [
    "finalDF.select(countDistinct(\"product\").alias(\"Distinct products\")).show()"
   ]
  },
  {
   "cell_type": "code",
   "execution_count": 49,
   "metadata": {},
   "outputs": [
    {
     "name": "stdout",
     "output_type": "stream",
     "text": [
      "+---------------------+\n",
      "|Distinct sub_products|\n",
      "+---------------------+\n",
      "|                   77|\n",
      "+---------------------+"
     ]
    }
   ],
   "source": [
    "finalDF.select(countDistinct(\"sub_product\").alias(\"Distinct sub_products\")).show()"
   ]
  },
  {
   "cell_type": "code",
   "execution_count": 50,
   "metadata": {},
   "outputs": [
    {
     "name": "stdout",
     "output_type": "stream",
     "text": [
      "+---------------+\n",
      "|Distinct issues|\n",
      "+---------------+\n",
      "|            167|\n",
      "+---------------+"
     ]
    }
   ],
   "source": [
    "finalDF.select(countDistinct(\"issue\").alias(\"Distinct issues\")).show()"
   ]
  },
  {
   "cell_type": "code",
   "execution_count": 51,
   "metadata": {},
   "outputs": [
    {
     "name": "stdout",
     "output_type": "stream",
     "text": [
      "+------------------+\n",
      "|Distinct sub_issue|\n",
      "+------------------+\n",
      "|               218|\n",
      "+------------------+"
     ]
    }
   ],
   "source": [
    "finalDF.select(countDistinct(\"sub_issue\").alias(\"Distinct sub_issue\")).show()"
   ]
  },
  {
   "cell_type": "code",
   "execution_count": 52,
   "metadata": {},
   "outputs": [
    {
     "name": "stdout",
     "output_type": "stream",
     "text": [
      "+---------------------------------+\n",
      "|Distinct company_public_responses|\n",
      "+---------------------------------+\n",
      "|                               11|\n",
      "+---------------------------------+"
     ]
    }
   ],
   "source": [
    "finalDF.select(countDistinct(\"company_public_response\").alias(\"Distinct company_public_responses\")).show()"
   ]
  },
  {
   "cell_type": "code",
   "execution_count": 53,
   "metadata": {},
   "outputs": [
    {
     "name": "stdout",
     "output_type": "stream",
     "text": [
      "+-------------+\n",
      "|Distinct tags|\n",
      "+-------------+\n",
      "|            4|\n",
      "+-------------+"
     ]
    }
   ],
   "source": [
    "finalDF.select(countDistinct(\"tags\").alias(\"Distinct tags\")).show()"
   ]
  },
  {
   "cell_type": "code",
   "execution_count": 54,
   "metadata": {},
   "outputs": [
    {
     "name": "stdout",
     "output_type": "stream",
     "text": [
      "+----------------------------------+\n",
      "|Distinct consumer_consent_provided|\n",
      "+----------------------------------+\n",
      "|                                 6|\n",
      "+----------------------------------+"
     ]
    }
   ],
   "source": [
    "finalDF.select(countDistinct(\"consumer_consent_provided\").alias(\"Distinct consumer_consent_provided\")).show()"
   ]
  },
  {
   "cell_type": "code",
   "execution_count": 55,
   "metadata": {},
   "outputs": [
    {
     "name": "stdout",
     "output_type": "stream",
     "text": [
      "+----------------------+\n",
      "|Distinct submitted_via|\n",
      "+----------------------+\n",
      "|                     6|\n",
      "+----------------------+"
     ]
    }
   ],
   "source": [
    "finalDF.select(countDistinct(\"submitted_via\").alias(\"Distinct submitted_via\")).show()"
   ]
  },
  {
   "cell_type": "code",
   "execution_count": 56,
   "metadata": {},
   "outputs": [
    {
     "name": "stdout",
     "output_type": "stream",
     "text": [
      "+-------------------------+\n",
      "|Distinct company_response|\n",
      "+-------------------------+\n",
      "|                        9|\n",
      "+-------------------------+"
     ]
    }
   ],
   "source": [
    "finalDF.select(countDistinct(\"company_response\").alias(\"Distinct company_response\")).show()"
   ]
  },
  {
   "cell_type": "code",
   "execution_count": 57,
   "metadata": {},
   "outputs": [
    {
     "name": "stdout",
     "output_type": "stream",
     "text": [
      "+------------------------+\n",
      "|Distinct timely_response|\n",
      "+------------------------+\n",
      "|                       2|\n",
      "+------------------------+"
     ]
    }
   ],
   "source": [
    "finalDF.select(countDistinct(\"timely_response\").alias(\"Distinct timely_response\")).show()"
   ]
  },
  {
   "cell_type": "code",
   "execution_count": 58,
   "metadata": {},
   "outputs": [
    {
     "name": "stdout",
     "output_type": "stream",
     "text": [
      "+--------------------------+\n",
      "|Distinct consumer_disputed|\n",
      "+--------------------------+\n",
      "|                         3|\n",
      "+--------------------------+"
     ]
    }
   ],
   "source": [
    "finalDF.select(countDistinct(\"consumer_disputed\").alias(\"Distinct consumer_disputed\")).show()"
   ]
  },
  {
   "cell_type": "code",
   "execution_count": 59,
   "metadata": {},
   "outputs": [
    {
     "name": "stdout",
     "output_type": "stream",
     "text": [
      "+--------------+\n",
      "|Distinct state|\n",
      "+--------------+\n",
      "|            64|\n",
      "+--------------+"
     ]
    }
   ],
   "source": [
    "finalDF.select(countDistinct(\"state\").alias(\"Distinct state\")).show()"
   ]
  },
  {
   "cell_type": "markdown",
   "metadata": {},
   "source": [
    "# b)  In my analysis I will compare all the factors(columns) for two companies I would select. For doing a competitive analysis for two organizations"
   ]
  },
  {
   "cell_type": "markdown",
   "metadata": {},
   "source": [
    "Checking for two companies having similar issues"
   ]
  },
  {
   "cell_type": "markdown",
   "metadata": {},
   "source": [
    "Total Complaints for Company where Product is credit"
   ]
  },
  {
   "cell_type": "code",
   "execution_count": 13,
   "metadata": {},
   "outputs": [
    {
     "data": {
      "application/vnd.jupyter.widget-view+json": {
       "model_id": "90e0d9e6ecad46e890374630cd3e4e81",
       "version_major": 2,
       "version_minor": 0
      },
      "text/plain": [
       "VBox(children=(HBox(children=(HTML(value='Type:'), Button(description='Table', layout=Layout(width='70px'), st…"
      ]
     },
     "metadata": {},
     "output_type": "display_data"
    },
    {
     "data": {
      "application/vnd.jupyter.widget-view+json": {
       "model_id": "e890dc4f19c148029986c489094b4e97",
       "version_major": 2,
       "version_minor": 0
      },
      "text/plain": [
       "Output()"
      ]
     },
     "metadata": {},
     "output_type": "display_data"
    }
   ],
   "source": [
    "%%sql -o query1 \n",
    "SELECT company, Num_of_complaints, DENSE_RANK() OVER(ORDER BY Num_of_complaints DESC) Rank_No_of_complaints FROM (SELECT company, COUNT(*) Num_of_complaints FROM combined_dataset WHERE product like '%credit%' GROUP BY company)SUB\n"
   ]
  },
  {
   "cell_type": "markdown",
   "metadata": {},
   "source": [
    "Creating another dataframe filtering for top two companies based on the number of complaints for the Credit card product"
   ]
  },
  {
   "cell_type": "code",
   "execution_count": 18,
   "metadata": {},
   "outputs": [],
   "source": [
    "df_experian_equi = spark.sql(\"SELECT * FROM combined_dataset WHERE company = 'EQUIFAX, INC.' OR company = 'Experian Information Solutions Inc.'\")"
   ]
  },
  {
   "cell_type": "code",
   "execution_count": 19,
   "metadata": {},
   "outputs": [
    {
     "name": "stdout",
     "output_type": "stream",
     "text": [
      "+--------+----------------+-----------+\n",
      "|database|       tableName|isTemporary|\n",
      "+--------+----------------+-----------+\n",
      "|        |combined_dataset|       true|\n",
      "|        |            corr|       true|\n",
      "|        |   experian_equi|       true|\n",
      "+--------+----------------+-----------+"
     ]
    }
   ],
   "source": [
    "df_experian_equi.createOrReplaceTempView(\"experian_equi\")\n",
    "spark.sql(\"show tables\").show()"
   ]
  },
  {
   "cell_type": "markdown",
   "metadata": {},
   "source": [
    "#### Top products"
   ]
  },
  {
   "cell_type": "code",
   "execution_count": 20,
   "metadata": {},
   "outputs": [
    {
     "data": {
      "application/vnd.jupyter.widget-view+json": {
       "model_id": "064e05ff1dd6433687309adaf6f762c5",
       "version_major": 2,
       "version_minor": 0
      },
      "text/plain": [
       "VBox(children=(HBox(children=(HTML(value='Type:'), Button(description='Table', layout=Layout(width='70px'), st…"
      ]
     },
     "metadata": {},
     "output_type": "display_data"
    },
    {
     "data": {
      "application/vnd.jupyter.widget-view+json": {
       "model_id": "bb497c85b44b421f86b999f258d9c62d",
       "version_major": 2,
       "version_minor": 0
      },
      "text/plain": [
       "Output()"
      ]
     },
     "metadata": {},
     "output_type": "display_data"
    }
   ],
   "source": [
    "%%sql -o query2\n",
    "SELECT product, COUNT(*) Num_of_complaints FROM experian_equi WHERE company = 'EQUIFAX, INC.' \\\n",
    "GROUP BY product ORDER BY product"
   ]
  },
  {
   "cell_type": "code",
   "execution_count": 21,
   "metadata": {},
   "outputs": [
    {
     "data": {
      "application/vnd.jupyter.widget-view+json": {
       "model_id": "51645bd8f50348c9825fb65eb465b1cb",
       "version_major": 2,
       "version_minor": 0
      },
      "text/plain": [
       "VBox(children=(HBox(children=(HTML(value='Type:'), Button(description='Table', layout=Layout(width='70px'), st…"
      ]
     },
     "metadata": {},
     "output_type": "display_data"
    },
    {
     "data": {
      "application/vnd.jupyter.widget-view+json": {
       "model_id": "c455f8fb618a44abbaf496033c8a9991",
       "version_major": 2,
       "version_minor": 0
      },
      "text/plain": [
       "Output()"
      ]
     },
     "metadata": {},
     "output_type": "display_data"
    }
   ],
   "source": [
    "%%sql -o query2\n",
    "SELECT product, COUNT(*) Num_of_complaints FROM experian_equi WHERE company = 'Experian Information Solutions Inc.' \\\n",
    "GROUP BY product  ORDER BY product"
   ]
  },
  {
   "cell_type": "markdown",
   "metadata": {},
   "source": [
    "#### Top sub-products"
   ]
  },
  {
   "cell_type": "code",
   "execution_count": 22,
   "metadata": {},
   "outputs": [
    {
     "data": {
      "application/vnd.jupyter.widget-view+json": {
       "model_id": "e8eef68ac9eb439980371dd42a8157e1",
       "version_major": 2,
       "version_minor": 0
      },
      "text/plain": [
       "VBox(children=(HBox(children=(HTML(value='Type:'), Button(description='Table', layout=Layout(width='70px'), st…"
      ]
     },
     "metadata": {},
     "output_type": "display_data"
    },
    {
     "data": {
      "application/vnd.jupyter.widget-view+json": {
       "model_id": "69fe637fb31e4363bcc6427ffabc5069",
       "version_major": 2,
       "version_minor": 0
      },
      "text/plain": [
       "Output()"
      ]
     },
     "metadata": {},
     "output_type": "display_data"
    }
   ],
   "source": [
    "%%sql -o query2\n",
    "SELECT sub_product, COUNT(*) Num_of_complaints FROM experian_equi WHERE company = 'EQUIFAX, INC.' \\\n",
    "GROUP BY sub_product ORDER BY sub_product"
   ]
  },
  {
   "cell_type": "code",
   "execution_count": 23,
   "metadata": {},
   "outputs": [
    {
     "data": {
      "application/vnd.jupyter.widget-view+json": {
       "model_id": "44b55de6f7a948fb82b7bfa0a2c7b0ac",
       "version_major": 2,
       "version_minor": 0
      },
      "text/plain": [
       "VBox(children=(HBox(children=(HTML(value='Type:'), Button(description='Table', layout=Layout(width='70px'), st…"
      ]
     },
     "metadata": {},
     "output_type": "display_data"
    },
    {
     "data": {
      "application/vnd.jupyter.widget-view+json": {
       "model_id": "5965eab129174b05a0384bb1be20044d",
       "version_major": 2,
       "version_minor": 0
      },
      "text/plain": [
       "Output()"
      ]
     },
     "metadata": {},
     "output_type": "display_data"
    }
   ],
   "source": [
    "%%sql -o query2\n",
    "SELECT sub_product, COUNT(*) Num_of_complaints FROM experian_equi WHERE company = 'Experian Information Solutions Inc.' GROUP BY sub_product  ORDER BY sub_product"
   ]
  },
  {
   "cell_type": "markdown",
   "metadata": {},
   "source": [
    "#### Main issues for each of the two companies"
   ]
  },
  {
   "cell_type": "code",
   "execution_count": 24,
   "metadata": {},
   "outputs": [
    {
     "data": {
      "application/vnd.jupyter.widget-view+json": {
       "model_id": "13fa5c59673f448e89d47dd308cf810a",
       "version_major": 2,
       "version_minor": 0
      },
      "text/plain": [
       "VBox(children=(HBox(children=(HTML(value='Type:'), Button(description='Table', layout=Layout(width='70px'), st…"
      ]
     },
     "metadata": {},
     "output_type": "display_data"
    },
    {
     "data": {
      "application/vnd.jupyter.widget-view+json": {
       "model_id": "d7c500d5887e42bbaea06a0d8b5dbfe5",
       "version_major": 2,
       "version_minor": 0
      },
      "text/plain": [
       "Output()"
      ]
     },
     "metadata": {},
     "output_type": "display_data"
    }
   ],
   "source": [
    "%%sql -o query2\n",
    "SELECT issue, COUNT(*) Num_of_complaints FROM experian_equi WHERE company = 'EQUIFAX, INC.' GROUP BY issue ORDER BY issue"
   ]
  },
  {
   "cell_type": "code",
   "execution_count": 25,
   "metadata": {},
   "outputs": [
    {
     "data": {
      "application/vnd.jupyter.widget-view+json": {
       "model_id": "935076770256438e8769afdbad32bb10",
       "version_major": 2,
       "version_minor": 0
      },
      "text/plain": [
       "VBox(children=(HBox(children=(HTML(value='Type:'), Button(description='Table', layout=Layout(width='70px'), st…"
      ]
     },
     "metadata": {},
     "output_type": "display_data"
    },
    {
     "data": {
      "application/vnd.jupyter.widget-view+json": {
       "model_id": "82eee7b04a384da79d12b9998c79e319",
       "version_major": 2,
       "version_minor": 0
      },
      "text/plain": [
       "Output()"
      ]
     },
     "metadata": {},
     "output_type": "display_data"
    }
   ],
   "source": [
    "%%sql -o query2\n",
    "SELECT issue, COUNT(*) Num_of_complaints FROM experian_equi WHERE company = 'Experian Information Solutions Inc.' GROUP BY issue ORDER BY issue"
   ]
  },
  {
   "cell_type": "markdown",
   "metadata": {},
   "source": [
    "#### Main sub-issues for each of the two companies"
   ]
  },
  {
   "cell_type": "code",
   "execution_count": 26,
   "metadata": {},
   "outputs": [
    {
     "data": {
      "application/vnd.jupyter.widget-view+json": {
       "model_id": "42633ec1170a447cb999a98f715e0de6",
       "version_major": 2,
       "version_minor": 0
      },
      "text/plain": [
       "VBox(children=(HBox(children=(HTML(value='Type:'), Button(description='Table', layout=Layout(width='70px'), st…"
      ]
     },
     "metadata": {},
     "output_type": "display_data"
    },
    {
     "data": {
      "application/vnd.jupyter.widget-view+json": {
       "model_id": "081cff4314814b56b771c0c7ebbeaf38",
       "version_major": 2,
       "version_minor": 0
      },
      "text/plain": [
       "Output()"
      ]
     },
     "metadata": {},
     "output_type": "display_data"
    }
   ],
   "source": [
    "%%sql -o query2\n",
    "SELECT sub_issue, COUNT(*) Num_of_complaints FROM experian_equi WHERE company = 'EQUIFAX, INC.' GROUP BY sub_issue ORDER BY sub_issue"
   ]
  },
  {
   "cell_type": "code",
   "execution_count": 27,
   "metadata": {},
   "outputs": [
    {
     "data": {
      "application/vnd.jupyter.widget-view+json": {
       "model_id": "1822ffc92c484e57a31cb401668abe06",
       "version_major": 2,
       "version_minor": 0
      },
      "text/plain": [
       "VBox(children=(HBox(children=(HTML(value='Type:'), Button(description='Table', layout=Layout(width='70px'), st…"
      ]
     },
     "metadata": {},
     "output_type": "display_data"
    },
    {
     "data": {
      "application/vnd.jupyter.widget-view+json": {
       "model_id": "fb7dc49661aa42d98e5f40ea51a8932e",
       "version_major": 2,
       "version_minor": 0
      },
      "text/plain": [
       "Output()"
      ]
     },
     "metadata": {},
     "output_type": "display_data"
    }
   ],
   "source": [
    "%%sql -o query2\n",
    "SELECT sub_issue, COUNT(*) Num_of_complaints FROM experian_equi WHERE company = 'Experian Information Solutions Inc.' GROUP BY sub_issue ORDER BY sub_issue"
   ]
  },
  {
   "cell_type": "markdown",
   "metadata": {},
   "source": [
    "#### Date analysis"
   ]
  },
  {
   "cell_type": "code",
   "execution_count": 28,
   "metadata": {},
   "outputs": [],
   "source": [
    "df_experian_equi_date = df_experian_equi.withColumn('Clean_date_received',regexp_replace(col(\"date_received\"), \"/\", \"-\")).withColumn('Clean_date_sent_to_company',regexp_replace(col(\"date_sent_to_company\"), \"/\", \"-\"))\n"
   ]
  },
  {
   "cell_type": "code",
   "execution_count": 29,
   "metadata": {},
   "outputs": [
    {
     "name": "stdout",
     "output_type": "stream",
     "text": [
      "Row(date_received='10/26/2018', product='Credit reporting, credit repair services, or other personal consumer reports', sub_product='Credit reporting', issue='Incorrect information on your report', sub_issue='Account status incorrect', company_public_response='Company has responded to the consumer and the CFPB and chooses not to provide a public response', company='Experian Information Solutions Inc.', state='NY', zip_code='10075', tags='', consumer_consent_provided='Consent not provided', submitted_via='Web', date_sent_to_company='10/26/2018', company_response='Closed with explanation', timely_response='Yes', consumer_disputed='N/A', complaint_id='3057600', population=26121, Total_Income='5179299', NUMDEP='2770', zipcode_agg='10075', Number_of_Complaints=558, zipcode_avgcc='10075', Average_Complaints=214, Average_Income=994602, Clean_date_received='10-26-2018', Clean_date_sent_to_company='10-26-2018', Year_date_received='2018', Month_date_received='10', DATE_date_received='26')"
     ]
    }
   ],
   "source": [
    "from pyspark.sql import functions as F\n",
    "df_year_month = df_experian_equi_date.withColumn('Year_date_received', F.split(df_experian_equi_date.Clean_date_received, '-')[2]).withColumn('Month_date_received', F.split(df_experian_equi_date.Clean_date_received, '-')[0]).withColumn('DATE_date_received', F.split(df_experian_equi_date.Clean_date_received, '-')[1])\n",
    "df_year_month.head()\n",
    "#df_year_month.groupBy(\"Year\",\"Month\").count().orderBy(\"Year\",\"Month\").show(1)"
   ]
  },
  {
   "cell_type": "code",
   "execution_count": null,
   "metadata": {},
   "outputs": [],
   "source": []
  },
  {
   "cell_type": "code",
   "execution_count": 30,
   "metadata": {},
   "outputs": [],
   "source": [
    "df_year_month.createOrReplaceTempView(\"experian_equi_date_year_month\")\n",
    "#df_experian_equi_date.printSchema()"
   ]
  },
  {
   "cell_type": "markdown",
   "metadata": {},
   "source": [
    "Finding top year for both the companies"
   ]
  },
  {
   "cell_type": "code",
   "execution_count": 31,
   "metadata": {},
   "outputs": [
    {
     "data": {
      "application/vnd.jupyter.widget-view+json": {
       "model_id": "a70096b34ef74873aa50ea75703832ba",
       "version_major": 2,
       "version_minor": 0
      },
      "text/plain": [
       "VBox(children=(HBox(children=(HTML(value='Type:'), Button(description='Table', layout=Layout(width='70px'), st…"
      ]
     },
     "metadata": {},
     "output_type": "display_data"
    },
    {
     "data": {
      "application/vnd.jupyter.widget-view+json": {
       "model_id": "b2d8c4e2c87b410581bec9d530826e84",
       "version_major": 2,
       "version_minor": 0
      },
      "text/plain": [
       "Output()"
      ]
     },
     "metadata": {},
     "output_type": "display_data"
    }
   ],
   "source": [
    "%%sql -o query2\n",
    "\n",
    "select Year_date_received, COUNT(*) Num_of_complaints FROM experian_equi_date_year_month WHERE company = 'EQUIFAX, INC.' \\\n",
    "GROUP BY Year_date_received ORDER BY Year_date_received"
   ]
  },
  {
   "cell_type": "code",
   "execution_count": 61,
   "metadata": {
    "scrolled": true
   },
   "outputs": [
    {
     "data": {
      "application/vnd.jupyter.widget-view+json": {
       "model_id": "7b8d63c4e60f444b833dc117f575d7e3",
       "version_major": 2,
       "version_minor": 0
      },
      "text/plain": [
       "VBox(children=(HBox(children=(HTML(value='Type:'), Button(description='Table', layout=Layout(width='70px'), st…"
      ]
     },
     "metadata": {},
     "output_type": "display_data"
    },
    {
     "data": {
      "application/vnd.jupyter.widget-view+json": {
       "model_id": "6015ab28c46749d08df927ad6c9788cd",
       "version_major": 2,
       "version_minor": 0
      },
      "text/plain": [
       "Output()"
      ]
     },
     "metadata": {},
     "output_type": "display_data"
    }
   ],
   "source": [
    "%%sql -o query2\n",
    "\n",
    "select Year_date_received, COUNT(*) Num_of_complaints FROM experian_equi_date_year_month \\\n",
    "WHERE company = 'Experian Information Solutions Inc.' GROUP BY Year_date_received ORDER BY Year_date_received"
   ]
  },
  {
   "cell_type": "markdown",
   "metadata": {},
   "source": [
    "Plotting the month wise data for 2018 for both companies"
   ]
  },
  {
   "cell_type": "code",
   "execution_count": 33,
   "metadata": {},
   "outputs": [
    {
     "data": {
      "application/vnd.jupyter.widget-view+json": {
       "model_id": "8ee27a7e5d0d46339f8f3a30b4c99b12",
       "version_major": 2,
       "version_minor": 0
      },
      "text/plain": [
       "VBox(children=(HBox(children=(HTML(value='Type:'), Button(description='Table', layout=Layout(width='70px'), st…"
      ]
     },
     "metadata": {},
     "output_type": "display_data"
    },
    {
     "data": {
      "application/vnd.jupyter.widget-view+json": {
       "model_id": "313717fdf4f542fcb0d0855ac31f88c7",
       "version_major": 2,
       "version_minor": 0
      },
      "text/plain": [
       "Output()"
      ]
     },
     "metadata": {},
     "output_type": "display_data"
    }
   ],
   "source": [
    "%%sql -o query2\n",
    "\n",
    "select Month_date_received, COUNT(*) Num_of_complaints FROM experian_equi_date_year_month \\\n",
    "WHERE company = 'EQUIFAX, INC.' AND Year_date_received = '2018' \\\n",
    "GROUP BY Month_date_received ORDER BY Month_date_received"
   ]
  },
  {
   "cell_type": "code",
   "execution_count": 34,
   "metadata": {},
   "outputs": [
    {
     "data": {
      "application/vnd.jupyter.widget-view+json": {
       "model_id": "6968da4d949b41f2ace598b0302a4bba",
       "version_major": 2,
       "version_minor": 0
      },
      "text/plain": [
       "VBox(children=(HBox(children=(HTML(value='Type:'), Button(description='Table', layout=Layout(width='70px'), st…"
      ]
     },
     "metadata": {},
     "output_type": "display_data"
    },
    {
     "data": {
      "application/vnd.jupyter.widget-view+json": {
       "model_id": "fbd05b626d4546199e90eedbc13b6b85",
       "version_major": 2,
       "version_minor": 0
      },
      "text/plain": [
       "Output()"
      ]
     },
     "metadata": {},
     "output_type": "display_data"
    }
   ],
   "source": [
    "%%sql -o query2\n",
    "\n",
    "select Month_date_received, COUNT(*) Num_of_complaints FROM experian_equi_date_year_month \\\n",
    "WHERE company = 'Experian Information Solutions Inc.' AND Year_date_received = '2018' \\\n",
    "GROUP BY Month_date_received ORDER BY Month_date_received"
   ]
  },
  {
   "cell_type": "code",
   "execution_count": 35,
   "metadata": {},
   "outputs": [
    {
     "data": {
      "application/vnd.jupyter.widget-view+json": {
       "model_id": "81ad8707057846e0a478e676dd4c8536",
       "version_major": 2,
       "version_minor": 0
      },
      "text/plain": [
       "VBox(children=(HBox(children=(HTML(value='Type:'), Button(description='Table', layout=Layout(width='70px'), st…"
      ]
     },
     "metadata": {},
     "output_type": "display_data"
    },
    {
     "data": {
      "application/vnd.jupyter.widget-view+json": {
       "model_id": "80124dfc8b3f47e1b40ec06cc2f06559",
       "version_major": 2,
       "version_minor": 0
      },
      "text/plain": [
       "Output()"
      ]
     },
     "metadata": {},
     "output_type": "display_data"
    }
   ],
   "source": [
    "%%sql -o query2\n",
    "\n",
    "select DATE_date_received, COUNT(*) Num_of_complaints FROM experian_equi_date_year_month \\\n",
    "WHERE company = 'EQUIFAX, INC.' AND Year_date_received = '2018' AND Month_date_received = '04' \\\n",
    "GROUP BY DATE_date_received ORDER BY DATE_date_received"
   ]
  },
  {
   "cell_type": "code",
   "execution_count": 36,
   "metadata": {},
   "outputs": [
    {
     "data": {
      "application/vnd.jupyter.widget-view+json": {
       "model_id": "9e120849c3cb47e989f68d18cc903b12",
       "version_major": 2,
       "version_minor": 0
      },
      "text/plain": [
       "VBox(children=(HBox(children=(HTML(value='Type:'), Button(description='Table', layout=Layout(width='70px'), st…"
      ]
     },
     "metadata": {},
     "output_type": "display_data"
    },
    {
     "data": {
      "application/vnd.jupyter.widget-view+json": {
       "model_id": "28db9a55018b4b378151ac073bd35384",
       "version_major": 2,
       "version_minor": 0
      },
      "text/plain": [
       "Output()"
      ]
     },
     "metadata": {},
     "output_type": "display_data"
    }
   ],
   "source": [
    "%%sql -o query2\n",
    "\n",
    "select DATE_date_received, COUNT(*) Num_of_complaints FROM experian_equi_date_year_month \\\n",
    "WHERE company = 'Experian Information Solutions Inc.' AND Year_date_received = '2018' AND Month_date_received = '04' \\\n",
    "GROUP BY DATE_date_received ORDER BY DATE_date_received"
   ]
  },
  {
   "cell_type": "markdown",
   "metadata": {},
   "source": [
    "company_public_response for both companies"
   ]
  },
  {
   "cell_type": "code",
   "execution_count": 37,
   "metadata": {},
   "outputs": [
    {
     "data": {
      "application/vnd.jupyter.widget-view+json": {
       "model_id": "96e8f9c2b91f4bb4b63abb6bb1284335",
       "version_major": 2,
       "version_minor": 0
      },
      "text/plain": [
       "VBox(children=(HBox(children=(HTML(value='Type:'), Button(description='Table', layout=Layout(width='70px'), st…"
      ]
     },
     "metadata": {},
     "output_type": "display_data"
    },
    {
     "data": {
      "application/vnd.jupyter.widget-view+json": {
       "model_id": "90899d28c74044ebb0add7a052b7513b",
       "version_major": 2,
       "version_minor": 0
      },
      "text/plain": [
       "Output()"
      ]
     },
     "metadata": {},
     "output_type": "display_data"
    }
   ],
   "source": [
    "%%sql -o query2\n",
    "\n",
    "select company_public_response, COUNT(*) Num_of_complaints FROM experian_equi_date_year_month \\\n",
    "WHERE company = 'EQUIFAX, INC.' \\\n",
    "GROUP BY company_public_response ORDER BY company_public_response"
   ]
  },
  {
   "cell_type": "code",
   "execution_count": 38,
   "metadata": {},
   "outputs": [
    {
     "data": {
      "application/vnd.jupyter.widget-view+json": {
       "model_id": "76b3eaa117e64fdfa38092d9f62dca12",
       "version_major": 2,
       "version_minor": 0
      },
      "text/plain": [
       "VBox(children=(HBox(children=(HTML(value='Type:'), Button(description='Table', layout=Layout(width='70px'), st…"
      ]
     },
     "metadata": {},
     "output_type": "display_data"
    },
    {
     "data": {
      "application/vnd.jupyter.widget-view+json": {
       "model_id": "06ef79d919784c14bfe3dcddcdfdb819",
       "version_major": 2,
       "version_minor": 0
      },
      "text/plain": [
       "Output()"
      ]
     },
     "metadata": {},
     "output_type": "display_data"
    }
   ],
   "source": [
    "%%sql -o query2\n",
    "\n",
    "select company_public_response, COUNT(*) Num_of_complaints FROM experian_equi_date_year_month \\\n",
    "WHERE company = 'Experian Information Solutions Inc.' \\\n",
    "GROUP BY company_public_response ORDER BY company_public_response"
   ]
  },
  {
   "cell_type": "markdown",
   "metadata": {},
   "source": [
    "tags                     "
   ]
  },
  {
   "cell_type": "code",
   "execution_count": 39,
   "metadata": {},
   "outputs": [
    {
     "data": {
      "application/vnd.jupyter.widget-view+json": {
       "model_id": "3f5de216f80d4f6a8a1b0b216d39597a",
       "version_major": 2,
       "version_minor": 0
      },
      "text/plain": [
       "VBox(children=(HBox(children=(HTML(value='Type:'), Button(description='Table', layout=Layout(width='70px'), st…"
      ]
     },
     "metadata": {},
     "output_type": "display_data"
    },
    {
     "data": {
      "application/vnd.jupyter.widget-view+json": {
       "model_id": "682dde814b4a434e867780107f55dcea",
       "version_major": 2,
       "version_minor": 0
      },
      "text/plain": [
       "Output()"
      ]
     },
     "metadata": {},
     "output_type": "display_data"
    }
   ],
   "source": [
    "%%sql -o query2\n",
    "\n",
    "select tags, COUNT(*) Num_of_complaints FROM experian_equi_date_year_month \\\n",
    "WHERE company = 'EQUIFAX, INC.' \\\n",
    "GROUP BY tags ORDER BY tags"
   ]
  },
  {
   "cell_type": "code",
   "execution_count": 40,
   "metadata": {},
   "outputs": [
    {
     "data": {
      "application/vnd.jupyter.widget-view+json": {
       "model_id": "1b50da3015f24fe6b258a6d619092a0f",
       "version_major": 2,
       "version_minor": 0
      },
      "text/plain": [
       "VBox(children=(HBox(children=(HTML(value='Type:'), Button(description='Table', layout=Layout(width='70px'), st…"
      ]
     },
     "metadata": {},
     "output_type": "display_data"
    },
    {
     "data": {
      "application/vnd.jupyter.widget-view+json": {
       "model_id": "67adbafbe3724248ac3d69f91eb95d94",
       "version_major": 2,
       "version_minor": 0
      },
      "text/plain": [
       "Output()"
      ]
     },
     "metadata": {},
     "output_type": "display_data"
    }
   ],
   "source": [
    "%%sql -o query2\n",
    "\n",
    "select tags, COUNT(*) Num_of_complaints FROM experian_equi_date_year_month \\\n",
    "WHERE company = 'Experian Information Solutions Inc.' \\\n",
    "GROUP BY tags ORDER BY tags"
   ]
  },
  {
   "cell_type": "markdown",
   "metadata": {},
   "source": [
    "consumer_consent_provided"
   ]
  },
  {
   "cell_type": "code",
   "execution_count": 41,
   "metadata": {},
   "outputs": [
    {
     "data": {
      "application/vnd.jupyter.widget-view+json": {
       "model_id": "83338659273248948d19ee514fdd4959",
       "version_major": 2,
       "version_minor": 0
      },
      "text/plain": [
       "VBox(children=(HBox(children=(HTML(value='Type:'), Button(description='Table', layout=Layout(width='70px'), st…"
      ]
     },
     "metadata": {},
     "output_type": "display_data"
    },
    {
     "data": {
      "application/vnd.jupyter.widget-view+json": {
       "model_id": "8722b7148fce4547b909c43fa80b78c0",
       "version_major": 2,
       "version_minor": 0
      },
      "text/plain": [
       "Output()"
      ]
     },
     "metadata": {},
     "output_type": "display_data"
    }
   ],
   "source": [
    "%%sql -o query2\n",
    "\n",
    "select consumer_consent_provided, COUNT(*) Num_of_complaints FROM experian_equi_date_year_month \\\n",
    "WHERE company = 'EQUIFAX, INC.' \\\n",
    "GROUP BY consumer_consent_provided ORDER BY consumer_consent_provided"
   ]
  },
  {
   "cell_type": "code",
   "execution_count": 42,
   "metadata": {},
   "outputs": [
    {
     "data": {
      "application/vnd.jupyter.widget-view+json": {
       "model_id": "300ac19921f54994a80f67fa3c97b09f",
       "version_major": 2,
       "version_minor": 0
      },
      "text/plain": [
       "VBox(children=(HBox(children=(HTML(value='Type:'), Button(description='Table', layout=Layout(width='70px'), st…"
      ]
     },
     "metadata": {},
     "output_type": "display_data"
    },
    {
     "data": {
      "application/vnd.jupyter.widget-view+json": {
       "model_id": "45d5e661e63843008003a19c7e6b9939",
       "version_major": 2,
       "version_minor": 0
      },
      "text/plain": [
       "Output()"
      ]
     },
     "metadata": {},
     "output_type": "display_data"
    }
   ],
   "source": [
    "%%sql -o query2\n",
    "\n",
    "select consumer_consent_provided, COUNT(*) Num_of_complaints FROM experian_equi_date_year_month \\\n",
    "WHERE company = 'Experian Information Solutions Inc.' \\\n",
    "GROUP BY consumer_consent_provided ORDER BY consumer_consent_provided"
   ]
  },
  {
   "cell_type": "markdown",
   "metadata": {},
   "source": [
    "submitted_via            "
   ]
  },
  {
   "cell_type": "code",
   "execution_count": 43,
   "metadata": {},
   "outputs": [
    {
     "data": {
      "application/vnd.jupyter.widget-view+json": {
       "model_id": "0e828f4b9055400aad823c2d6ed9b9a5",
       "version_major": 2,
       "version_minor": 0
      },
      "text/plain": [
       "VBox(children=(HBox(children=(HTML(value='Type:'), Button(description='Table', layout=Layout(width='70px'), st…"
      ]
     },
     "metadata": {},
     "output_type": "display_data"
    },
    {
     "data": {
      "application/vnd.jupyter.widget-view+json": {
       "model_id": "3a0cf6626fb642daacc24964b206f11e",
       "version_major": 2,
       "version_minor": 0
      },
      "text/plain": [
       "Output()"
      ]
     },
     "metadata": {},
     "output_type": "display_data"
    }
   ],
   "source": [
    "%%sql -o query2\n",
    "\n",
    "select submitted_via, COUNT(*) Num_of_complaints FROM experian_equi_date_year_month \\\n",
    "WHERE company = 'EQUIFAX, INC.' \\\n",
    "GROUP BY submitted_via ORDER BY submitted_via"
   ]
  },
  {
   "cell_type": "code",
   "execution_count": 44,
   "metadata": {},
   "outputs": [
    {
     "data": {
      "application/vnd.jupyter.widget-view+json": {
       "model_id": "07bb642be52b4611a805ff99bac29275",
       "version_major": 2,
       "version_minor": 0
      },
      "text/plain": [
       "VBox(children=(HBox(children=(HTML(value='Type:'), Button(description='Table', layout=Layout(width='70px'), st…"
      ]
     },
     "metadata": {},
     "output_type": "display_data"
    },
    {
     "data": {
      "application/vnd.jupyter.widget-view+json": {
       "model_id": "e0772e213e02417b9dfdeaeae54f08bf",
       "version_major": 2,
       "version_minor": 0
      },
      "text/plain": [
       "Output()"
      ]
     },
     "metadata": {},
     "output_type": "display_data"
    }
   ],
   "source": [
    "%%sql -o query2\n",
    "\n",
    "select submitted_via, COUNT(*) Num_of_complaints FROM experian_equi_date_year_month \\\n",
    "WHERE company = 'Experian Information Solutions Inc.' \\\n",
    "GROUP BY submitted_via ORDER BY submitted_via"
   ]
  },
  {
   "cell_type": "markdown",
   "metadata": {},
   "source": [
    "company_response         "
   ]
  },
  {
   "cell_type": "code",
   "execution_count": 45,
   "metadata": {},
   "outputs": [
    {
     "data": {
      "application/vnd.jupyter.widget-view+json": {
       "model_id": "91e939017346454393f0792b60f8cf19",
       "version_major": 2,
       "version_minor": 0
      },
      "text/plain": [
       "VBox(children=(HBox(children=(HTML(value='Type:'), Button(description='Table', layout=Layout(width='70px'), st…"
      ]
     },
     "metadata": {},
     "output_type": "display_data"
    },
    {
     "data": {
      "application/vnd.jupyter.widget-view+json": {
       "model_id": "3b447aa93da244f5a95c1c180b2bc40c",
       "version_major": 2,
       "version_minor": 0
      },
      "text/plain": [
       "Output()"
      ]
     },
     "metadata": {},
     "output_type": "display_data"
    }
   ],
   "source": [
    "%%sql -o query2\n",
    "\n",
    "select company_response, COUNT(*) Num_of_complaints FROM experian_equi_date_year_month \\\n",
    "WHERE company = 'EQUIFAX, INC.' \\\n",
    "GROUP BY company_response ORDER BY company_response\n"
   ]
  },
  {
   "cell_type": "code",
   "execution_count": 46,
   "metadata": {},
   "outputs": [
    {
     "data": {
      "application/vnd.jupyter.widget-view+json": {
       "model_id": "cf1eb034deb54532b4a6bb75b793eac5",
       "version_major": 2,
       "version_minor": 0
      },
      "text/plain": [
       "VBox(children=(HBox(children=(HTML(value='Type:'), Button(description='Table', layout=Layout(width='70px'), st…"
      ]
     },
     "metadata": {},
     "output_type": "display_data"
    },
    {
     "data": {
      "application/vnd.jupyter.widget-view+json": {
       "model_id": "d120b6a9373c44af976b9d21b04bf213",
       "version_major": 2,
       "version_minor": 0
      },
      "text/plain": [
       "Output()"
      ]
     },
     "metadata": {},
     "output_type": "display_data"
    }
   ],
   "source": [
    "%%sql -o query2\n",
    "\n",
    "select company_response, COUNT(*) Num_of_complaints FROM experian_equi_date_year_month \\\n",
    "WHERE company = 'Experian Information Solutions Inc.' \\\n",
    "GROUP BY company_response ORDER BY company_response"
   ]
  },
  {
   "cell_type": "markdown",
   "metadata": {},
   "source": [
    "timely_response          "
   ]
  },
  {
   "cell_type": "code",
   "execution_count": 47,
   "metadata": {},
   "outputs": [
    {
     "data": {
      "application/vnd.jupyter.widget-view+json": {
       "model_id": "20a4cbae503b4cb395d2e22a4c30d0a5",
       "version_major": 2,
       "version_minor": 0
      },
      "text/plain": [
       "VBox(children=(HBox(children=(HTML(value='Type:'), Button(description='Table', layout=Layout(width='70px'), st…"
      ]
     },
     "metadata": {},
     "output_type": "display_data"
    },
    {
     "data": {
      "application/vnd.jupyter.widget-view+json": {
       "model_id": "e41007940e2a49b489078e3f0092a04c",
       "version_major": 2,
       "version_minor": 0
      },
      "text/plain": [
       "Output()"
      ]
     },
     "metadata": {},
     "output_type": "display_data"
    }
   ],
   "source": [
    "%%sql -o query2\n",
    "\n",
    "select timely_response, COUNT(*) Num_of_complaints FROM experian_equi_date_year_month \\\n",
    "WHERE company = 'EQUIFAX, INC.' \\\n",
    "GROUP BY timely_response ORDER BY timely_response"
   ]
  },
  {
   "cell_type": "code",
   "execution_count": 48,
   "metadata": {},
   "outputs": [
    {
     "data": {
      "application/vnd.jupyter.widget-view+json": {
       "model_id": "ab160a72c7df49879abc6c713c210a12",
       "version_major": 2,
       "version_minor": 0
      },
      "text/plain": [
       "VBox(children=(HBox(children=(HTML(value='Type:'), Button(description='Table', layout=Layout(width='70px'), st…"
      ]
     },
     "metadata": {},
     "output_type": "display_data"
    },
    {
     "data": {
      "application/vnd.jupyter.widget-view+json": {
       "model_id": "e95c4635452e445a941c91f24c2746ce",
       "version_major": 2,
       "version_minor": 0
      },
      "text/plain": [
       "Output()"
      ]
     },
     "metadata": {},
     "output_type": "display_data"
    }
   ],
   "source": [
    "%%sql -o query2\n",
    "\n",
    "select timely_response, COUNT(*) Num_of_complaints FROM experian_equi_date_year_month \\\n",
    "WHERE company = 'Experian Information Solutions Inc.' \\\n",
    "GROUP BY timely_response ORDER BY timely_response"
   ]
  },
  {
   "cell_type": "markdown",
   "metadata": {},
   "source": [
    "consumer_disputed        "
   ]
  },
  {
   "cell_type": "code",
   "execution_count": 49,
   "metadata": {},
   "outputs": [
    {
     "data": {
      "application/vnd.jupyter.widget-view+json": {
       "model_id": "069e7cb763b441dfbdb45e37b322b895",
       "version_major": 2,
       "version_minor": 0
      },
      "text/plain": [
       "VBox(children=(HBox(children=(HTML(value='Type:'), Button(description='Table', layout=Layout(width='70px'), st…"
      ]
     },
     "metadata": {},
     "output_type": "display_data"
    },
    {
     "data": {
      "application/vnd.jupyter.widget-view+json": {
       "model_id": "014914f47a594b2187b17fa226ae1bb4",
       "version_major": 2,
       "version_minor": 0
      },
      "text/plain": [
       "Output()"
      ]
     },
     "metadata": {},
     "output_type": "display_data"
    }
   ],
   "source": [
    "%%sql -o query2\n",
    "\n",
    "select consumer_disputed, COUNT(*) Num_of_complaints FROM experian_equi_date_year_month \\\n",
    "WHERE company = 'EQUIFAX, INC.' \\\n",
    "GROUP BY consumer_disputed ORDER BY consumer_disputed"
   ]
  },
  {
   "cell_type": "code",
   "execution_count": 50,
   "metadata": {},
   "outputs": [
    {
     "data": {
      "application/vnd.jupyter.widget-view+json": {
       "model_id": "a6f9144d18384cb6bf6201171b0de502",
       "version_major": 2,
       "version_minor": 0
      },
      "text/plain": [
       "VBox(children=(HBox(children=(HTML(value='Type:'), Button(description='Table', layout=Layout(width='70px'), st…"
      ]
     },
     "metadata": {},
     "output_type": "display_data"
    },
    {
     "data": {
      "application/vnd.jupyter.widget-view+json": {
       "model_id": "60917421ea984b0fa930c6cebd47563e",
       "version_major": 2,
       "version_minor": 0
      },
      "text/plain": [
       "Output()"
      ]
     },
     "metadata": {},
     "output_type": "display_data"
    }
   ],
   "source": [
    "%%sql -o query2\n",
    "\n",
    "select consumer_disputed, COUNT(*) Num_of_complaints FROM experian_equi_date_year_month \\\n",
    "WHERE company = 'Experian Information Solutions Inc.' \\\n",
    "GROUP BY consumer_disputed ORDER BY consumer_disputed"
   ]
  },
  {
   "cell_type": "code",
   "execution_count": 51,
   "metadata": {},
   "outputs": [
    {
     "data": {
      "application/vnd.jupyter.widget-view+json": {
       "model_id": "792ba2d2c6534be9b88141ef820ffff9",
       "version_major": 2,
       "version_minor": 0
      },
      "text/plain": [
       "VBox(children=(HBox(children=(HTML(value='Type:'), Button(description='Table', layout=Layout(width='70px'), st…"
      ]
     },
     "metadata": {},
     "output_type": "display_data"
    },
    {
     "data": {
      "application/vnd.jupyter.widget-view+json": {
       "model_id": "808aa3ee1e0149949262031079781e28",
       "version_major": 2,
       "version_minor": 0
      },
      "text/plain": [
       "Output()"
      ]
     },
     "metadata": {},
     "output_type": "display_data"
    }
   ],
   "source": [
    "%%sql -o query2\n",
    "\n",
    "select distinct zip_code, Average_Complaints FROM experian_equi_date_year_month \\\n",
    "WHERE company = 'EQUIFAX, INC.' \\\n",
    "ORDER BY Average_Complaints DESC, zip_code"
   ]
  },
  {
   "cell_type": "code",
   "execution_count": 52,
   "metadata": {},
   "outputs": [
    {
     "data": {
      "application/vnd.jupyter.widget-view+json": {
       "model_id": "a37e3bda337d442b97525bccfe626521",
       "version_major": 2,
       "version_minor": 0
      },
      "text/plain": [
       "VBox(children=(HBox(children=(HTML(value='Type:'), Button(description='Table', layout=Layout(width='70px'), st…"
      ]
     },
     "metadata": {},
     "output_type": "display_data"
    },
    {
     "data": {
      "application/vnd.jupyter.widget-view+json": {
       "model_id": "5aefa10154444f1aadb4a09a69c2962e",
       "version_major": 2,
       "version_minor": 0
      },
      "text/plain": [
       "Output()"
      ]
     },
     "metadata": {},
     "output_type": "display_data"
    }
   ],
   "source": [
    "%%sql -o query2\n",
    "\n",
    "select distinct zip_code, Average_Complaints FROM experian_equi_date_year_month \\\n",
    "WHERE company = 'Experian Information Solutions Inc.' \\\n",
    "ORDER BY Average_Complaints DESC, zip_code"
   ]
  },
  {
   "cell_type": "markdown",
   "metadata": {},
   "source": [
    "## c)  To get average number of complaints in each state \n",
    "\n",
    "State-wise analysis"
   ]
  },
  {
   "cell_type": "markdown",
   "metadata": {},
   "source": [
    "Top state by total number of complaints"
   ]
  },
  {
   "cell_type": "code",
   "execution_count": 53,
   "metadata": {},
   "outputs": [
    {
     "data": {
      "application/vnd.jupyter.widget-view+json": {
       "model_id": "1661bb8f320142d595a77baae4f511ff",
       "version_major": 2,
       "version_minor": 0
      },
      "text/plain": [
       "VBox(children=(HBox(children=(HTML(value='Type:'), Button(description='Table', layout=Layout(width='70px'), st…"
      ]
     },
     "metadata": {},
     "output_type": "display_data"
    },
    {
     "data": {
      "application/vnd.jupyter.widget-view+json": {
       "model_id": "be307091818443539933b39c921ecf6d",
       "version_major": 2,
       "version_minor": 0
      },
      "text/plain": [
       "Output()"
      ]
     },
     "metadata": {},
     "output_type": "display_data"
    }
   ],
   "source": [
    "%%sql -o query2\n",
    "\n",
    "select state, COUNT(*) Total_Number_of_complaints FROM experian_equi_date_year_month \\\n",
    "WHERE company = 'EQUIFAX, INC.' \\\n",
    "GROUP BY state\n",
    "ORDER BY state"
   ]
  },
  {
   "cell_type": "code",
   "execution_count": 54,
   "metadata": {},
   "outputs": [
    {
     "data": {
      "application/vnd.jupyter.widget-view+json": {
       "model_id": "4749d3c6717f4efd9b628115dc86bb4c",
       "version_major": 2,
       "version_minor": 0
      },
      "text/plain": [
       "VBox(children=(HBox(children=(HTML(value='Type:'), Button(description='Table', layout=Layout(width='70px'), st…"
      ]
     },
     "metadata": {},
     "output_type": "display_data"
    },
    {
     "data": {
      "application/vnd.jupyter.widget-view+json": {
       "model_id": "2060568cf619457fa2b1586711ab019f",
       "version_major": 2,
       "version_minor": 0
      },
      "text/plain": [
       "Output()"
      ]
     },
     "metadata": {},
     "output_type": "display_data"
    }
   ],
   "source": [
    "%%sql -o query2\n",
    "\n",
    "select state,  COUNT(*) Total_Number_of_complaints  FROM experian_equi_date_year_month \\\n",
    "WHERE company = 'Experian Information Solutions Inc.' \\\n",
    "GROUP BY state\n",
    "ORDER BY state"
   ]
  },
  {
   "cell_type": "markdown",
   "metadata": {},
   "source": [
    "Top states by average complaints. Calculated the average by following method:\n",
    "\n",
    "divided the total number of complaints for a zipcode by the population of that zipcode\n",
    "scaling factor of 10000"
   ]
  },
  {
   "cell_type": "code",
   "execution_count": 55,
   "metadata": {},
   "outputs": [
    {
     "data": {
      "application/vnd.jupyter.widget-view+json": {
       "model_id": "5cd7557c9e2d42acad57a1e39f82de56",
       "version_major": 2,
       "version_minor": 0
      },
      "text/plain": [
       "VBox(children=(HBox(children=(HTML(value='Type:'), Button(description='Table', layout=Layout(width='70px'), st…"
      ]
     },
     "metadata": {},
     "output_type": "display_data"
    },
    {
     "data": {
      "application/vnd.jupyter.widget-view+json": {
       "model_id": "c1ef2a0916de46b9b0ac278d8b940424",
       "version_major": 2,
       "version_minor": 0
      },
      "text/plain": [
       "Output()"
      ]
     },
     "metadata": {},
     "output_type": "display_data"
    }
   ],
   "source": [
    "%%sql -o query2\n",
    "\n",
    "select state, SUM(Average_Complaints) Total_avg_complaints FROM experian_equi_date_year_month \\\n",
    "WHERE company = 'EQUIFAX, INC.' \\\n",
    "GROUP BY state\n",
    "ORDER BY state"
   ]
  },
  {
   "cell_type": "code",
   "execution_count": 56,
   "metadata": {},
   "outputs": [
    {
     "data": {
      "application/vnd.jupyter.widget-view+json": {
       "model_id": "de160ef6bb4a4a93b9df0aa8c284c085",
       "version_major": 2,
       "version_minor": 0
      },
      "text/plain": [
       "VBox(children=(HBox(children=(HTML(value='Type:'), Button(description='Table', layout=Layout(width='70px'), st…"
      ]
     },
     "metadata": {},
     "output_type": "display_data"
    },
    {
     "data": {
      "application/vnd.jupyter.widget-view+json": {
       "model_id": "690792a2e3564adc898cf709b15bfa8a",
       "version_major": 2,
       "version_minor": 0
      },
      "text/plain": [
       "Output()"
      ]
     },
     "metadata": {},
     "output_type": "display_data"
    }
   ],
   "source": [
    "%%sql -o query2\n",
    "\n",
    "select state, SUM(Average_Complaints) Total_avg_complaints  FROM experian_equi_date_year_month \\\n",
    "WHERE company = 'Experian Information Solutions Inc.' \\\n",
    "GROUP BY state\n",
    "ORDER BY state"
   ]
  },
  {
   "cell_type": "markdown",
   "metadata": {},
   "source": [
    "# d)  I would also like to check if there more complaints from the area having lower average income? "
   ]
  },
  {
   "cell_type": "code",
   "execution_count": 57,
   "metadata": {},
   "outputs": [],
   "source": [
    "from pyspark.ml.stat import Correlation\n",
    "from pyspark.ml.feature import VectorAssembler\n"
   ]
  },
  {
   "cell_type": "code",
   "execution_count": 58,
   "metadata": {},
   "outputs": [],
   "source": [
    "from pyspark.sql.functions import countDistinct, approx_count_distinct, count, sum, mean, round\n",
    "corr_DF = finalDF.groupBy(\"zip_code\").agg(round(mean(\"Number_of_Complaints\"),3).alias(\"Average_Number_of_Complaints\"),\n",
    "                         round(mean(\"average_income\"),3).alias(\"average_income\"))"
   ]
  },
  {
   "cell_type": "code",
   "execution_count": 8,
   "metadata": {},
   "outputs": [
    {
     "name": "stdout",
     "output_type": "stream",
     "text": [
      "+--------+----------------------------+--------------+\n",
      "|zip_code|Average_Number_of_Complaints|average_income|\n",
      "+--------+----------------------------+--------------+\n",
      "|   11563|                       540.0|      167009.0|\n",
      "|   11722|                       756.0|      136987.0|\n",
      "+--------+----------------------------+--------------+\n",
      "only showing top 2 rows"
     ]
    }
   ],
   "source": [
    "corr_DF.show(2)"
   ]
  },
  {
   "cell_type": "code",
   "execution_count": 168,
   "metadata": {},
   "outputs": [],
   "source": [
    "#corr_avg_inc_DF = finalDF.select('Number_of_Complaints', 'average_income')"
   ]
  },
  {
   "cell_type": "code",
   "execution_count": 169,
   "metadata": {},
   "outputs": [],
   "source": [
    "#corr_avg_inc_DF = corr_avg_inc_DF.dropDuplicates(['Number_of_Complaints', 'average_income'])"
   ]
  },
  {
   "cell_type": "code",
   "execution_count": 170,
   "metadata": {},
   "outputs": [],
   "source": [
    "#corr_avg_inc_DF.show(2)"
   ]
  },
  {
   "cell_type": "code",
   "execution_count": 159,
   "metadata": {},
   "outputs": [
    {
     "name": "stdout",
     "output_type": "stream",
     "text": [
      "DataFrame[]"
     ]
    }
   ],
   "source": [
    "#spark.sql(\"drop table corr_avg_inc\")"
   ]
  },
  {
   "cell_type": "code",
   "execution_count": 59,
   "metadata": {},
   "outputs": [
    {
     "name": "stdout",
     "output_type": "stream",
     "text": [
      "+--------+-----------------------------+-----------+\n",
      "|database|tableName                    |isTemporary|\n",
      "+--------+-----------------------------+-----------+\n",
      "|        |combined_dataset             |true       |\n",
      "|        |corr                         |true       |\n",
      "|        |experian_equi                |true       |\n",
      "|        |experian_equi_date_year_month|true       |\n",
      "+--------+-----------------------------+-----------+\n",
      "\n",
      "+----------------------------+---------+-------+\n",
      "|col_name                    |data_type|comment|\n",
      "+----------------------------+---------+-------+\n",
      "|zip_code                    |string   |null   |\n",
      "|Average_Number_of_Complaints|double   |null   |\n",
      "|average_income              |double   |null   |\n",
      "+----------------------------+---------+-------+"
     ]
    }
   ],
   "source": [
    "corr_DF.createOrReplaceTempView(\"corr\")\n",
    "spark.sql(\"show tables\").show(truncate=False)\n",
    "spark.sql(\"desc corr\").show(truncate=False)"
   ]
  },
  {
   "cell_type": "code",
   "execution_count": 162,
   "metadata": {},
   "outputs": [
    {
     "name": "stdout",
     "output_type": "stream",
     "text": [
      "+--------------------+--------------+\n",
      "|Number_of_Complaints|average_income|\n",
      "+--------------------+--------------+\n",
      "|                1242|        211485|\n",
      "|                  48|         14379|\n",
      "+--------------------+--------------+\n",
      "only showing top 2 rows"
     ]
    }
   ],
   "source": [
    "spark.sql(\"SELECT distinct Number_of_Complaints,average_income FROM combined_dataset \").show(2)"
   ]
  },
  {
   "cell_type": "code",
   "execution_count": 60,
   "metadata": {},
   "outputs": [
    {
     "data": {
      "application/vnd.jupyter.widget-view+json": {
       "model_id": "fa71b0d54bda40f18831ca23a99362f2",
       "version_major": 2,
       "version_minor": 0
      },
      "text/plain": [
       "VBox(children=(HBox(children=(HTML(value='Type:'), Button(description='Table', layout=Layout(width='70px'), st…"
      ]
     },
     "metadata": {},
     "output_type": "display_data"
    },
    {
     "data": {
      "application/vnd.jupyter.widget-view+json": {
       "model_id": "9182cce5046d4d849e0c6dc42532b861",
       "version_major": 2,
       "version_minor": 0
      },
      "text/plain": [
       "Output()"
      ]
     },
     "metadata": {},
     "output_type": "display_data"
    }
   ],
   "source": [
    "%%sql -o query2\n",
    "\n",
    "SELECT average_income, Average_Number_of_Complaints FROM corr                    "
   ]
  },
  {
   "cell_type": "code",
   "execution_count": 179,
   "metadata": {},
   "outputs": [],
   "source": [
    "corr_DF = corr_DF.drop('zip_code')"
   ]
  },
  {
   "cell_type": "code",
   "execution_count": 180,
   "metadata": {},
   "outputs": [],
   "source": [
    "# convert to vector column first\n",
    "vector_col = \"corr_features\"\n",
    "assembler = VectorAssembler(inputCols=corr_DF.columns, outputCol=vector_col)\n",
    "df_vector = assembler.transform(corr_DF).select(vector_col)"
   ]
  },
  {
   "cell_type": "code",
   "execution_count": 181,
   "metadata": {},
   "outputs": [
    {
     "name": "stdout",
     "output_type": "stream",
     "text": [
      "Pearson correlation matrix:\n",
      "DenseMatrix([[1.        , 0.60189822],\n",
      "             [0.60189822, 1.        ]])"
     ]
    }
   ],
   "source": [
    "# get correlation matrix\n",
    "\n",
    "Pearson_matrix  = Correlation.corr(df_vector, vector_col).head()\n",
    "print(\"Pearson correlation matrix:\\n\" + str(Pearson_matrix[0]))"
   ]
  },
  {
   "cell_type": "code",
   "execution_count": 182,
   "metadata": {},
   "outputs": [
    {
     "name": "stdout",
     "output_type": "stream",
     "text": [
      "Spearman correlation matrix:\n",
      "DenseMatrix([[1.        , 0.80828985],\n",
      "             [0.80828985, 1.        ]])"
     ]
    }
   ],
   "source": [
    "spearman_matrix = Correlation.corr(df_vector, vector_col, \"spearman\").head()\n",
    "print(\"Spearman correlation matrix:\\n\" + str(spearman_matrix[0]))"
   ]
  }
 ],
 "metadata": {
  "kernelspec": {
   "display_name": "PySpark3",
   "language": "",
   "name": "pyspark3kernel"
  },
  "language_info": {
   "codemirror_mode": {
    "name": "python",
    "version": 3
   },
   "mimetype": "text/x-python",
   "name": "pyspark3",
   "pygments_lexer": "python3"
  }
 },
 "nbformat": 4,
 "nbformat_minor": 2
}
