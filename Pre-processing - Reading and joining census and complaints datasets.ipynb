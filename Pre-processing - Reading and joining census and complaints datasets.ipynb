{
 "cells": [
  {
   "cell_type": "code",
   "execution_count": 1,
   "metadata": {},
   "outputs": [
    {
     "name": "stdout",
     "output_type": "stream",
     "text": [
      "Starting Spark application\n"
     ]
    },
    {
     "data": {
      "text/html": [
       "<table>\n",
       "<tr><th>ID</th><th>YARN Application ID</th><th>Kind</th><th>State</th><th>Spark UI</th><th>Driver log</th><th>Current session?</th></tr><tr><td>2</td><td>application_1557093610127_0005</td><td>pyspark3</td><td>idle</td><td><a target=\"_blank\" href=\"http://ip-172-31-67-154.ec2.internal:20888/proxy/application_1557093610127_0005/\">Link</a></td><td><a target=\"_blank\" href=\"http://ip-172-31-73-48.ec2.internal:8042/node/containerlogs/container_1557093610127_0005_01_000001/livy\">Link</a></td><td>✔</td></tr></table>"
      ],
      "text/plain": [
       "<IPython.core.display.HTML object>"
      ]
     },
     "metadata": {},
     "output_type": "display_data"
    },
    {
     "name": "stdout",
     "output_type": "stream",
     "text": [
      "SparkSession available as 'spark'.\n",
      "\"\\nimport pandas as pd\\n#from IPython.core.display import display, HTML\\n#display(HTML('<h1>Hello, world!</h1>'))\\n\""
     ]
    }
   ],
   "source": [
    "from pyspark.sql.functions import *\n",
    "from pyspark.sql.types import *\n",
    "from pyspark.sql import *\n",
    "\n",
    "\"\"\"\n",
    "import pandas as pd\n",
    "#from IPython.core.display import display, HTML\n",
    "#display(HTML('<h1>Hello, world!</h1>'))\n",
    "\"\"\""
   ]
  },
  {
   "cell_type": "code",
   "execution_count": 2,
   "metadata": {},
   "outputs": [
    {
     "name": "stdout",
     "output_type": "stream",
     "text": [
      "+--------------+\n",
      "|databaseName  |\n",
      "+--------------+\n",
      "|cust_complains|\n",
      "|default       |\n",
      "|secondary     |\n",
      "+--------------+\n",
      "\n",
      "+---------+----------+-----------+\n",
      "|database |tableName |isTemporary|\n",
      "+---------+----------+-----------+\n",
      "|secondary|census_all|false      |\n",
      "|secondary|census_raw|false      |\n",
      "+---------+----------+-----------+"
     ]
    }
   ],
   "source": [
    "spark.sql(\"show databases\").show(truncate=False)\n",
    "spark.sql(\"show tables in secondary\").show(truncate=False)"
   ]
  },
  {
   "cell_type": "code",
   "execution_count": 3,
   "metadata": {},
   "outputs": [
    {
     "name": "stdout",
     "output_type": "stream",
     "text": [
      "+----------+-----------+-----------+------+-------+--------------+\n",
      "|population|minimum_age|maximum_age|gender|zipcode|        geo_id|\n",
      "+----------+-----------+-----------+------+-------+--------------+\n",
      "|        50|         30|         34|female|  61747|8600000US61747|\n",
      "|         5|         85|       null|  male|  64120|8600000US64120|\n",
      "+----------+-----------+-----------+------+-------+--------------+\n",
      "only showing top 2 rows"
     ]
    }
   ],
   "source": [
    "spark.sql(\"select * from secondary.census_all\").show(2)"
   ]
  },
  {
   "cell_type": "code",
   "execution_count": 4,
   "metadata": {
    "scrolled": true
   },
   "outputs": [
    {
     "name": "stdout",
     "output_type": "stream",
     "text": [
      "+--------------+----------+-----------+-----------+------+-------+\n",
      "|        geo_id|population|minimum_age|maximum_age|gender|zipcode|\n",
      "+--------------+----------+-----------+-----------+------+-------+\n",
      "|8600000US61748|        70|         25|         29|  male|  61748|\n",
      "|8600000US61748|        49|         62|         64|female|  61748|\n",
      "|8600000US61748|       100|         35|         39|  male|  61748|\n",
      "|8600000US61748|        22|         80|         84|female|  61748|\n",
      "|8600000US61748|       117|         45|         49|  male|  61748|\n",
      "|8600000US61748|        36|         65|         66|female|  61748|\n",
      "|8600000US61748|        16|         80|         84|  male|  61748|\n",
      "|8600000US61748|        42|         67|         69|female|  61748|\n",
      "|8600000US61748|        95|          5|          9|female|  61748|\n",
      "|8600000US61748|       104|         55|         59|  male|  61748|\n",
      "|8600000US61748|        36|         67|         69|  male|  61748|\n",
      "|8600000US61748|         8|         21|         21|female|  61748|\n",
      "|8600000US61748|        10|         20|         20|  male|  61748|\n",
      "|8600000US61748|        35|         70|         74|female|  61748|\n",
      "|8600000US61748|      1371|       null|       null|female|  61748|\n",
      "|8600000US61748|      1411|       null|       null|  male|  61748|\n",
      "|8600000US61748|        31|         18|         19|female|  61748|\n",
      "|8600000US61748|       117|         45|         49|female|  61748|\n",
      "|8600000US61748|       104|         40|         44|female|  61748|\n",
      "|8600000US61748|        37|         75|         79|female|  61748|\n",
      "+--------------+----------+-----------+-----------+------+-------+\n",
      "only showing top 20 rows"
     ]
    }
   ],
   "source": [
    "spark.sql(\"select geo_id,population,minimum_age,maximum_age,gender,zipcode from secondary.census_all WHERE zipcode = '61748'\").show()"
   ]
  },
  {
   "cell_type": "code",
   "execution_count": 34,
   "metadata": {},
   "outputs": [
    {
     "name": "stdout",
     "output_type": "stream",
     "text": [
      "+--------------+----------+-----------+-----------+------+-------+\n",
      "|        geo_id|population|minimum_age|maximum_age|gender|zipcode|\n",
      "+--------------+----------+-----------+-----------+------+-------+\n",
      "|8600000US00602|     41520|       null|       null|      |    602|\n",
      "|8600000US00603|     54689|       null|       null|      |    603|\n",
      "|8600000US00606|      6615|       null|       null|      |    606|\n",
      "|8600000US00610|     29016|       null|       null|      |    610|\n",
      "|8600000US00612|     67010|       null|       null|      |    612|\n",
      "|8600000US00616|     11017|       null|       null|      |    616|\n",
      "|8600000US00617|     24597|       null|       null|      |    617|\n",
      "|8600000US00622|      7853|       null|       null|      |    622|\n",
      "|8600000US00623|     43061|       null|       null|      |    623|\n",
      "|8600000US00624|     26241|       null|       null|      |    624|\n",
      "|8600000US00627|     35159|       null|       null|      |    627|\n",
      "|8600000US00631|      1852|       null|       null|      |    631|\n",
      "|8600000US00637|     25287|       null|       null|      |    637|\n",
      "|8600000US00638|     18941|       null|       null|      |    638|\n",
      "|8600000US00641|     31191|       null|       null|      |    641|\n",
      "|8600000US00646|     38199|       null|       null|      |    646|\n",
      "|8600000US00647|      6172|       null|       null|      |    647|\n",
      "|8600000US00650|     14998|       null|       null|      |    650|\n",
      "|8600000US00652|      4715|       null|       null|      |    652|\n",
      "|8600000US00653|     13307|       null|       null|      |    653|\n",
      "+--------------+----------+-----------+-----------+------+-------+\n",
      "only showing top 20 rows"
     ]
    }
   ],
   "source": [
    "spark.sql(\"select geo_id,population,minimum_age,maximum_age,gender,zipcode from secondary.census_all WHERE minimum_age is null AND maximum_age is null AND gender = '' ORDER BY zipcode\").show()"
   ]
  },
  {
   "cell_type": "code",
   "execution_count": 35,
   "metadata": {},
   "outputs": [
    {
     "name": "stdout",
     "output_type": "stream",
     "text": [
      "+--------------+\n",
      "|count(zipcode)|\n",
      "+--------------+\n",
      "|         33119|\n",
      "+--------------+"
     ]
    }
   ],
   "source": [
    "spark.sql(\"select count(zipcode) from secondary.census_all WHERE minimum_age is null AND maximum_age is null AND gender= ''\").show()"
   ]
  },
  {
   "cell_type": "code",
   "execution_count": 7,
   "metadata": {},
   "outputs": [
    {
     "name": "stdout",
     "output_type": "stream",
     "text": [
      "+-----------------------+\n",
      "|count(DISTINCT zipcode)|\n",
      "+-----------------------+\n",
      "|                  33119|\n",
      "+-----------------------+"
     ]
    }
   ],
   "source": [
    "spark.sql('select count(distinct zipcode) from secondary.census_all').show()"
   ]
  },
  {
   "cell_type": "code",
   "execution_count": 9,
   "metadata": {},
   "outputs": [],
   "source": [
    "populationDF = spark.sql(\"select population, zipcode as c_zipcode from secondary.census_all WHERE minimum_age is null AND maximum_age is null AND gender= ''\")"
   ]
  },
  {
   "cell_type": "code",
   "execution_count": 10,
   "metadata": {},
   "outputs": [
    {
     "name": "stdout",
     "output_type": "stream",
     "text": [
      "['population', 'c_zipcode']"
     ]
    }
   ],
   "source": [
    "populationDF.columns"
   ]
  },
  {
   "cell_type": "code",
   "execution_count": 11,
   "metadata": {},
   "outputs": [
    {
     "name": "stdout",
     "output_type": "stream",
     "text": [
      "Row(population=27669, c_zipcode=91324)"
     ]
    }
   ],
   "source": [
    "populationDF.head()"
   ]
  },
  {
   "cell_type": "code",
   "execution_count": 12,
   "metadata": {},
   "outputs": [],
   "source": [
    "customerDF = spark.sql(\"SELECT * FROM cust_complains.cust_complaints_all\")"
   ]
  },
  {
   "cell_type": "code",
   "execution_count": 13,
   "metadata": {},
   "outputs": [
    {
     "name": "stdout",
     "output_type": "stream",
     "text": [
      "['date_received', 'product', 'sub_product', 'issue', 'sub_issue', 'consumer_complaint_narrative', 'company_public_response', 'company', 'state', 'zip_code', 'tags', 'consumer_consent_provided', 'submitted_via', 'date_sent_to_company', 'company_response', 'timely_response', 'consumer_disputed', 'complaint_id']"
     ]
    }
   ],
   "source": [
    "customerDF.columns"
   ]
  },
  {
   "cell_type": "code",
   "execution_count": 14,
   "metadata": {},
   "outputs": [],
   "source": [
    "joinExpression = populationDF[\"c_zipcode\"] == customerDF['zip_code']"
   ]
  },
  {
   "cell_type": "code",
   "execution_count": 15,
   "metadata": {},
   "outputs": [],
   "source": [
    "joinType = \"right_outer\"\n",
    "customer_populationDF = customerDF.join(populationDF, joinExpression, joinType)"
   ]
  },
  {
   "cell_type": "code",
   "execution_count": 19,
   "metadata": {},
   "outputs": [
    {
     "name": "stdout",
     "output_type": "stream",
     "text": [
      "+-------------+--------------------+--------------------+--------------------+--------------------+----------------------------+-----------------------+--------------------+-----+--------+--------------+-------------------------+-------------+--------------------+--------------------+---------------+-----------------+------------+----------+---------+\n",
      "|date_received|             product|         sub_product|               issue|           sub_issue|consumer_complaint_narrative|company_public_response|             company|state|zip_code|          tags|consumer_consent_provided|submitted_via|date_sent_to_company|    company_response|timely_response|consumer_disputed|complaint_id|population|c_zipcode|\n",
      "+-------------+--------------------+--------------------+--------------------+--------------------+----------------------------+-----------------------+--------------------+-----+--------+--------------+-------------------------+-------------+--------------------+--------------------+---------------+-----------------+------------+----------+---------+\n",
      "|   05/11/2012|Bank account or s...|    Checking account|Deposits and with...|                    |                            |                       |BANK OF AMERICA, ...|   MA|   01088|Older American|                      N/A|        Phone|          05/17/2012|Closed with expla...|             No|              Yes|       75611|       670|     1088|\n",
      "|   12/29/2018|            Mortgage|Conventional home...|Struggling to pay...|                    |                            |   Company believes ...|SELECT PORTFOLIO ...|   MA|   01238|              |     Consent not provided|          Web|          12/29/2018|Closed with expla...|            Yes|              N/A|     3112366|      6047|     1238|\n",
      "|   02/05/2018|Credit reporting,...|    Credit reporting|Incorrect informa...|Account status in...|                            |   Company has respo...|Experian Informat...|   MA|   01238|              |                      N/A|        Phone|          02/05/2018|Closed with expla...|            Yes|              N/A|     2804185|      6047|     1238|\n",
      "|   08/04/2017|        Student loan|Private student loan|Dealing with your...|Trouble with how ...|                            |                       |TRANSWORLD SYSTEM...|   MA|   01238|              |                      N/A|     Referral|          08/30/2017|Closed with expla...|            Yes|              N/A|     2636289|      6047|     1238|\n",
      "|   06/27/2017|        Student loan|Private student loan|Dealing with your...|Trouble with how ...|                            |                       |Patenaude & Felix...|   MA|   01238|              |                      N/A|     Referral|          07/07/2017|Closed with expla...|            Yes|              N/A|     2559765|      6047|     1238|\n",
      "+-------------+--------------------+--------------------+--------------------+--------------------+----------------------------+-----------------------+--------------------+-----+--------+--------------+-------------------------+-------------+--------------------+--------------------+---------------+-----------------+------------+----------+---------+\n",
      "only showing top 5 rows"
     ]
    }
   ],
   "source": [
    "customer_populationDF.show(5)"
   ]
  },
  {
   "cell_type": "code",
   "execution_count": 16,
   "metadata": {},
   "outputs": [],
   "source": [
    "income = spark.read.format(\"csv\").option(\"header\", \"true\").option(\"mode\", \"DROPMALFORMED\").load(\"s3://snehalrawinput/income2016.csv\")"
   ]
  },
  {
   "cell_type": "code",
   "execution_count": 17,
   "metadata": {},
   "outputs": [],
   "source": [
    "incomeDF = income['ZIPCODE','A02650','NUMDEP']"
   ]
  },
  {
   "cell_type": "code",
   "execution_count": 29,
   "metadata": {},
   "outputs": [],
   "source": [
    "#val dfRenamed = df.toDF(newNames: _*)\n",
    "\n",
    "incomeDF_renamed = incomeDF.withColumnRenamed('ZIPCODE','zipcode_income')\n",
    "incomeDF_renamed = incomeDF_renamed.withColumnRenamed('A02650','Total_Income')\n",
    "#incomeDF_renamed = incomeDF_renamed.withColumnRenamed('NUMDEP',)"
   ]
  },
  {
   "cell_type": "code",
   "execution_count": 30,
   "metadata": {},
   "outputs": [
    {
     "name": "stdout",
     "output_type": "stream",
     "text": [
      "['zipcode_income', 'Total_Income', 'NUMDEP']"
     ]
    }
   ],
   "source": [
    "incomeDF_renamed.columns"
   ]
  },
  {
   "cell_type": "code",
   "execution_count": 62,
   "metadata": {},
   "outputs": [],
   "source": [
    "#incomeDF.createOrReplaceTempView(\"income\")"
   ]
  },
  {
   "cell_type": "code",
   "execution_count": 63,
   "metadata": {},
   "outputs": [],
   "source": [
    "#spark.sql(\"show tables in cust_complains\").show(truncate=False)\n",
    "#spark.sql(\"show tables in secondary\").show(truncate=False)"
   ]
  },
  {
   "cell_type": "code",
   "execution_count": 31,
   "metadata": {},
   "outputs": [],
   "source": [
    "joinExpression2 = incomeDF_renamed[\"zipcode_income\"] == customer_populationDF['zip_code']"
   ]
  },
  {
   "cell_type": "code",
   "execution_count": 32,
   "metadata": {},
   "outputs": [],
   "source": [
    "joinType = \"right_outer\"\n",
    "cc_pop_inc = customer_populationDF.join(incomeDF_renamed, joinExpression2, joinType)"
   ]
  },
  {
   "cell_type": "code",
   "execution_count": 33,
   "metadata": {},
   "outputs": [
    {
     "name": "stdout",
     "output_type": "stream",
     "text": [
      "['date_received', 'product', 'sub_product', 'issue', 'sub_issue', 'consumer_complaint_narrative', 'company_public_response', 'company', 'state', 'zip_code', 'tags', 'consumer_consent_provided', 'submitted_via', 'date_sent_to_company', 'company_response', 'timely_response', 'consumer_disputed', 'complaint_id', 'population', 'c_zipcode', 'zipcode_income', 'Total_Income', 'NUMDEP']"
     ]
    }
   ],
   "source": [
    "cc_pop_inc.columns"
   ]
  },
  {
   "cell_type": "code",
   "execution_count": 36,
   "metadata": {},
   "outputs": [],
   "source": [
    "cc_pop_inc.write.parquet(\"s3://snehalpreprocessedfiles/Dataframes_equi_wells/cc_pop_inc_5.5.pq\")"
   ]
  },
  {
   "cell_type": "code",
   "execution_count": 37,
   "metadata": {},
   "outputs": [],
   "source": [
    "#cc_april = cc_pop_inc['date_received', 'product', 'sub_product', 'issue', 'sub_issue', 'company_public_response', 'company', 'state', 'zip_code', 'tags', 'consumer_consent_provided', 'submitted_via', 'date_sent_to_company', 'company_response', 'timely_response', 'consumer_disputed', 'complaint_id', 'A02650', 'NUMDEP','avg_population']"
   ]
  },
  {
   "cell_type": "code",
   "execution_count": 38,
   "metadata": {},
   "outputs": [],
   "source": [
    "#cc_april.printSchema()"
   ]
  },
  {
   "cell_type": "code",
   "execution_count": 69,
   "metadata": {},
   "outputs": [],
   "source": [
    "#cc_april.write.parquet(\"s3://snehalpreprocessedfiles/cc_april.pq\")"
   ]
  },
  {
   "cell_type": "code",
   "execution_count": 40,
   "metadata": {},
   "outputs": [],
   "source": [
    "cc_pop_inc_agg = cc_pop_inc.groupBy(\"zip_code\").agg(count(\"zip_code\").alias(\"Number_of_Complaints\"))"
   ]
  },
  {
   "cell_type": "code",
   "execution_count": 44,
   "metadata": {},
   "outputs": [],
   "source": [
    "cc_pop_inc_agg = cc_pop_inc_agg.withColumnRenamed('zip_code','zipcode_agg')"
   ]
  },
  {
   "cell_type": "code",
   "execution_count": 45,
   "metadata": {},
   "outputs": [
    {
     "name": "stdout",
     "output_type": "stream",
     "text": [
      "['zipcode_agg', 'Number_of_Complaints']"
     ]
    }
   ],
   "source": [
    "cc_pop_inc_agg.columns"
   ]
  },
  {
   "cell_type": "code",
   "execution_count": 46,
   "metadata": {},
   "outputs": [],
   "source": [
    "joinExpression3 = cc_pop_inc_agg[\"zipcode_agg\"] == cc_pop_inc['zip_code']"
   ]
  },
  {
   "cell_type": "code",
   "execution_count": 47,
   "metadata": {},
   "outputs": [],
   "source": [
    "joinType = \"inner\"\n",
    "cc_pop_inc = cc_pop_inc.join(cc_pop_inc_agg, joinExpression3, joinType)"
   ]
  },
  {
   "cell_type": "code",
   "execution_count": 48,
   "metadata": {},
   "outputs": [
    {
     "name": "stdout",
     "output_type": "stream",
     "text": [
      "['date_received', 'product', 'sub_product', 'issue', 'sub_issue', 'consumer_complaint_narrative', 'company_public_response', 'company', 'state', 'zip_code', 'tags', 'consumer_consent_provided', 'submitted_via', 'date_sent_to_company', 'company_response', 'timely_response', 'consumer_disputed', 'complaint_id', 'population', 'c_zipcode', 'zipcode_income', 'Total_Income', 'NUMDEP', 'zipcode_agg', 'Number_of_Complaints']"
     ]
    }
   ],
   "source": [
    "cc_pop_inc.columns"
   ]
  },
  {
   "cell_type": "code",
   "execution_count": 49,
   "metadata": {},
   "outputs": [
    {
     "name": "stdout",
     "output_type": "stream",
     "text": [
      "+--------+--------------------+----------+------------+\n",
      "|zip_code|Number_of_Complaints|population|Total_Income|\n",
      "+--------+--------------------+----------+------------+\n",
      "|   11563|                 540|     22666|      286397|\n",
      "|   11563|                 540|     22666|      380004|\n",
      "|   11563|                 540|     22666|      118807|\n",
      "|   11563|                 540|     22666|      106785|\n",
      "|   11563|                 540|     22666|       75937|\n",
      "+--------+--------------------+----------+------------+\n",
      "only showing top 5 rows"
     ]
    }
   ],
   "source": [
    "cc_pop_inc.select('zip_code', 'Number_of_Complaints', 'population', 'Total_Income').show(5)"
   ]
  },
  {
   "cell_type": "code",
   "execution_count": 51,
   "metadata": {},
   "outputs": [],
   "source": [
    "cc_pop_inc.createOrReplaceTempView(\"cc_pop_inc\")\n"
   ]
  },
  {
   "cell_type": "code",
   "execution_count": null,
   "metadata": {},
   "outputs": [],
   "source": []
  },
  {
   "cell_type": "code",
   "execution_count": 64,
   "metadata": {},
   "outputs": [],
   "source": [
    "avg_inc = spark.sql(\"select zip_code, Number_of_Complaints, population, Ceil(AVG(Total_Income)) average_income FROM cc_pop_inc GROUP BY zip_code, Number_of_Complaints, population\")"
   ]
  },
  {
   "cell_type": "code",
   "execution_count": 91,
   "metadata": {},
   "outputs": [
    {
     "name": "stdout",
     "output_type": "stream",
     "text": [
      "['zip_code', 'Number_of_Complaints', 'population', 'average_income']"
     ]
    }
   ],
   "source": [
    "avg_inc.columns"
   ]
  },
  {
   "cell_type": "code",
   "execution_count": 92,
   "metadata": {},
   "outputs": [
    {
     "name": "stdout",
     "output_type": "stream",
     "text": [
      "['zip_code', 'Number_of_Complaints', 'population', 'average_income']"
     ]
    }
   ],
   "source": [
    "avg_inc.columns"
   ]
  },
  {
   "cell_type": "code",
   "execution_count": 97,
   "metadata": {},
   "outputs": [],
   "source": [
    "avg_inc.createOrReplaceTempView(\"avg_inc\")"
   ]
  },
  {
   "cell_type": "code",
   "execution_count": 96,
   "metadata": {},
   "outputs": [
    {
     "name": "stdout",
     "output_type": "stream",
     "text": [
      "+--------+--------------------+----------+\n",
      "|zip_code|Number_of_Complaints|population|\n",
      "+--------+--------------------+----------+\n",
      "|   11563|                 540|     22666|\n",
      "|   11722|                 756|     35177|\n",
      "|   12529|                   6|      2859|\n",
      "|   14204|                  54|      8691|\n",
      "|   14838|                  18|      1956|\n",
      "+--------+--------------------+----------+\n",
      "only showing top 5 rows"
     ]
    }
   ],
   "source": [
    "avg_inc.select('zip_code', 'Number_of_Complaints', 'population').show(5)"
   ]
  },
  {
   "cell_type": "markdown",
   "metadata": {},
   "source": [
    "Scaling factor of 10K\n",
    "10000/30,067"
   ]
  },
  {
   "cell_type": "code",
   "execution_count": 101,
   "metadata": {},
   "outputs": [
    {
     "name": "stdout",
     "output_type": "stream",
     "text": [
      "+--------+------------------+\n",
      "|zip_code|Average_Complaints|\n",
      "+--------+------------------+\n",
      "|   75964| 2.985520226899537|\n",
      "|   54501| 2.997152704930316|\n",
      "|   49091| 3.019323671497584|\n",
      "|   13901|3.0344409042633895|\n",
      "|   44654|3.0489354133848265|\n",
      "|   85546| 3.049245311785333|\n",
      "|   49783|3.0506406345332517|\n",
      "|   77011| 3.069524735253492|\n",
      "|   47710|3.0726686126901215|\n",
      "|   49735|3.0745580322828596|\n",
      "|   89706|3.0753459764223474|\n",
      "|   79045| 3.081189339084887|\n",
      "|   46012|3.0905532090244154|\n",
      "|   53094| 3.130053732589076|\n",
      "|   82007| 3.142019271051529|\n",
      "|   17745| 3.147458427319939|\n",
      "|   80751|  3.18184228668399|\n",
      "|   29307|  3.19982934243507|\n",
      "|   31750|3.2107882485150103|\n",
      "|   72801|3.2111319240032112|\n",
      "|   73036|3.2266738370529713|\n",
      "|   44622|3.2278889606197545|\n",
      "|   94519| 3.251503820516989|\n",
      "|   38901| 3.260337988371461|\n",
      "|   57301|3.2653061224489797|\n",
      "|   29627|3.2667283715359066|\n",
      "|   40361|3.2930845225027445|\n",
      "|   16201|3.2941693203030638|\n",
      "|   67208|3.3037828313418864|\n",
      "|   44820|3.3145508783559827|\n",
      "|   35903|3.3171163202122957|\n",
      "|   67042|3.3390839779620456|\n",
      "|   39562| 3.349709691826708|\n",
      "|   48838| 3.358898281363713|\n",
      "|   77029| 3.368137420006736|\n",
      "|   79108|3.3848584000902626|\n",
      "|   61603| 3.409090909090909|\n",
      "|   38372|3.4100596760443307|\n",
      "|   97424|3.4102534955098327|\n",
      "|   75965| 3.410835086123586|\n",
      "|   31533|  3.42974734194581|\n",
      "|   55437|3.4317089910775564|\n",
      "|   74401| 3.433279926756695|\n",
      "|   51103|3.4378043889302696|\n",
      "|   12831| 3.445107946715664|\n",
      "|   47720|3.4457014873944756|\n",
      "|   49829|3.4588113218423935|\n",
      "|   48051|3.4644032565390614|\n",
      "|   73139| 3.477656059815684|\n",
      "|   28365|3.4997666822211855|\n",
      "+--------+------------------+\n",
      "only showing top 50 rows"
     ]
    }
   ],
   "source": [
    "spark.sql(\"SELECT zip_code, Number_of_Complaints/population*10000 as Average_Complaints FROM avg_inc ORDER BY Number_of_Complaints/population*10000 \").show(50)"
   ]
  },
  {
   "cell_type": "code",
   "execution_count": 105,
   "metadata": {},
   "outputs": [
    {
     "name": "stdout",
     "output_type": "stream",
     "text": [
      "+--------+------------------+--------------+\n",
      "|zip_code|Average_Complaints|average_income|\n",
      "+--------+------------------+--------------+\n",
      "|   11563|238.24230124415425|        167009|\n",
      "|   11722|214.91315348096768|        136987|\n",
      "+--------+------------------+--------------+\n",
      "only showing top 2 rows"
     ]
    }
   ],
   "source": [
    "spark.sql(\"SELECT zip_code, Number_of_Complaints/population*10000 as Average_Complaints, average_income FROM avg_inc\").show(2)"
   ]
  },
  {
   "cell_type": "markdown",
   "metadata": {},
   "source": [
    "Adding a scale of 10000"
   ]
  },
  {
   "cell_type": "code",
   "execution_count": 108,
   "metadata": {},
   "outputs": [],
   "source": [
    "avgcc = spark.sql(\"SELECT zip_code as zipcode_avgcc, CEIL(Number_of_Complaints/population*10000) as Average_Complaints, Average_Income FROM avg_inc\")"
   ]
  },
  {
   "cell_type": "code",
   "execution_count": 111,
   "metadata": {},
   "outputs": [
    {
     "name": "stdout",
     "output_type": "stream",
     "text": [
      "['zipcode_avgcc', 'Average_Complaints', 'Average_Income']"
     ]
    }
   ],
   "source": [
    "avgcc.columns"
   ]
  },
  {
   "cell_type": "code",
   "execution_count": 112,
   "metadata": {},
   "outputs": [
    {
     "name": "stdout",
     "output_type": "stream",
     "text": [
      "['date_received', 'product', 'sub_product', 'issue', 'sub_issue', 'consumer_complaint_narrative', 'company_public_response', 'company', 'state', 'zip_code', 'tags', 'consumer_consent_provided', 'submitted_via', 'date_sent_to_company', 'company_response', 'timely_response', 'consumer_disputed', 'complaint_id', 'population', 'c_zipcode', 'zipcode_income', 'Total_Income', 'NUMDEP', 'zipcode_agg', 'Number_of_Complaints', 'zipcode_avgcc', 'Average_Complaints', 'Average_Income']"
     ]
    }
   ],
   "source": [
    "joinExpression4 = avgcc[\"zipcode_avgcc\"] == cc_pop_inc['zip_code']\n",
    "joinType = \"inner\"\n",
    "avgcc_inc_All_5May = cc_pop_inc.join(avgcc, joinExpression4, joinType)\n",
    "avgcc_inc_All_5May.columns"
   ]
  },
  {
   "cell_type": "code",
   "execution_count": 113,
   "metadata": {},
   "outputs": [],
   "source": [
    "avgcc_inc_All_5May.write.parquet(\"s3://snehalpreprocessedfiles/Dataframes_equi_wells/avgcc_inc_All_5May.pq\")"
   ]
  },
  {
   "cell_type": "code",
   "execution_count": null,
   "metadata": {},
   "outputs": [],
   "source": []
  }
 ],
 "metadata": {
  "kernelspec": {
   "display_name": "PySpark3",
   "language": "",
   "name": "pyspark3kernel"
  },
  "language_info": {
   "codemirror_mode": {
    "name": "python",
    "version": 3
   },
   "mimetype": "text/x-python",
   "name": "pyspark3",
   "pygments_lexer": "python3"
  }
 },
 "nbformat": 4,
 "nbformat_minor": 2
}
